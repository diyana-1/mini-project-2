{
 "cells": [
  {
   "cell_type": "markdown",
   "id": "2b515cbb-400b-4a34-b417-69cbec978463",
   "metadata": {},
   "source": [
    "# 📚 INTRODUCTION                                               \n",
    "In recent years, the mental health of students has become a growing concern in academic institutions worldwide. With increasing academic pressure, social expectations and lifestyle changes, students are often faced with emotional and psychological challenges that can affect their overall well-being and academic performance. Issues such as stress, anxiety and depression are no longer uncommon among students, highlighting the need for deeper analysis and early intervention.\n",
    "\n",
    "This mini project aims to explore and analyze various factors influencing student mental health using a previously collected dataset. The dataset includes variables related to academic pressure, environmental conditions, personal attributes and social interactions. By leveraging data analytics tools and techniques, this project seeks to uncover patterns and relationships between these factors and students’ mental health outcomes.\n",
    "\n",
    "An interactive dashboard will be developed using Streamlit, a popular Python library for building data apps, to allow users to visualize and interact with the data. The dashboard will serve as a useful tool for educators, counselors and decision-makers to gain insights and promote mental health awareness among students."
   ]
  },
  {
   "cell_type": "markdown",
   "id": "dfe7a34a-6ea1-4b7a-8770-5f5f0605630b",
   "metadata": {},
   "source": [
    "# 🎯  OBJECTIVES \n",
    "\n",
    "1. To analyze the impact of academic-related stressors on student mental health. This objective aims to examine how variables such as study load, academic performance and teacher-student relationships affect students' levels of stress and anxiety.\n",
    "\n",
    "2. To investigate the influence of lifestyle and environmental conditions on psychological well-being.\n",
    "This includes exploring the relationship between factors like sleep quality, noise level, living conditions and basic needs with issues such as depression, headaches and breathing difficulties.\n",
    "\n",
    "3. To evaluate the effect of personal and social support factors on mental health outcomes.\n",
    "The focus here is on understanding how self-esteem, social support and peer pressure correlate with overall mental wellness and coping mechanisms among students.\n",
    "\n",
    "4. To develop an interactive Streamlit dashboard for visualizing student mental health trends.\n",
    "The dashboard will provide users with dynamic filtering, visual insights and trend analysis to better understand the contributing factors to student mental health challenges."
   ]
  },
  {
   "cell_type": "code",
   "execution_count": 17,
   "id": "b365522b-fee3-46c3-babc-68dd49707f9c",
   "metadata": {},
   "outputs": [
    {
     "name": "stdout",
     "output_type": "stream",
     "text": [
      "<class 'pandas.core.frame.DataFrame'>\n",
      "RangeIndex: 1100 entries, 0 to 1099\n",
      "Data columns (total 21 columns):\n",
      " #   Column                        Non-Null Count  Dtype\n",
      "---  ------                        --------------  -----\n",
      " 0   anxiety_level                 1100 non-null   int64\n",
      " 1   self_esteem                   1100 non-null   int64\n",
      " 2   mental_health_history         1100 non-null   int64\n",
      " 3   depression                    1100 non-null   int64\n",
      " 4   headache                      1100 non-null   int64\n",
      " 5   blood_pressure                1100 non-null   int64\n",
      " 6   sleep_quality                 1100 non-null   int64\n",
      " 7   breathing_problem             1100 non-null   int64\n",
      " 8   noise_level                   1100 non-null   int64\n",
      " 9   living_conditions             1100 non-null   int64\n",
      " 10  safety                        1100 non-null   int64\n",
      " 11  basic_needs                   1100 non-null   int64\n",
      " 12  academic_performance          1100 non-null   int64\n",
      " 13  study_load                    1100 non-null   int64\n",
      " 14  teacher_student_relationship  1100 non-null   int64\n",
      " 15  future_career_concerns        1100 non-null   int64\n",
      " 16  social_support                1100 non-null   int64\n",
      " 17  peer_pressure                 1100 non-null   int64\n",
      " 18  extracurricular_activities    1100 non-null   int64\n",
      " 19  bullying                      1100 non-null   int64\n",
      " 20  stress_level                  1100 non-null   int64\n",
      "dtypes: int64(21)\n",
      "memory usage: 180.6 KB\n"
     ]
    }
   ],
   "source": [
    "import streamlit as st\n",
    "import pandas as pd\n",
    "import matplotlib.pyplot as plt\n",
    "import plotly as px\n",
    "DF = pd.read_csv('StressLevelDataset.csv')\n",
    "DF.info()"
   ]
  },
  {
   "cell_type": "code",
   "execution_count": 18,
   "id": "2ae52c4d-cd96-4b24-aba9-0f9bac5dfd38",
   "metadata": {},
   "outputs": [
    {
     "data": {
      "application/vnd.plotly.v1+json": {
       "config": {
        "plotlyServerURL": "https://plot.ly"
       },
       "data": [
        {
         "alignmentgroup": "True",
         "box": {
          "visible": true
         },
         "hovertemplate": "academic_performance=%{x}<br>anxiety_level=%{y}<extra></extra>",
         "legendgroup": "",
         "marker": {
          "color": "#FF9800"
         },
         "name": "",
         "offsetgroup": "",
         "orientation": "v",
         "points": "all",
         "scalegroup": "True",
         "showlegend": false,
         "type": "violin",
         "x": {
          "_inputArray": {
           "0": 3,
           "1": 1,
           "10": 1,
           "100": 0,
           "1000": 3,
           "1001": 2,
           "1002": 4,
           "1003": 0,
           "1004": 4,
           "1005": 5,
           "1006": 2,
           "1007": 4,
           "1008": 3,
           "1009": 2,
           "101": 4,
           "1010": 3,
           "1011": 0,
           "1012": 4,
           "1013": 5,
           "1014": 4,
           "1015": 2,
           "1016": 4,
           "1017": 4,
           "1018": 4,
           "1019": 2,
           "102": 3,
           "1020": 5,
           "1021": 3,
           "1022": 1,
           "1023": 4,
           "1024": 5,
           "1025": 1,
           "1026": 0,
           "1027": 2,
           "1028": 1,
           "1029": 1,
           "103": 2,
           "1030": 5,
           "1031": 3,
           "1032": 2,
           "1033": 4,
           "1034": 2,
           "1035": 0,
           "1036": 5,
           "1037": 0,
           "1038": 2,
           "1039": 2,
           "104": 4,
           "1040": 2,
           "1041": 2,
           "1042": 3,
           "1043": 2,
           "1044": 1,
           "1045": 2,
           "1046": 3,
           "1047": 3,
           "1048": 1,
           "1049": 5,
           "105": 4,
           "1050": 4,
           "1051": 5,
           "1052": 2,
           "1053": 5,
           "1054": 1,
           "1055": 4,
           "1056": 4,
           "1057": 3,
           "1058": 3,
           "1059": 2,
           "106": 1,
           "1060": 1,
           "1061": 5,
           "1062": 4,
           "1063": 5,
           "1064": 1,
           "1065": 3,
           "1066": 1,
           "1067": 3,
           "1068": 5,
           "1069": 3,
           "107": 4,
           "1070": 1,
           "1071": 2,
           "1072": 2,
           "1073": 0,
           "1074": 2,
           "1075": 2,
           "1076": 1,
           "1077": 5,
           "1078": 5,
           "1079": 4,
           "108": 2,
           "1080": 4,
           "1081": 1,
           "1082": 3,
           "1083": 1,
           "1084": 4,
           "1085": 2,
           "1086": 2,
           "1087": 5,
           "1088": 2,
           "1089": 2,
           "109": 2,
           "1090": 0,
           "1091": 1,
           "1092": 3,
           "1093": 5,
           "1094": 2,
           "1095": 2,
           "1096": 0,
           "1097": 5,
           "1098": 2,
           "1099": 3,
           "11": 1,
           "110": 5,
           "111": 2,
           "112": 4,
           "113": 2,
           "114": 1,
           "115": 1,
           "116": 2,
           "117": 1,
           "118": 2,
           "119": 2,
           "12": 5,
           "120": 5,
           "121": 1,
           "122": 4,
           "123": 2,
           "124": 2,
           "125": 4,
           "126": 3,
           "127": 4,
           "128": 3,
           "129": 3,
           "13": 1,
           "130": 4,
           "131": 3,
           "132": 4,
           "133": 2,
           "134": 2,
           "135": 1,
           "136": 5,
           "137": 2,
           "138": 4,
           "139": 2,
           "14": 4,
           "140": 2,
           "141": 2,
           "142": 2,
           "143": 4,
           "144": 1,
           "145": 4,
           "146": 3,
           "147": 2,
           "148": 2,
           "149": 2,
           "15": 3,
           "150": 5,
           "151": 2,
           "152": 3,
           "153": 2,
           "154": 2,
           "155": 2,
           "156": 4,
           "157": 2,
           "158": 4,
           "159": 4,
           "16": 5,
           "160": 3,
           "161": 2,
           "162": 2,
           "163": 2,
           "164": 5,
           "165": 1,
           "166": 2,
           "167": 4,
           "168": 3,
           "169": 3,
           "17": 4,
           "170": 5,
           "171": 1,
           "172": 3,
           "173": 5,
           "174": 5,
           "175": 1,
           "176": 1,
           "177": 1,
           "178": 1,
           "179": 0,
           "18": 2,
           "180": 4,
           "181": 2,
           "182": 2,
           "183": 5,
           "184": 3,
           "185": 1,
           "186": 2,
           "187": 5,
           "188": 3,
           "189": 2,
           "19": 1,
           "190": 5,
           "191": 2,
           "192": 1,
           "193": 3,
           "194": 5,
           "195": 2,
           "196": 2,
           "197": 4,
           "198": 2,
           "199": 3,
           "2": 2,
           "20": 5,
           "200": 1,
           "201": 1,
           "202": 2,
           "203": 3,
           "204": 2,
           "205": 2,
           "206": 1,
           "207": 2,
           "208": 2,
           "209": 0,
           "21": 2,
           "210": 2,
           "211": 1,
           "212": 4,
           "213": 2,
           "214": 5,
           "215": 1,
           "216": 3,
           "217": 3,
           "218": 4,
           "219": 4,
           "22": 4,
           "220": 3,
           "221": 3,
           "222": 2,
           "223": 2,
           "224": 5,
           "225": 2,
           "226": 1,
           "227": 2,
           "228": 2,
           "229": 2,
           "23": 1,
           "230": 4,
           "231": 4,
           "232": 5,
           "233": 2,
           "234": 2,
           "235": 1,
           "236": 2,
           "237": 2,
           "238": 2,
           "239": 4,
           "24": 3,
           "240": 3,
           "241": 2,
           "242": 3,
           "243": 2,
           "244": 4,
           "245": 4,
           "246": 4,
           "247": 2,
           "248": 2,
           "249": 4,
           "25": 4,
           "250": 2,
           "251": 3,
           "252": 4,
           "253": 3,
           "254": 4,
           "255": 1,
           "256": 5,
           "257": 4,
           "258": 3,
           "259": 3,
           "26": 1,
           "260": 4,
           "261": 3,
           "262": 5,
           "263": 3,
           "264": 3,
           "265": 2,
           "266": 3,
           "267": 1,
           "268": 5,
           "269": 5,
           "27": 4,
           "270": 3,
           "271": 5,
           "272": 1,
           "273": 1,
           "274": 5,
           "275": 4,
           "276": 1,
           "277": 2,
           "278": 5,
           "279": 2,
           "28": 3,
           "280": 1,
           "281": 4,
           "282": 2,
           "283": 1,
           "284": 4,
           "285": 2,
           "286": 2,
           "287": 5,
           "288": 1,
           "289": 2,
           "29": 2,
           "290": 1,
           "291": 5,
           "292": 5,
           "293": 3,
           "294": 1,
           "295": 4,
           "296": 4,
           "297": 3,
           "298": 2,
           "299": 3,
           "3": 2,
           "30": 4,
           "300": 4,
           "301": 2,
           "302": 0,
           "303": 1,
           "304": 4,
           "305": 0,
           "306": 5,
           "307": 2,
           "308": 2,
           "309": 2,
           "31": 3,
           "310": 5,
           "311": 2,
           "312": 5,
           "313": 2,
           "314": 4,
           "315": 5,
           "316": 2,
           "317": 4,
           "318": 4,
           "319": 2,
           "32": 2,
           "320": 2,
           "321": 4,
           "322": 2,
           "323": 1,
           "324": 4,
           "325": 3,
           "326": 4,
           "327": 5,
           "328": 2,
           "329": 2,
           "33": 3,
           "330": 2,
           "331": 4,
           "332": 4,
           "333": 5,
           "334": 3,
           "335": 4,
           "336": 2,
           "337": 5,
           "338": 5,
           "339": 5,
           "34": 5,
           "340": 2,
           "341": 3,
           "342": 2,
           "343": 2,
           "344": 1,
           "345": 2,
           "346": 1,
           "347": 1,
           "348": 1,
           "349": 2,
           "35": 2,
           "350": 2,
           "351": 3,
           "352": 2,
           "353": 2,
           "354": 2,
           "355": 1,
           "356": 4,
           "357": 3,
           "358": 5,
           "359": 4,
           "36": 2,
           "360": 5,
           "361": 2,
           "362": 2,
           "363": 5,
           "364": 2,
           "365": 5,
           "366": 5,
           "367": 5,
           "368": 5,
           "369": 4,
           "37": 5,
           "370": 4,
           "371": 1,
           "372": 4,
           "373": 3,
           "374": 2,
           "375": 2,
           "376": 3,
           "377": 5,
           "378": 2,
           "379": 2,
           "38": 1,
           "380": 3,
           "381": 4,
           "382": 1,
           "383": 2,
           "384": 0,
           "385": 1,
           "386": 2,
           "387": 3,
           "388": 1,
           "389": 5,
           "39": 5,
           "390": 2,
           "391": 1,
           "392": 2,
           "393": 5,
           "394": 1,
           "395": 4,
           "396": 0,
           "397": 4,
           "398": 2,
           "399": 2,
           "4": 4,
           "40": 4,
           "400": 1,
           "401": 1,
           "402": 4,
           "403": 1,
           "404": 3,
           "405": 4,
           "406": 2,
           "407": 4,
           "408": 5,
           "409": 2,
           "41": 5,
           "410": 2,
           "411": 4,
           "412": 2,
           "413": 3,
           "414": 3,
           "415": 2,
           "416": 1,
           "417": 2,
           "418": 5,
           "419": 5,
           "42": 5,
           "420": 2,
           "421": 5,
           "422": 1,
           "423": 1,
           "424": 2,
           "425": 5,
           "426": 2,
           "427": 3,
           "428": 4,
           "429": 2,
           "43": 2,
           "430": 5,
           "431": 3,
           "432": 4,
           "433": 4,
           "434": 5,
           "435": 2,
           "436": 4,
           "437": 5,
           "438": 4,
           "439": 5,
           "44": 2,
           "440": 5,
           "441": 3,
           "442": 4,
           "443": 2,
           "444": 3,
           "445": 2,
           "446": 1,
           "447": 2,
           "448": 1,
           "449": 5,
           "45": 4,
           "450": 2,
           "451": 4,
           "452": 0,
           "453": 1,
           "454": 4,
           "455": 2,
           "456": 5,
           "457": 1,
           "458": 2,
           "459": 1,
           "46": 1,
           "460": 2,
           "461": 1,
           "462": 3,
           "463": 3,
           "464": 1,
           "465": 5,
           "466": 1,
           "467": 2,
           "468": 4,
           "469": 1,
           "47": 4,
           "470": 2,
           "471": 2,
           "472": 5,
           "473": 5,
           "474": 4,
           "475": 5,
           "476": 0,
           "477": 2,
           "478": 3,
           "479": 4,
           "48": 3,
           "480": 1,
           "481": 1,
           "482": 4,
           "483": 1,
           "484": 1,
           "485": 1,
           "486": 4,
           "487": 4,
           "488": 4,
           "489": 2,
           "49": 4,
           "490": 2,
           "491": 1,
           "492": 3,
           "493": 1,
           "494": 3,
           "495": 3,
           "496": 0,
           "497": 5,
           "498": 2,
           "499": 1,
           "5": 2,
           "50": 4,
           "500": 5,
           "501": 2,
           "502": 4,
           "503": 1,
           "504": 2,
           "505": 4,
           "506": 3,
           "507": 2,
           "508": 1,
           "509": 5,
           "51": 2,
           "510": 4,
           "511": 3,
           "512": 4,
           "513": 1,
           "514": 2,
           "515": 2,
           "516": 2,
           "517": 5,
           "518": 2,
           "519": 3,
           "52": 5,
           "520": 2,
           "521": 3,
           "522": 2,
           "523": 1,
           "524": 3,
           "525": 2,
           "526": 5,
           "527": 1,
           "528": 3,
           "529": 5,
           "53": 2,
           "530": 5,
           "531": 3,
           "532": 2,
           "533": 4,
           "534": 1,
           "535": 1,
           "536": 2,
           "537": 1,
           "538": 2,
           "539": 2,
           "54": 3,
           "540": 1,
           "541": 4,
           "542": 2,
           "543": 5,
           "544": 5,
           "545": 1,
           "546": 3,
           "547": 5,
           "548": 3,
           "549": 2,
           "55": 2,
           "550": 4,
           "551": 3,
           "552": 4,
           "553": 2,
           "554": 5,
           "555": 5,
           "556": 4,
           "557": 1,
           "558": 2,
           "559": 5,
           "56": 3,
           "560": 3,
           "561": 2,
           "562": 1,
           "563": 2,
           "564": 3,
           "565": 2,
           "566": 4,
           "567": 2,
           "568": 4,
           "569": 2,
           "57": 5,
           "570": 2,
           "571": 2,
           "572": 1,
           "573": 4,
           "574": 2,
           "575": 3,
           "576": 4,
           "577": 2,
           "578": 3,
           "579": 5,
           "58": 4,
           "580": 2,
           "581": 4,
           "582": 5,
           "583": 4,
           "584": 4,
           "585": 2,
           "586": 4,
           "587": 1,
           "588": 5,
           "589": 1,
           "59": 5,
           "590": 3,
           "591": 1,
           "592": 1,
           "593": 2,
           "594": 2,
           "595": 3,
           "596": 2,
           "597": 2,
           "598": 3,
           "599": 4,
           "6": 5,
           "60": 5,
           "600": 4,
           "601": 2,
           "602": 2,
           "603": 2,
           "604": 5,
           "605": 5,
           "606": 0,
           "607": 2,
           "608": 3,
           "609": 5,
           "61": 0,
           "610": 3,
           "611": 2,
           "612": 2,
           "613": 5,
           "614": 5,
           "615": 3,
           "616": 1,
           "617": 3,
           "618": 2,
           "619": 2,
           "62": 4,
           "620": 2,
           "621": 5,
           "622": 2,
           "623": 2,
           "624": 4,
           "625": 3,
           "626": 2,
           "627": 2,
           "628": 5,
           "629": 2,
           "63": 2,
           "630": 4,
           "631": 1,
           "632": 2,
           "633": 1,
           "634": 2,
           "635": 1,
           "636": 2,
           "637": 2,
           "638": 5,
           "639": 2,
           "64": 2,
           "640": 4,
           "641": 2,
           "642": 1,
           "643": 5,
           "644": 2,
           "645": 2,
           "646": 4,
           "647": 4,
           "648": 5,
           "649": 1,
           "65": 5,
           "650": 4,
           "651": 5,
           "652": 4,
           "653": 4,
           "654": 5,
           "655": 2,
           "656": 1,
           "657": 5,
           "658": 3,
           "659": 3,
           "66": 2,
           "660": 2,
           "661": 2,
           "662": 1,
           "663": 5,
           "664": 5,
           "665": 2,
           "666": 2,
           "667": 5,
           "668": 0,
           "669": 2,
           "67": 3,
           "670": 3,
           "671": 5,
           "672": 5,
           "673": 3,
           "674": 3,
           "675": 1,
           "676": 3,
           "677": 2,
           "678": 4,
           "679": 3,
           "68": 2,
           "680": 1,
           "681": 5,
           "682": 2,
           "683": 4,
           "684": 2,
           "685": 4,
           "686": 1,
           "687": 1,
           "688": 4,
           "689": 2,
           "69": 3,
           "690": 0,
           "691": 5,
           "692": 4,
           "693": 4,
           "694": 5,
           "695": 5,
           "696": 3,
           "697": 4,
           "698": 2,
           "699": 2,
           "7": 1,
           "70": 5,
           "700": 1,
           "701": 5,
           "702": 5,
           "703": 2,
           "704": 5,
           "705": 5,
           "706": 1,
           "707": 5,
           "708": 1,
           "709": 2,
           "71": 2,
           "710": 2,
           "711": 2,
           "712": 3,
           "713": 2,
           "714": 2,
           "715": 4,
           "716": 2,
           "717": 1,
           "718": 2,
           "719": 2,
           "72": 5,
           "720": 2,
           "721": 1,
           "722": 2,
           "723": 4,
           "724": 2,
           "725": 3,
           "726": 2,
           "727": 1,
           "728": 1,
           "729": 5,
           "73": 5,
           "730": 4,
           "731": 4,
           "732": 1,
           "733": 2,
           "734": 2,
           "735": 5,
           "736": 2,
           "737": 2,
           "738": 1,
           "739": 3,
           "74": 1,
           "740": 3,
           "741": 5,
           "742": 4,
           "743": 3,
           "744": 4,
           "745": 3,
           "746": 2,
           "747": 2,
           "748": 2,
           "749": 4,
           "75": 1,
           "750": 3,
           "751": 4,
           "752": 2,
           "753": 5,
           "754": 2,
           "755": 2,
           "756": 2,
           "757": 2,
           "758": 4,
           "759": 3,
           "76": 2,
           "760": 5,
           "761": 3,
           "762": 2,
           "763": 2,
           "764": 2,
           "765": 3,
           "766": 5,
           "767": 1,
           "768": 5,
           "769": 2,
           "77": 4,
           "770": 5,
           "771": 2,
           "772": 4,
           "773": 1,
           "774": 4,
           "775": 5,
           "776": 4,
           "777": 2,
           "778": 1,
           "779": 2,
           "78": 3,
           "780": 1,
           "781": 5,
           "782": 3,
           "783": 4,
           "784": 0,
           "785": 1,
           "786": 2,
           "787": 5,
           "788": 3,
           "789": 2,
           "79": 2,
           "790": 2,
           "791": 1,
           "792": 1,
           "793": 2,
           "794": 1,
           "795": 2,
           "796": 5,
           "797": 1,
           "798": 2,
           "799": 2,
           "8": 3,
           "80": 4,
           "800": 5,
           "801": 1,
           "802": 4,
           "803": 3,
           "804": 2,
           "805": 1,
           "806": 1,
           "807": 5,
           "808": 2,
           "809": 4,
           "81": 2,
           "810": 2,
           "811": 2,
           "812": 2,
           "813": 4,
           "814": 3,
           "815": 3,
           "816": 5,
           "817": 5,
           "818": 3,
           "819": 1,
           "82": 1,
           "820": 3,
           "821": 2,
           "822": 2,
           "823": 2,
           "824": 2,
           "825": 4,
           "826": 3,
           "827": 3,
           "828": 0,
           "829": 4,
           "83": 4,
           "830": 4,
           "831": 3,
           "832": 5,
           "833": 4,
           "834": 1,
           "835": 3,
           "836": 2,
           "837": 2,
           "838": 4,
           "839": 3,
           "84": 3,
           "840": 2,
           "841": 1,
           "842": 3,
           "843": 5,
           "844": 1,
           "845": 1,
           "846": 5,
           "847": 1,
           "848": 2,
           "849": 4,
           "85": 3,
           "850": 2,
           "851": 3,
           "852": 2,
           "853": 3,
           "854": 4,
           "855": 2,
           "856": 3,
           "857": 1,
           "858": 1,
           "859": 1,
           "86": 2,
           "860": 3,
           "861": 0,
           "862": 1,
           "863": 4,
           "864": 3,
           "865": 0,
           "866": 2,
           "867": 3,
           "868": 5,
           "869": 3,
           "87": 1,
           "870": 3,
           "871": 3,
           "872": 2,
           "873": 4,
           "874": 5,
           "875": 2,
           "876": 2,
           "877": 4,
           "878": 3,
           "879": 4,
           "88": 2,
           "880": 3,
           "881": 2,
           "882": 4,
           "883": 4,
           "884": 5,
           "885": 1,
           "886": 4,
           "887": 4,
           "888": 2,
           "889": 1,
           "89": 1,
           "890": 1,
           "891": 1,
           "892": 1,
           "893": 3,
           "894": 3,
           "895": 1,
           "896": 3,
           "897": 1,
           "898": 0,
           "899": 4,
           "9": 2,
           "90": 2,
           "900": 4,
           "901": 5,
           "902": 2,
           "903": 5,
           "904": 2,
           "905": 5,
           "906": 3,
           "907": 5,
           "908": 2,
           "909": 2,
           "91": 1,
           "910": 4,
           "911": 5,
           "912": 4,
           "913": 2,
           "914": 2,
           "915": 1,
           "916": 4,
           "917": 4,
           "918": 2,
           "919": 2,
           "92": 2,
           "920": 3,
           "921": 2,
           "922": 2,
           "923": 5,
           "924": 1,
           "925": 2,
           "926": 2,
           "927": 3,
           "928": 1,
           "929": 2,
           "93": 2,
           "930": 5,
           "931": 2,
           "932": 2,
           "933": 2,
           "934": 3,
           "935": 4,
           "936": 5,
           "937": 1,
           "938": 3,
           "939": 2,
           "94": 3,
           "940": 3,
           "941": 4,
           "942": 3,
           "943": 1,
           "944": 2,
           "945": 2,
           "946": 0,
           "947": 2,
           "948": 2,
           "949": 2,
           "95": 5,
           "950": 2,
           "951": 2,
           "952": 1,
           "953": 1,
           "954": 5,
           "955": 3,
           "956": 1,
           "957": 1,
           "958": 4,
           "959": 4,
           "96": 1,
           "960": 1,
           "961": 2,
           "962": 5,
           "963": 1,
           "964": 5,
           "965": 3,
           "966": 2,
           "967": 2,
           "968": 5,
           "969": 3,
           "97": 2,
           "970": 2,
           "971": 1,
           "972": 5,
           "973": 1,
           "974": 5,
           "975": 2,
           "976": 5,
           "977": 3,
           "978": 5,
           "979": 2,
           "98": 5,
           "980": 5,
           "981": 2,
           "982": 1,
           "983": 2,
           "984": 5,
           "985": 1,
           "986": 1,
           "987": 5,
           "988": 2,
           "989": 4,
           "99": 3,
           "990": 3,
           "991": 3,
           "992": 2,
           "993": 1,
           "994": 5,
           "995": 2,
           "996": 1,
           "997": 5,
           "998": 4,
           "999": 4,
           "bdata": "AwECAgQCBQEDAgEBBQEEAwUEAgEFAgQBAwQBBAMCBAMCAwUCAgUBBQQFBQICBAEEAwQEAgUCAwIDBQQFBQAEAgIFAgMCAwUCBQUBAQIEAwIEAgEEAwMCAQIBAgECAgMFAQIFAwAEAwIEBAEEAgIFAgQCAQECAQICBQEEAgIEAwQDAwQDBAICAQUCBAICAgIEAQQDAgICBQIDAgICBAIEBAMCAgIFAQIEAwMFAQMFBQEBAQEABAICBQMBAgUDAgUCAQMFAgIEAgMBAQIDAgIBAgIAAgEEAgUBAwMEBAMDAgIFAgECAgIEBAUCAgECAgIEAwIDAgQEBAICBAIDBAMEAQUEAwMEAwUDAwIDAQUFAwUBAQUEAQIFAgEEAgEEAgIFAQIBBQUDAQQEAwIDBAIAAQQABQICAgUCBQIEBQIEBAICBAIBBAMEBQICAgQEBQMEAgUFBQIDAgIBAgEBAQICAwICAgEEAwUEBQICBQIFBQUFBAQBBAMCAgMFAgIDBAECAAECAwEFAgECBQEEAAQCAgEBBAEDBAIEBQICBAIDAwIBAgUFAgUBAQIFAgMEAgUDBAQFAgQFBAUFAwQCAwIBAgEFAgQAAQQCBQECAQIBAwMBBQECBAECAgUFBAUAAgMEAQEEAQEBBAQEAgIBAwEDAwAFAgEFAgQBAgQDAgEFBAMEAQICAgUCAwIDAgEDAgUBAwUFAwIEAQECAQICAQQCBQUBAwUDAgQDBAIFBQQBAgUDAgECAwIEAgQCAgIBBAIDBAIDBQIEBQQEAgQBBQEDAQECAgMCAgMEBAICAgUFAAIDBQMCAgUFAwEDAgICBQICBAMCAgUCBAECAQIBAgIFAgQCAQUCAgQEBQEEBQQEBQIBBQMDAgIBBQUCAgUAAgMFBQMDAQMCBAMBBQIEAgQBAQQCAAUEBAUFAwQCAgEFBQIFBQEFAQICAgMCAgQCAQICAgECBAIDAgEBBQQEAQICBQICAQMDBQQDBAMCAgIEAwQCBQICAgIEAwUDAgICAwUBBQIFAgQBBAUEAgECAQUDBAABAgUDAgIBAQIBAgUBAgIFAQQDAgEBBQIEAgICBAMDBQUDAQMCAgICBAMDAAQEAwUEAQMCAgQDAgEDBQEBBQECBAIDAgMEAgMBAQEDAAEEAwACAwUDAwMCBAUCAgQDBAMCBAQFAQQEAgEBAQEDAwEDAQAEBAUCBQIFAwUCAgQFBAICAQQEAgIDAgIFAQICAwECBQICAgMEBQEDAgMEAwECAgACAgICAgEBBQMBAQQEAQIFAQUDAgIFAwIBBQEFAgUDBQIFAgECBQEBBQIEAwMCAQUCAQUEBAMCBAAEBQIEAwIDAAQFBAIEBAQCBQMBBAUBAAIBAQUDAgQCAAUAAgICAgMCAQIDAwEFBAUCBQEEBAMDAgEFBAUBAwEDBQMBAgIAAgIBBQUEBAEDAQQCAgUCAgABAwUCAgAFAgM=",
           "dtype": "i1",
           "shape": "1100"
          },
          "bdata": "AwECAgQCBQEDAgEBBQEEAwUEAgEFAgQBAwQBBAMCBAMCAwUCAgUBBQQFBQICBAEEAwQEAgUCAwIDBQQFBQAEAgIFAgMCAwUCBQUBAQIEAwIEAgEEAwMCAQIBAgECAgMFAQIFAwAEAwIEBAEEAgIFAgQCAQECAQICBQEEAgIEAwQDAwQDBAICAQUCBAICAgIEAQQDAgICBQIDAgICBAIEBAMCAgIFAQIEAwMFAQMFBQEBAQEABAICBQMBAgUDAgUCAQMFAgIEAgMBAQIDAgIBAgIAAgEEAgUBAwMEBAMDAgIFAgECAgIEBAUCAgECAgIEAwIDAgQEBAICBAIDBAMEAQUEAwMEAwUDAwIDAQUFAwUBAQUEAQIFAgEEAgEEAgIFAQIBBQUDAQQEAwIDBAIAAQQABQICAgUCBQIEBQIEBAICBAIBBAMEBQICAgQEBQMEAgUFBQIDAgIBAgEBAQICAwICAgEEAwUEBQICBQIFBQUFBAQBBAMCAgMFAgIDBAECAAECAwEFAgECBQEEAAQCAgEBBAEDBAIEBQICBAIDAwIBAgUFAgUBAQIFAgMEAgUDBAQFAgQFBAUFAwQCAwIBAgEFAgQAAQQCBQECAQIBAwMBBQECBAECAgUFBAUAAgMEAQEEAQEBBAQEAgIBAwEDAwAFAgEFAgQBAgQDAgEFBAMEAQICAgUCAwIDAgEDAgUBAwUFAwIEAQECAQICAQQCBQUBAwUDAgQDBAIFBQQBAgUDAgECAwIEAgQCAgIBBAIDBAIDBQIEBQQEAgQBBQEDAQECAgMCAgMEBAICAgUFAAIDBQMCAgUFAwEDAgICBQICBAMCAgUCBAECAQIBAgIFAgQCAQUCAgQEBQEEBQQEBQIBBQMDAgIBBQUCAgUAAgMFBQMDAQMCBAMBBQIEAgQBAQQCAAUEBAUFAwQCAgEFBQIFBQEFAQICAgMCAgQCAQICAgECBAIDAgEBBQQEAQICBQICAQMDBQQDBAMCAgIEAwQCBQICAgIEAwUDAgICAwUBBQIFAgQBBAUEAgECAQUDBAABAgUDAgIBAQIBAgUBAgIFAQQDAgEBBQIEAgICBAMDBQUDAQMCAgICBAMDAAQEAwUEAQMCAgQDAgEDBQEBBQECBAIDAgMEAgMBAQEDAAEEAwACAwUDAwMCBAUCAgQDBAMCBAQFAQQEAgEBAQEDAwEDAQAEBAUCBQIFAwUCAgQFBAICAQQEAgIDAgIFAQICAwECBQICAgMEBQEDAgMEAwECAgACAgICAgEBBQMBAQQEAQIFAQUDAgIFAwIBBQEFAgUDBQIFAgECBQEBBQIEAwMCAQUCAQUEBAMCBAAEBQIEAwIDAAQFBAIEBAQCBQMBBAUBAAIBAQUDAgQCAAUAAgICAgMCAQIDAwEFBAUCBQEEBAMDAgEFBAUBAwEDBQMBAgIAAgIBBQUEBAEDAQQCAgUCAgABAwUCAgAFAgM=",
          "dtype": "i1"
         },
         "x0": " ",
         "xaxis": "x",
         "y": {
          "_inputArray": {
           "0": 14,
           "1": 15,
           "10": 17,
           "100": 13,
           "1000": 13,
           "1001": 9,
           "1002": 5,
           "1003": 19,
           "1004": 6,
           "1005": 14,
           "1006": 10,
           "1007": 2,
           "1008": 12,
           "1009": 19,
           "101": 20,
           "1010": 14,
           "1011": 1,
           "1012": 0,
           "1013": 21,
           "1014": 21,
           "1015": 10,
           "1016": 3,
           "1017": 8,
           "1018": 5,
           "1019": 19,
           "102": 11,
           "1020": 5,
           "1021": 21,
           "1022": 17,
           "1023": 9,
           "1024": 5,
           "1025": 21,
           "1026": 19,
           "1027": 12,
           "1028": 17,
           "1029": 16,
           "103": 12,
           "1030": 6,
           "1031": 14,
           "1032": 18,
           "1033": 1,
           "1034": 19,
           "1035": 3,
           "1036": 7,
           "1037": 5,
           "1038": 10,
           "1039": 20,
           "104": 3,
           "1040": 5,
           "1041": 21,
           "1042": 6,
           "1043": 10,
           "1044": 15,
           "1045": 12,
           "1046": 10,
           "1047": 11,
           "1048": 20,
           "1049": 1,
           "105": 8,
           "1050": 7,
           "1051": 3,
           "1052": 14,
           "1053": 12,
           "1054": 20,
           "1055": 8,
           "1056": 2,
           "1057": 12,
           "1058": 10,
           "1059": 16,
           "106": 19,
           "1060": 15,
           "1061": 6,
           "1062": 1,
           "1063": 1,
           "1064": 16,
           "1065": 11,
           "1066": 21,
           "1067": 14,
           "1068": 2,
           "1069": 13,
           "107": 3,
           "1070": 19,
           "1071": 16,
           "1072": 15,
           "1073": 14,
           "1074": 10,
           "1075": 13,
           "1076": 15,
           "1077": 4,
           "1078": 0,
           "1079": 3,
           "108": 16,
           "1080": 2,
           "1081": 15,
           "1082": 10,
           "1083": 21,
           "1084": 6,
           "1085": 19,
           "1086": 9,
           "1087": 4,
           "1088": 20,
           "1089": 19,
           "109": 15,
           "1090": 6,
           "1091": 19,
           "1092": 13,
           "1093": 1,
           "1094": 7,
           "1095": 11,
           "1096": 9,
           "1097": 4,
           "1098": 21,
           "1099": 18,
           "11": 17,
           "110": 1,
           "111": 17,
           "112": 5,
           "113": 9,
           "114": 3,
           "115": 17,
           "116": 13,
           "117": 19,
           "118": 18,
           "119": 9,
           "12": 5,
           "120": 6,
           "121": 18,
           "122": 7,
           "123": 9,
           "124": 13,
           "125": 19,
           "126": 13,
           "127": 6,
           "128": 14,
           "129": 14,
           "13": 9,
           "130": 5,
           "131": 12,
           "132": 20,
           "133": 14,
           "134": 11,
           "135": 7,
           "136": 6,
           "137": 19,
           "138": 8,
           "139": 10,
           "14": 2,
           "140": 1,
           "141": 13,
           "142": 11,
           "143": 2,
           "144": 6,
           "145": 2,
           "146": 9,
           "147": 18,
           "148": 9,
           "149": 18,
           "15": 11,
           "150": 8,
           "151": 9,
           "152": 14,
           "153": 16,
           "154": 18,
           "155": 10,
           "156": 6,
           "157": 12,
           "158": 2,
           "159": 1,
           "16": 6,
           "160": 13,
           "161": 15,
           "162": 15,
           "163": 11,
           "164": 5,
           "165": 15,
           "166": 10,
           "167": 2,
           "168": 11,
           "169": 9,
           "17": 7,
           "170": 4,
           "171": 17,
           "172": 13,
           "173": 6,
           "174": 5,
           "175": 15,
           "176": 17,
           "177": 21,
           "178": 4,
           "179": 7,
           "18": 11,
           "180": 4,
           "181": 20,
           "182": 9,
           "183": 6,
           "184": 11,
           "185": 20,
           "186": 10,
           "187": 3,
           "188": 11,
           "189": 18,
           "19": 21,
           "190": 6,
           "191": 10,
           "192": 14,
           "193": 11,
           "194": 6,
           "195": 16,
           "196": 17,
           "197": 6,
           "198": 13,
           "199": 2,
           "2": 12,
           "20": 3,
           "200": 21,
           "201": 16,
           "202": 16,
           "203": 10,
           "204": 21,
           "205": 20,
           "206": 15,
           "207": 19,
           "208": 17,
           "209": 7,
           "21": 18,
           "210": 12,
           "211": 16,
           "212": 1,
           "213": 13,
           "214": 8,
           "215": 19,
           "216": 11,
           "217": 9,
           "218": 5,
           "219": 13,
           "22": 7,
           "220": 19,
           "221": 10,
           "222": 11,
           "223": 19,
           "224": 1,
           "225": 13,
           "226": 4,
           "227": 12,
           "228": 9,
           "229": 9,
           "23": 20,
           "230": 3,
           "231": 4,
           "232": 3,
           "233": 13,
           "234": 15,
           "235": 16,
           "236": 21,
           "237": 13,
           "238": 11,
           "239": 6,
           "24": 13,
           "240": 9,
           "241": 12,
           "242": 12,
           "243": 14,
           "244": 6,
           "245": 7,
           "246": 6,
           "247": 21,
           "248": 16,
           "249": 7,
           "25": 6,
           "250": 16,
           "251": 13,
           "252": 5,
           "253": 13,
           "254": 5,
           "255": 11,
           "256": 7,
           "257": 1,
           "258": 11,
           "259": 5,
           "26": 18,
           "260": 8,
           "261": 12,
           "262": 8,
           "263": 14,
           "264": 9,
           "265": 12,
           "266": 10,
           "267": 16,
           "268": 1,
           "269": 8,
           "27": 7,
           "270": 9,
           "271": 7,
           "272": 19,
           "273": 21,
           "274": 7,
           "275": 7,
           "276": 16,
           "277": 15,
           "278": 14,
           "279": 13,
           "28": 13,
           "280": 19,
           "281": 5,
           "282": 18,
           "283": 20,
           "284": 13,
           "285": 1,
           "286": 1,
           "287": 7,
           "288": 15,
           "289": 16,
           "29": 17,
           "290": 9,
           "291": 1,
           "292": 0,
           "293": 21,
           "294": 16,
           "295": 12,
           "296": 4,
           "297": 11,
           "298": 9,
           "299": 10,
           "3": 16,
           "30": 0,
           "300": 2,
           "301": 13,
           "302": 2,
           "303": 18,
           "304": 4,
           "305": 1,
           "306": 2,
           "307": 10,
           "308": 20,
           "309": 10,
           "31": 15,
           "310": 7,
           "311": 10,
           "312": 12,
           "313": 14,
           "314": 0,
           "315": 7,
           "316": 18,
           "317": 8,
           "318": 3,
           "319": 14,
           "32": 15,
           "320": 2,
           "321": 6,
           "322": 19,
           "323": 20,
           "324": 1,
           "325": 10,
           "326": 3,
           "327": 3,
           "328": 21,
           "329": 12,
           "33": 9,
           "330": 11,
           "331": 3,
           "332": 2,
           "333": 2,
           "334": 12,
           "335": 2,
           "336": 12,
           "337": 3,
           "338": 8,
           "339": 17,
           "34": 7,
           "340": 21,
           "341": 10,
           "342": 18,
           "343": 21,
           "344": 21,
           "345": 21,
           "346": 15,
           "347": 21,
           "348": 15,
           "349": 18,
           "35": 9,
           "350": 14,
           "351": 11,
           "352": 11,
           "353": 19,
           "354": 19,
           "355": 19,
           "356": 7,
           "357": 10,
           "358": 6,
           "359": 6,
           "36": 12,
           "360": 17,
           "361": 12,
           "362": 9,
           "363": 8,
           "364": 13,
           "365": 2,
           "366": 17,
           "367": 8,
           "368": 5,
           "369": 2,
           "37": 7,
           "370": 2,
           "371": 21,
           "372": 2,
           "373": 13,
           "374": 20,
           "375": 17,
           "376": 14,
           "377": 4,
           "378": 17,
           "379": 2,
           "38": 21,
           "380": 9,
           "381": 5,
           "382": 18,
           "383": 10,
           "384": 21,
           "385": 19,
           "386": 14,
           "387": 10,
           "388": 16,
           "389": 0,
           "39": 5,
           "390": 14,
           "391": 21,
           "392": 12,
           "393": 6,
           "394": 18,
           "395": 5,
           "396": 10,
           "397": 0,
           "398": 19,
           "399": 15,
           "4": 16,
           "40": 5,
           "400": 21,
           "401": 19,
           "402": 7,
           "403": 16,
           "404": 12,
           "405": 16,
           "406": 17,
           "407": 3,
           "408": 12,
           "409": 14,
           "41": 8,
           "410": 13,
           "411": 2,
           "412": 13,
           "413": 11,
           "414": 10,
           "415": 20,
           "416": 3,
           "417": 15,
           "418": 0,
           "419": 4,
           "42": 1,
           "420": 1,
           "421": 1,
           "422": 18,
           "423": 16,
           "424": 11,
           "425": 7,
           "426": 18,
           "427": 9,
           "428": 1,
           "429": 16,
           "43": 19,
           "430": 8,
           "431": 9,
           "432": 8,
           "433": 3,
           "434": 3,
           "435": 12,
           "436": 3,
           "437": 21,
           "438": 4,
           "439": 7,
           "44": 15,
           "440": 7,
           "441": 3,
           "442": 3,
           "443": 15,
           "444": 11,
           "445": 21,
           "446": 16,
           "447": 18,
           "448": 21,
           "449": 20,
           "45": 3,
           "450": 15,
           "451": 7,
           "452": 18,
           "453": 17,
           "454": 1,
           "455": 12,
           "456": 3,
           "457": 5,
           "458": 14,
           "459": 13,
           "46": 19,
           "460": 18,
           "461": 15,
           "462": 11,
           "463": 14,
           "464": 15,
           "465": 3,
           "466": 18,
           "467": 19,
           "468": 17,
           "469": 18,
           "47": 7,
           "470": 16,
           "471": 12,
           "472": 8,
           "473": 3,
           "474": 6,
           "475": 2,
           "476": 20,
           "477": 17,
           "478": 13,
           "479": 1,
           "48": 12,
           "480": 21,
           "481": 11,
           "482": 16,
           "483": 15,
           "484": 20,
           "485": 18,
           "486": 2,
           "487": 16,
           "488": 6,
           "489": 14,
           "49": 2,
           "490": 15,
           "491": 19,
           "492": 13,
           "493": 13,
           "494": 4,
           "495": 13,
           "496": 13,
           "497": 0,
           "498": 14,
           "499": 15,
           "5": 20,
           "50": 8,
           "500": 3,
           "501": 19,
           "502": 6,
           "503": 5,
           "504": 16,
           "505": 2,
           "506": 13,
           "507": 9,
           "508": 18,
           "509": 11,
           "51": 10,
           "510": 1,
           "511": 18,
           "512": 5,
           "513": 20,
           "514": 13,
           "515": 12,
           "516": 8,
           "517": 0,
           "518": 20,
           "519": 10,
           "52": 6,
           "520": 19,
           "521": 12,
           "522": 13,
           "523": 15,
           "524": 10,
           "525": 13,
           "526": 7,
           "527": 16,
           "528": 11,
           "529": 4,
           "53": 19,
           "530": 6,
           "531": 11,
           "532": 9,
           "533": 7,
           "534": 10,
           "535": 17,
           "536": 11,
           "537": 19,
           "538": 18,
           "539": 21,
           "54": 13,
           "540": 19,
           "541": 6,
           "542": 16,
           "543": 6,
           "544": 7,
           "545": 17,
           "546": 12,
           "547": 5,
           "548": 11,
           "549": 11,
           "55": 13,
           "550": 8,
           "551": 12,
           "552": 7,
           "553": 10,
           "554": 14,
           "555": 4,
           "556": 8,
           "557": 15,
           "558": 16,
           "559": 0,
           "56": 12,
           "560": 9,
           "561": 14,
           "562": 16,
           "563": 19,
           "564": 9,
           "565": 10,
           "566": 2,
           "567": 17,
           "568": 8,
           "569": 13,
           "57": 8,
           "570": 13,
           "571": 5,
           "572": 19,
           "573": 5,
           "574": 18,
           "575": 10,
           "576": 6,
           "577": 7,
           "578": 13,
           "579": 4,
           "58": 4,
           "580": 20,
           "581": 0,
           "582": 7,
           "583": 1,
           "584": 0,
           "585": 12,
           "586": 7,
           "587": 20,
           "588": 1,
           "589": 5,
           "59": 4,
           "590": 14,
           "591": 19,
           "592": 5,
           "593": 19,
           "594": 11,
           "595": 9,
           "596": 19,
           "597": 4,
           "598": 11,
           "599": 7,
           "6": 4,
           "60": 4,
           "600": 5,
           "601": 20,
           "602": 21,
           "603": 13,
           "604": 0,
           "605": 2,
           "606": 19,
           "607": 2,
           "608": 12,
           "609": 2,
           "61": 8,
           "610": 9,
           "611": 9,
           "612": 13,
           "613": 1,
           "614": 1,
           "615": 11,
           "616": 20,
           "617": 11,
           "618": 9,
           "619": 14,
           "62": 3,
           "620": 13,
           "621": 4,
           "622": 11,
           "623": 12,
           "624": 2,
           "625": 13,
           "626": 10,
           "627": 10,
           "628": 0,
           "629": 10,
           "63": 12,
           "630": 3,
           "631": 19,
           "632": 4,
           "633": 15,
           "634": 11,
           "635": 20,
           "636": 10,
           "637": 6,
           "638": 0,
           "639": 10,
           "64": 21,
           "640": 5,
           "641": 21,
           "642": 17,
           "643": 5,
           "644": 18,
           "645": 9,
           "646": 2,
           "647": 3,
           "648": 6,
           "649": 9,
           "65": 5,
           "650": 7,
           "651": 6,
           "652": 8,
           "653": 8,
           "654": 1,
           "655": 13,
           "656": 21,
           "657": 2,
           "658": 9,
           "659": 11,
           "66": 18,
           "660": 10,
           "661": 21,
           "662": 17,
           "663": 0,
           "664": 6,
           "665": 10,
           "666": 10,
           "667": 7,
           "668": 12,
           "669": 1,
           "67": 11,
           "670": 10,
           "671": 8,
           "672": 7,
           "673": 14,
           "674": 14,
           "675": 2,
           "676": 9,
           "677": 21,
           "678": 1,
           "679": 11,
           "68": 11,
           "680": 15,
           "681": 7,
           "682": 14,
           "683": 7,
           "684": 11,
           "685": 4,
           "686": 16,
           "687": 21,
           "688": 3,
           "689": 16,
           "69": 1,
           "690": 0,
           "691": 12,
           "692": 6,
           "693": 7,
           "694": 8,
           "695": 0,
           "696": 13,
           "697": 1,
           "698": 18,
           "699": 15,
           "7": 17,
           "70": 5,
           "700": 19,
           "701": 2,
           "702": 7,
           "703": 10,
           "704": 8,
           "705": 7,
           "706": 18,
           "707": 1,
           "708": 21,
           "709": 20,
           "71": 21,
           "710": 7,
           "711": 15,
           "712": 9,
           "713": 19,
           "714": 17,
           "715": 1,
           "716": 19,
           "717": 21,
           "718": 12,
           "719": 13,
           "72": 2,
           "720": 16,
           "721": 20,
           "722": 17,
           "723": 1,
           "724": 12,
           "725": 13,
           "726": 15,
           "727": 19,
           "728": 18,
           "729": 3,
           "73": 0,
           "730": 4,
           "731": 3,
           "732": 18,
           "733": 9,
           "734": 14,
           "735": 0,
           "736": 18,
           "737": 15,
           "738": 21,
           "739": 10,
           "74": 21,
           "740": 14,
           "741": 6,
           "742": 12,
           "743": 21,
           "744": 3,
           "745": 3,
           "746": 12,
           "747": 21,
           "748": 10,
           "749": 6,
           "75": 17,
           "750": 16,
           "751": 6,
           "752": 18,
           "753": 2,
           "754": 21,
           "755": 19,
           "756": 12,
           "757": 17,
           "758": 3,
           "759": 10,
           "76": 20,
           "760": 5,
           "761": 11,
           "762": 20,
           "763": 13,
           "764": 13,
           "765": 9,
           "766": 2,
           "767": 21,
           "768": 0,
           "769": 20,
           "77": 1,
           "770": 8,
           "771": 14,
           "772": 1,
           "773": 18,
           "774": 0,
           "775": 14,
           "776": 3,
           "777": 16,
           "778": 15,
           "779": 2,
           "78": 13,
           "780": 19,
           "781": 2,
           "782": 14,
           "783": 2,
           "784": 7,
           "785": 21,
           "786": 13,
           "787": 8,
           "788": 10,
           "789": 15,
           "79": 18,
           "790": 19,
           "791": 19,
           "792": 17,
           "793": 9,
           "794": 18,
           "795": 13,
           "796": 8,
           "797": 19,
           "798": 10,
           "799": 19,
           "8": 13,
           "80": 4,
           "800": 19,
           "801": 13,
           "802": 4,
           "803": 11,
           "804": 20,
           "805": 21,
           "806": 16,
           "807": 3,
           "808": 18,
           "809": 18,
           "81": 9,
           "810": 12,
           "811": 10,
           "812": 9,
           "813": 5,
           "814": 11,
           "815": 8,
           "816": 17,
           "817": 8,
           "818": 13,
           "819": 16,
           "82": 17,
           "820": 13,
           "821": 21,
           "822": 12,
           "823": 14,
           "824": 14,
           "825": 6,
           "826": 18,
           "827": 14,
           "828": 12,
           "829": 5,
           "83": 0,
           "830": 3,
           "831": 13,
           "832": 15,
           "833": 6,
           "834": 18,
           "835": 11,
           "836": 21,
           "837": 12,
           "838": 8,
           "839": 10,
           "84": 13,
           "840": 9,
           "841": 20,
           "842": 11,
           "843": 1,
           "844": 15,
           "845": 17,
           "846": 8,
           "847": 20,
           "848": 8,
           "849": 5,
           "85": 10,
           "850": 14,
           "851": 10,
           "852": 18,
           "853": 21,
           "854": 4,
           "855": 12,
           "856": 14,
           "857": 7,
           "858": 19,
           "859": 18,
           "86": 9,
           "860": 10,
           "861": 11,
           "862": 15,
           "863": 5,
           "864": 14,
           "865": 2,
           "866": 3,
           "867": 14,
           "868": 1,
           "869": 12,
           "87": 17,
           "870": 10,
           "871": 14,
           "872": 12,
           "873": 7,
           "874": 3,
           "875": 12,
           "876": 13,
           "877": 0,
           "878": 9,
           "879": 3,
           "88": 11,
           "880": 9,
           "881": 14,
           "882": 8,
           "883": 0,
           "884": 15,
           "885": 16,
           "886": 3,
           "887": 8,
           "888": 14,
           "889": 16,
           "89": 17,
           "890": 18,
           "891": 15,
           "892": 21,
           "893": 13,
           "894": 16,
           "895": 17,
           "896": 14,
           "897": 15,
           "898": 20,
           "899": 8,
           "9": 6,
           "90": 9,
           "900": 1,
           "901": 6,
           "902": 21,
           "903": 1,
           "904": 15,
           "905": 8,
           "906": 10,
           "907": 4,
           "908": 18,
           "909": 18,
           "91": 16,
           "910": 6,
           "911": 1,
           "912": 3,
           "913": 14,
           "914": 9,
           "915": 18,
           "916": 8,
           "917": 3,
           "918": 13,
           "919": 7,
           "92": 20,
           "920": 12,
           "921": 14,
           "922": 17,
           "923": 0,
           "924": 18,
           "925": 12,
           "926": 13,
           "927": 11,
           "928": 15,
           "929": 9,
           "93": 9,
           "930": 2,
           "931": 19,
           "932": 19,
           "933": 17,
           "934": 10,
           "935": 6,
           "936": 4,
           "937": 20,
           "938": 9,
           "939": 21,
           "94": 8,
           "940": 11,
           "941": 2,
           "942": 10,
           "943": 15,
           "944": 17,
           "945": 19,
           "946": 12,
           "947": 17,
           "948": 20,
           "949": 20,
           "95": 19,
           "950": 10,
           "951": 18,
           "952": 19,
           "953": 18,
           "954": 1,
           "955": 10,
           "956": 21,
           "957": 15,
           "958": 3,
           "959": 6,
           "96": 15,
           "960": 21,
           "961": 18,
           "962": 6,
           "963": 17,
           "964": 4,
           "965": 9,
           "966": 16,
           "967": 10,
           "968": 4,
           "969": 11,
           "97": 17,
           "970": 13,
           "971": 17,
           "972": 7,
           "973": 21,
           "974": 1,
           "975": 20,
           "976": 6,
           "977": 10,
           "978": 17,
           "979": 18,
           "98": 6,
           "980": 7,
           "981": 10,
           "982": 17,
           "983": 19,
           "984": 9,
           "985": 19,
           "986": 21,
           "987": 8,
           "988": 21,
           "989": 2,
           "99": 9,
           "990": 9,
           "991": 9,
           "992": 3,
           "993": 17,
           "994": 0,
           "995": 9,
           "996": 15,
           "997": 6,
           "998": 5,
           "999": 0,
           "bdata": "Dg8MEBAUBBENBhERBQkCCwYHCxUDEgcUDQYSBw0RAA8PCQcJDAcVBQUIARMPAxMHDAIICgYTDQ0MCAQEBAgDDBUFEgsLAQUVAgAVERQBDRIECREADQoJEQsRCRAUCQgTDxEGCQ0UCwwDCBMDEA8BEQUJAxENExIJBhIHCQ0TDQYODgUMFA4LBwYTCAoBDQsCBgIJEgkSCAkOEBIKBgwCAQ0PDwsFDwoCCwkEEQ0GBQ8RFQQHBBQJBgsUCgMLEgYKDgsGEBEGDQIVEBAKFRQPExEHDBABDQgTCwkFDRMKCxMBDQQMCQkDBAMNDxAVDQsGCQwMDgYHBhUQBxANBQ0FCwcBCwUIDAgOCQwKEAEICQcTFQcHEA8ODRMFEhQNAQEHDxAJAQAVEAwECwkKAg0CEgQBAgoUCgcKDA4ABxIIAw4CBhMUAQoDAxUMCwMCAgwCDAMIERUKEhUVFQ8VDxIOCwsTExMHCgYGEQwJCA0CEQgFAgIVAg0UEQ4EEQIJBRIKFRMOChAADhUMBhIFCgATDxUTBxAMEBEDDA4NAg0LChQDDwAEAQESEAsHEgkBEAgJCAMDDAMVBAcHAwMPCxUQEhUUDwcSEQEMAwUODRIPCw4PAxITERIQDAgDBgIUEQ0BFQsQDxQSAhAGDg8TDQ0EDQ0ADg8DEwYFEAINCRILARIFFA0MCAAUChMMDQ8KDQcQCwQGCwkHChELExIVEwYQBgcRDAULCwgMBwoOBAgPEAAJDhATCQoCEQgNDQUTBRIKBgcNBBQABwEADAcUAQUOEwUTCwkTBAsHBRQVDQACEwIMAgkJDQEBCxQLCQ4NBAsMAg0KCgAKAxMEDwsUCgYACgUVEQUSCQIDBgkHBggIAQ0VAgkLChURAAYKCgcMAQoIBw4OAgkVAQsPBw4HCwQQFQMQAAwGBwgADQESDxMCBwoIBxIBFRQHDwkTEQETFQwNEBQRAQwNDxMSAwQDEgkOABIPFQoOBgwVAwMMFQoGEAYSAhUTDBEDCgULFA0NCQIVABQIDgESAA4DEA8CEwIOAgcVDQgKDxMTEQkSDQgTChMTDQQLFBUQAxISDAoJBQsIEQgNEA0VDA4OBhIODAUDDQ8GEgsVDAgKCRQLAQ8RCBQIBQ4KEhUEDA4HExIKCw8FDgIDDgEMCg4MBwMMDQAJAwkOCAAPEAMIDhASDxUNEBEODxQIAQYVAQ8ICgQSEgYBAw4JEggDDQcMDhEAEgwNCw8JAhMTEQoGBBQJFQsCCg8REwwRFBQKEhMSAQoVDwMGFRIGEQQJEAoECw0RBxUBFAYKERIHChETCRMVCBUCCQkDEQAJDwYFAA0JBRMGDgoCDBMOAQAVFQoDCAUTBRURCQUVEwwREAYOEgETAwcFChQFFQYKDwwKCxQBBwMODBQIAgwKEA8GAQEQCxUOAg0TEA8OCg0PBAADAg8KFQYTCQQUEwYTDQEHCwkEFRI=",
           "dtype": "i1",
           "shape": "1100"
          },
          "bdata": "Dg8MEBAUBBENBhERBQkCCwYHCxUDEgcUDQYSBw0RAA8PCQcJDAcVBQUIARMPAxMHDAIICgYTDQ0MCAQEBAgDDBUFEgsLAQUVAgAVERQBDRIECREADQoJEQsRCRAUCQgTDxEGCQ0UCwwDCBMDEA8BEQUJAxENExIJBhIHCQ0TDQYODgUMFA4LBwYTCAoBDQsCBgIJEgkSCAkOEBIKBgwCAQ0PDwsFDwoCCwkEEQ0GBQ8RFQQHBBQJBgsUCgMLEgYKDgsGEBEGDQIVEBAKFRQPExEHDBABDQgTCwkFDRMKCxMBDQQMCQkDBAMNDxAVDQsGCQwMDgYHBhUQBxANBQ0FCwcBCwUIDAgOCQwKEAEICQcTFQcHEA8ODRMFEhQNAQEHDxAJAQAVEAwECwkKAg0CEgQBAgoUCgcKDA4ABxIIAw4CBhMUAQoDAxUMCwMCAgwCDAMIERUKEhUVFQ8VDxIOCwsTExMHCgYGEQwJCA0CEQgFAgIVAg0UEQ4EEQIJBRIKFRMOChAADhUMBhIFCgATDxUTBxAMEBEDDA4NAg0LChQDDwAEAQESEAsHEgkBEAgJCAMDDAMVBAcHAwMPCxUQEhUUDwcSEQEMAwUODRIPCw4PAxITERIQDAgDBgIUEQ0BFQsQDxQSAhAGDg8TDQ0EDQ0ADg8DEwYFEAINCRILARIFFA0MCAAUChMMDQ8KDQcQCwQGCwkHChELExIVEwYQBgcRDAULCwgMBwoOBAgPEAAJDhATCQoCEQgNDQUTBRIKBgcNBBQABwEADAcUAQUOEwUTCwkTBAsHBRQVDQACEwIMAgkJDQEBCxQLCQ4NBAsMAg0KCgAKAxMEDwsUCgYACgUVEQUSCQIDBgkHBggIAQ0VAgkLChURAAYKCgcMAQoIBw4OAgkVAQsPBw4HCwQQFQMQAAwGBwgADQESDxMCBwoIBxIBFRQHDwkTEQETFQwNEBQRAQwNDxMSAwQDEgkOABIPFQoOBgwVAwMMFQoGEAYSAhUTDBEDCgULFA0NCQIVABQIDgESAA4DEA8CEwIOAgcVDQgKDxMTEQkSDQgTChMTDQQLFBUQAxISDAoJBQsIEQgNEA0VDA4OBhIODAUDDQ8GEgsVDAgKCRQLAQ8RCBQIBQ4KEhUEDA4HExIKCw8FDgIDDgEMCg4MBwMMDQAJAwkOCAAPEAMIDhASDxUNEBEODxQIAQYVAQ8ICgQSEgYBAw4JEggDDQcMDhEAEgwNCw8JAhMTEQoGBBQJFQsCCg8REwwRFBQKEhMSAQoVDwMGFRIGEQQJEAoECw0RBxUBFAYKERIHChETCRMVCBUCCQkDEQAJDwYFAA0JBRMGDgoCDBMOAQAVFQoDCAUTBRURCQUVEwwREAYOEgETAwcFChQFFQYKDwwKCxQBBwMODBQIAgwKEA8GAQEQCxUOAg0TEA8OCg0PBAADAg8KFQYTCQQUEwYTDQEHCwkEFRI=",
          "dtype": "i1"
         },
         "y0": " ",
         "yaxis": "y"
        }
       ],
       "layout": {
        "autosize": true,
        "legend": {
         "tracegroupgap": 0
        },
        "margin": {
         "t": 60
        },
        "template": {
         "data": {
          "candlestick": [
           {
            "decreasing": {
             "line": {
              "color": "#000033"
             }
            },
            "increasing": {
             "line": {
              "color": "#000032"
             }
            },
            "type": "candlestick"
           }
          ],
          "contour": [
           {
            "colorscale": [
             [
              0,
              "#000011"
             ],
             [
              0.1111111111111111,
              "#000012"
             ],
             [
              0.2222222222222222,
              "#000013"
             ],
             [
              0.3333333333333333,
              "#000014"
             ],
             [
              0.4444444444444444,
              "#000015"
             ],
             [
              0.5555555555555556,
              "#000016"
             ],
             [
              0.6666666666666666,
              "#000017"
             ],
             [
              0.7777777777777778,
              "#000018"
             ],
             [
              0.8888888888888888,
              "#000019"
             ],
             [
              1,
              "#000020"
             ]
            ],
            "type": "contour"
           }
          ],
          "contourcarpet": [
           {
            "colorscale": [
             [
              0,
              "#000011"
             ],
             [
              0.1111111111111111,
              "#000012"
             ],
             [
              0.2222222222222222,
              "#000013"
             ],
             [
              0.3333333333333333,
              "#000014"
             ],
             [
              0.4444444444444444,
              "#000015"
             ],
             [
              0.5555555555555556,
              "#000016"
             ],
             [
              0.6666666666666666,
              "#000017"
             ],
             [
              0.7777777777777778,
              "#000018"
             ],
             [
              0.8888888888888888,
              "#000019"
             ],
             [
              1,
              "#000020"
             ]
            ],
            "type": "contourcarpet"
           }
          ],
          "heatmap": [
           {
            "colorscale": [
             [
              0,
              "#000011"
             ],
             [
              0.1111111111111111,
              "#000012"
             ],
             [
              0.2222222222222222,
              "#000013"
             ],
             [
              0.3333333333333333,
              "#000014"
             ],
             [
              0.4444444444444444,
              "#000015"
             ],
             [
              0.5555555555555556,
              "#000016"
             ],
             [
              0.6666666666666666,
              "#000017"
             ],
             [
              0.7777777777777778,
              "#000018"
             ],
             [
              0.8888888888888888,
              "#000019"
             ],
             [
              1,
              "#000020"
             ]
            ],
            "type": "heatmap"
           }
          ],
          "histogram2d": [
           {
            "colorscale": [
             [
              0,
              "#000011"
             ],
             [
              0.1111111111111111,
              "#000012"
             ],
             [
              0.2222222222222222,
              "#000013"
             ],
             [
              0.3333333333333333,
              "#000014"
             ],
             [
              0.4444444444444444,
              "#000015"
             ],
             [
              0.5555555555555556,
              "#000016"
             ],
             [
              0.6666666666666666,
              "#000017"
             ],
             [
              0.7777777777777778,
              "#000018"
             ],
             [
              0.8888888888888888,
              "#000019"
             ],
             [
              1,
              "#000020"
             ]
            ],
            "type": "histogram2d"
           }
          ],
          "icicle": [
           {
            "textfont": {
             "color": "white"
            },
            "type": "icicle"
           }
          ],
          "sankey": [
           {
            "textfont": {
             "color": "#000036"
            },
            "type": "sankey"
           }
          ],
          "scatter": [
           {
            "marker": {
             "line": {
              "width": 0
             }
            },
            "type": "scatter"
           }
          ],
          "table": [
           {
            "cells": {
             "fill": {
              "color": "#000038"
             },
             "font": {
              "color": "#000037"
             },
             "line": {
              "color": "#000039"
             }
            },
            "header": {
             "fill": {
              "color": "#000040"
             },
             "font": {
              "color": "#000036"
             },
             "line": {
              "color": "#000039"
             }
            },
            "type": "table"
           }
          ],
          "waterfall": [
           {
            "connector": {
             "line": {
              "color": "#000036",
              "width": 2
             }
            },
            "decreasing": {
             "marker": {
              "color": "#000033"
             }
            },
            "increasing": {
             "marker": {
              "color": "#000032"
             }
            },
            "totals": {
             "marker": {
              "color": "#000034"
             }
            },
            "type": "waterfall"
           }
          ]
         },
         "layout": {
          "coloraxis": {
           "colorscale": [
            [
             0,
             "#000011"
            ],
            [
             0.1111111111111111,
             "#000012"
            ],
            [
             0.2222222222222222,
             "#000013"
            ],
            [
             0.3333333333333333,
             "#000014"
            ],
            [
             0.4444444444444444,
             "#000015"
            ],
            [
             0.5555555555555556,
             "#000016"
            ],
            [
             0.6666666666666666,
             "#000017"
            ],
            [
             0.7777777777777778,
             "#000018"
            ],
            [
             0.8888888888888888,
             "#000019"
            ],
            [
             1,
             "#000020"
            ]
           ]
          },
          "colorscale": {
           "diverging": [
            [
             0,
             "#000021"
            ],
            [
             0.1,
             "#000022"
            ],
            [
             0.2,
             "#000023"
            ],
            [
             0.3,
             "#000024"
            ],
            [
             0.4,
             "#000025"
            ],
            [
             0.5,
             "#000026"
            ],
            [
             0.6,
             "#000027"
            ],
            [
             0.7,
             "#000028"
            ],
            [
             0.8,
             "#000029"
            ],
            [
             0.9,
             "#000030"
            ],
            [
             1,
             "#000031"
            ]
           ],
           "sequential": [
            [
             0,
             "#000011"
            ],
            [
             0.1111111111111111,
             "#000012"
            ],
            [
             0.2222222222222222,
             "#000013"
            ],
            [
             0.3333333333333333,
             "#000014"
            ],
            [
             0.4444444444444444,
             "#000015"
            ],
            [
             0.5555555555555556,
             "#000016"
            ],
            [
             0.6666666666666666,
             "#000017"
            ],
            [
             0.7777777777777778,
             "#000018"
            ],
            [
             0.8888888888888888,
             "#000019"
            ],
            [
             1,
             "#000020"
            ]
           ],
           "sequentialminus": [
            [
             0,
             "#000011"
            ],
            [
             0.1111111111111111,
             "#000012"
            ],
            [
             0.2222222222222222,
             "#000013"
            ],
            [
             0.3333333333333333,
             "#000014"
            ],
            [
             0.4444444444444444,
             "#000015"
            ],
            [
             0.5555555555555556,
             "#000016"
            ],
            [
             0.6666666666666666,
             "#000017"
            ],
            [
             0.7777777777777778,
             "#000018"
            ],
            [
             0.8888888888888888,
             "#000019"
            ],
            [
             1,
             "#000020"
            ]
           ]
          },
          "colorway": [
           "#000001",
           "#000002",
           "#000003",
           "#000004",
           "#000005",
           "#000006",
           "#000007",
           "#000008",
           "#000009",
           "#000010"
          ]
         }
        },
        "title": {
         "text": "Violin Plot: Anxiety Level by Academic Performance (Orange)"
        },
        "violinmode": "group",
        "xaxis": {
         "anchor": "y",
         "autorange": true,
         "domain": [
          0,
          1
         ],
         "range": [
          -0.5335195530726257,
          5.5
         ],
         "title": {
          "text": "Academic Performance"
         },
         "type": "linear"
        },
        "yaxis": {
         "anchor": "x",
         "autorange": true,
         "domain": [
          0,
          1
         ],
         "range": [
          -9.165070397877983,
          30.165070397877983
         ],
         "title": {
          "text": "Anxiety Level"
         },
         "type": "linear"
        }
       }
      }
     },
     "metadata": {},
     "output_type": "display_data"
    }
   ],
   "source": [
    "import pandas as pd\n",
    "import plotly.express as px\n",
    "\n",
    "# Load the dataset from a CSV file\n",
    "DF = pd.read_csv('StressLevelDataset.csv')\n",
    "\n",
    "# Create a violin plot to visualize the distribution of anxiety levels across different academic performance categories\n",
    "fig = px.violin(\n",
    "    DF,  # DataFrame containing the data\n",
    "    x='academic_performance',  # X-axis: Academic performance categories\n",
    "    y='anxiety_level',  # Y-axis: Anxiety levels\n",
    "    box=True,  # Add a mini-boxplot inside the violin to show median and quartiles\n",
    "    points='all',  # Display all individual data points on the plot\n",
    "    color_discrete_sequence=['#FF9800']  # Use an orange color for the violins\n",
    ")\n",
    "\n",
    "# Customize the layout: add title and axis labels\n",
    "fig.update_layout(\n",
    "    title='Violin Plot: Anxiety Level by Academic Performance (Orange)',\n",
    "    xaxis_title='Academic Performance',\n",
    "    yaxis_title='Anxiety Level'\n",
    ")\n",
    "\n",
    "# Display the plot\n",
    "fig.show()\n"
   ]
  },
  {
   "cell_type": "code",
   "execution_count": 19,
   "id": "bd57e45c-ad5e-4796-bb6e-ea5ba6bbdecc",
   "metadata": {},
   "outputs": [
    {
     "data": {
      "application/vnd.plotly.v1+json": {
       "config": {
        "plotlyServerURL": "https://plot.ly"
       },
       "data": [
        {
         "hovertemplate": "Study Load=%{x}<br>Avg Anxiety Level=%{marker.color}<extra></extra>",
         "legendgroup": "",
         "marker": {
          "color": {
           "_inputArray": {
            "0": 10.297297297297296,
            "1": 4.935135135135135,
            "2": 8.273273273273274,
            "3": 13.894545454545455,
            "4": 16.154929577464788,
            "5": 15.671875,
            "bdata": "gynyWTeYJEDZ+5oQlL0TQL8od3nqiyBAyh2g3AHKK0D1ZPx2qScwQAAAAAAAWC9A",
            "dtype": "f8",
            "shape": "6"
           },
           "bdata": "gynyWTeYJEDZ+5oQlL0TQL8od3nqiyBAyh2g3AHKK0D1ZPx2qScwQAAAAAAAWC9A",
           "dtype": "f8"
          },
          "coloraxis": "coloraxis",
          "pattern": {
           "shape": ""
          }
         },
         "name": "",
         "orientation": "v",
         "showlegend": false,
         "textposition": "auto",
         "type": "bar",
         "x": {
          "_inputArray": {
           "0": 0,
           "1": 1,
           "2": 2,
           "3": 3,
           "4": 4,
           "5": 5,
           "bdata": "AAECAwQF",
           "dtype": "i1",
           "shape": "6"
          },
          "bdata": "AAECAwQF",
          "dtype": "i1"
         },
         "xaxis": "x",
         "y": {
          "_inputArray": {
           "0": 10.297297297297296,
           "1": 4.935135135135135,
           "2": 8.273273273273274,
           "3": 13.894545454545455,
           "4": 16.154929577464788,
           "5": 15.671875,
           "bdata": "gynyWTeYJEDZ+5oQlL0TQL8od3nqiyBAyh2g3AHKK0D1ZPx2qScwQAAAAAAAWC9A",
           "dtype": "f8",
           "shape": "6"
          },
          "bdata": "gynyWTeYJEDZ+5oQlL0TQL8od3nqiyBAyh2g3AHKK0D1ZPx2qScwQAAAAAAAWC9A",
          "dtype": "f8"
         },
         "yaxis": "y"
        }
       ],
       "layout": {
        "autosize": true,
        "barmode": "relative",
        "coloraxis": {
         "colorbar": {
          "title": {
           "text": "Avg Anxiety Level"
          }
         },
         "colorscale": [
          [
           0,
           "rgb(252,251,253)"
          ],
          [
           0.125,
           "rgb(239,237,245)"
          ],
          [
           0.25,
           "rgb(218,218,235)"
          ],
          [
           0.375,
           "rgb(188,189,220)"
          ],
          [
           0.5,
           "rgb(158,154,200)"
          ],
          [
           0.625,
           "rgb(128,125,186)"
          ],
          [
           0.75,
           "rgb(106,81,163)"
          ],
          [
           0.875,
           "rgb(84,39,143)"
          ],
          [
           1,
           "rgb(63,0,125)"
          ]
         ]
        },
        "legend": {
         "tracegroupgap": 0
        },
        "template": {
         "data": {
          "candlestick": [
           {
            "decreasing": {
             "line": {
              "color": "#000033"
             }
            },
            "increasing": {
             "line": {
              "color": "#000032"
             }
            },
            "type": "candlestick"
           }
          ],
          "contour": [
           {
            "colorscale": [
             [
              0,
              "#000011"
             ],
             [
              0.1111111111111111,
              "#000012"
             ],
             [
              0.2222222222222222,
              "#000013"
             ],
             [
              0.3333333333333333,
              "#000014"
             ],
             [
              0.4444444444444444,
              "#000015"
             ],
             [
              0.5555555555555556,
              "#000016"
             ],
             [
              0.6666666666666666,
              "#000017"
             ],
             [
              0.7777777777777778,
              "#000018"
             ],
             [
              0.8888888888888888,
              "#000019"
             ],
             [
              1,
              "#000020"
             ]
            ],
            "type": "contour"
           }
          ],
          "contourcarpet": [
           {
            "colorscale": [
             [
              0,
              "#000011"
             ],
             [
              0.1111111111111111,
              "#000012"
             ],
             [
              0.2222222222222222,
              "#000013"
             ],
             [
              0.3333333333333333,
              "#000014"
             ],
             [
              0.4444444444444444,
              "#000015"
             ],
             [
              0.5555555555555556,
              "#000016"
             ],
             [
              0.6666666666666666,
              "#000017"
             ],
             [
              0.7777777777777778,
              "#000018"
             ],
             [
              0.8888888888888888,
              "#000019"
             ],
             [
              1,
              "#000020"
             ]
            ],
            "type": "contourcarpet"
           }
          ],
          "heatmap": [
           {
            "colorscale": [
             [
              0,
              "#000011"
             ],
             [
              0.1111111111111111,
              "#000012"
             ],
             [
              0.2222222222222222,
              "#000013"
             ],
             [
              0.3333333333333333,
              "#000014"
             ],
             [
              0.4444444444444444,
              "#000015"
             ],
             [
              0.5555555555555556,
              "#000016"
             ],
             [
              0.6666666666666666,
              "#000017"
             ],
             [
              0.7777777777777778,
              "#000018"
             ],
             [
              0.8888888888888888,
              "#000019"
             ],
             [
              1,
              "#000020"
             ]
            ],
            "type": "heatmap"
           }
          ],
          "histogram2d": [
           {
            "colorscale": [
             [
              0,
              "#000011"
             ],
             [
              0.1111111111111111,
              "#000012"
             ],
             [
              0.2222222222222222,
              "#000013"
             ],
             [
              0.3333333333333333,
              "#000014"
             ],
             [
              0.4444444444444444,
              "#000015"
             ],
             [
              0.5555555555555556,
              "#000016"
             ],
             [
              0.6666666666666666,
              "#000017"
             ],
             [
              0.7777777777777778,
              "#000018"
             ],
             [
              0.8888888888888888,
              "#000019"
             ],
             [
              1,
              "#000020"
             ]
            ],
            "type": "histogram2d"
           }
          ],
          "icicle": [
           {
            "textfont": {
             "color": "white"
            },
            "type": "icicle"
           }
          ],
          "sankey": [
           {
            "textfont": {
             "color": "#000036"
            },
            "type": "sankey"
           }
          ],
          "scatter": [
           {
            "marker": {
             "line": {
              "width": 0
             }
            },
            "type": "scatter"
           }
          ],
          "table": [
           {
            "cells": {
             "fill": {
              "color": "#000038"
             },
             "font": {
              "color": "#000037"
             },
             "line": {
              "color": "#000039"
             }
            },
            "header": {
             "fill": {
              "color": "#000040"
             },
             "font": {
              "color": "#000036"
             },
             "line": {
              "color": "#000039"
             }
            },
            "type": "table"
           }
          ],
          "waterfall": [
           {
            "connector": {
             "line": {
              "color": "#000036",
              "width": 2
             }
            },
            "decreasing": {
             "marker": {
              "color": "#000033"
             }
            },
            "increasing": {
             "marker": {
              "color": "#000032"
             }
            },
            "totals": {
             "marker": {
              "color": "#000034"
             }
            },
            "type": "waterfall"
           }
          ]
         },
         "layout": {
          "coloraxis": {
           "colorscale": [
            [
             0,
             "#000011"
            ],
            [
             0.1111111111111111,
             "#000012"
            ],
            [
             0.2222222222222222,
             "#000013"
            ],
            [
             0.3333333333333333,
             "#000014"
            ],
            [
             0.4444444444444444,
             "#000015"
            ],
            [
             0.5555555555555556,
             "#000016"
            ],
            [
             0.6666666666666666,
             "#000017"
            ],
            [
             0.7777777777777778,
             "#000018"
            ],
            [
             0.8888888888888888,
             "#000019"
            ],
            [
             1,
             "#000020"
            ]
           ]
          },
          "colorscale": {
           "diverging": [
            [
             0,
             "#000021"
            ],
            [
             0.1,
             "#000022"
            ],
            [
             0.2,
             "#000023"
            ],
            [
             0.3,
             "#000024"
            ],
            [
             0.4,
             "#000025"
            ],
            [
             0.5,
             "#000026"
            ],
            [
             0.6,
             "#000027"
            ],
            [
             0.7,
             "#000028"
            ],
            [
             0.8,
             "#000029"
            ],
            [
             0.9,
             "#000030"
            ],
            [
             1,
             "#000031"
            ]
           ],
           "sequential": [
            [
             0,
             "#000011"
            ],
            [
             0.1111111111111111,
             "#000012"
            ],
            [
             0.2222222222222222,
             "#000013"
            ],
            [
             0.3333333333333333,
             "#000014"
            ],
            [
             0.4444444444444444,
             "#000015"
            ],
            [
             0.5555555555555556,
             "#000016"
            ],
            [
             0.6666666666666666,
             "#000017"
            ],
            [
             0.7777777777777778,
             "#000018"
            ],
            [
             0.8888888888888888,
             "#000019"
            ],
            [
             1,
             "#000020"
            ]
           ],
           "sequentialminus": [
            [
             0,
             "#000011"
            ],
            [
             0.1111111111111111,
             "#000012"
            ],
            [
             0.2222222222222222,
             "#000013"
            ],
            [
             0.3333333333333333,
             "#000014"
            ],
            [
             0.4444444444444444,
             "#000015"
            ],
            [
             0.5555555555555556,
             "#000016"
            ],
            [
             0.6666666666666666,
             "#000017"
            ],
            [
             0.7777777777777778,
             "#000018"
            ],
            [
             0.8888888888888888,
             "#000019"
            ],
            [
             1,
             "#000020"
            ]
           ]
          },
          "colorway": [
           "#000001",
           "#000002",
           "#000003",
           "#000004",
           "#000005",
           "#000006",
           "#000007",
           "#000008",
           "#000009",
           "#000010"
          ]
         }
        },
        "title": {
         "text": "Average Anxiety Level by Study Load"
        },
        "xaxis": {
         "anchor": "y",
         "autorange": true,
         "domain": [
          0,
          1
         ],
         "range": [
          -0.5,
          5.5
         ],
         "title": {
          "text": "Study Load"
         },
         "type": "linear"
        },
        "yaxis": {
         "anchor": "x",
         "autorange": true,
         "domain": [
          0,
          1
         ],
         "range": [
          0,
          17.005189028910305
         ],
         "title": {
          "text": "Avg Anxiety Level"
         },
         "type": "linear"
        }
       }
      }
     },
     "metadata": {},
     "output_type": "display_data"
    }
   ],
   "source": [
    "import pandas as pd\n",
    "# Group the data by 'study_load' and calculate the average anxiety level for each group\n",
    "bar_data = DF.groupby('study_load')['anxiety_level'].mean().reset_index()\n",
    "\n",
    "# Create a bar chart using Plotly Express\n",
    "fig = px.bar(\n",
    "    bar_data,\n",
    "    x='study_load',\n",
    "    y='anxiety_level',\n",
    "    color='anxiety_level',\n",
    "    color_continuous_scale='purples',\n",
    "    title='Average Anxiety Level by Study Load',\n",
    "    labels={'anxiety_level': 'Avg Anxiety Level', 'study_load': 'Study Load'}  # Custom axis labels\n",
    ")\n",
    "# Display the chart\n",
    "fig.show()"
   ]
  },
  {
   "cell_type": "code",
   "execution_count": 20,
   "id": "35c17bb0-ff11-4c62-b710-72416be3711f",
   "metadata": {},
   "outputs": [
    {
     "data": {
      "application/vnd.plotly.v1+json": {
       "config": {
        "plotlyServerURL": "https://plot.ly"
       },
       "data": [
        {
         "hovertemplate": "Living Conditions=%{x}<br>Avg Headache Level=%{marker.color}<extra></extra>",
         "legendgroup": "",
         "marker": {
          "color": {
           "_inputArray": {
            "0": 3.3793103448275863,
            "1": 3.6136363636363638,
            "2": 3.2023121387283235,
            "3": 1.8073394495412844,
            "4": 1.2222222222222223,
            "5": 2.878787878787879,
            "bdata": "Po2w3NMIC0DpoosuuugMQC9gm9NVnglArs5Ixdzq/D/kOI7jOI7zPwgffPDBBwdA",
            "dtype": "f8",
            "shape": "6"
           },
           "bdata": "Po2w3NMIC0DpoosuuugMQC9gm9NVnglArs5Ixdzq/D/kOI7jOI7zPwgffPDBBwdA",
           "dtype": "f8"
          },
          "coloraxis": "coloraxis",
          "pattern": {
           "shape": ""
          }
         },
         "name": "",
         "orientation": "v",
         "showlegend": false,
         "textposition": "auto",
         "type": "bar",
         "x": {
          "_inputArray": {
           "0": 0,
           "1": 1,
           "2": 2,
           "3": 3,
           "4": 4,
           "5": 5,
           "bdata": "AAECAwQF",
           "dtype": "i1",
           "shape": "6"
          },
          "bdata": "AAECAwQF",
          "dtype": "i1"
         },
         "xaxis": "x",
         "y": {
          "_inputArray": {
           "0": 3.3793103448275863,
           "1": 3.6136363636363638,
           "2": 3.2023121387283235,
           "3": 1.8073394495412844,
           "4": 1.2222222222222223,
           "5": 2.878787878787879,
           "bdata": "Po2w3NMIC0DpoosuuugMQC9gm9NVnglArs5Ixdzq/D/kOI7jOI7zPwgffPDBBwdA",
           "dtype": "f8",
           "shape": "6"
          },
          "bdata": "Po2w3NMIC0DpoosuuugMQC9gm9NVnglArs5Ixdzq/D/kOI7jOI7zPwgffPDBBwdA",
          "dtype": "f8"
         },
         "yaxis": "y"
        }
       ],
       "layout": {
        "autosize": true,
        "barmode": "relative",
        "coloraxis": {
         "colorbar": {
          "title": {
           "text": "Avg Headache Level"
          }
         },
         "colorscale": [
          [
           0,
           "rgb(255,245,235)"
          ],
          [
           0.125,
           "rgb(254,230,206)"
          ],
          [
           0.25,
           "rgb(253,208,162)"
          ],
          [
           0.375,
           "rgb(253,174,107)"
          ],
          [
           0.5,
           "rgb(253,141,60)"
          ],
          [
           0.625,
           "rgb(241,105,19)"
          ],
          [
           0.75,
           "rgb(217,72,1)"
          ],
          [
           0.875,
           "rgb(166,54,3)"
          ],
          [
           1,
           "rgb(127,39,4)"
          ]
         ]
        },
        "legend": {
         "tracegroupgap": 0
        },
        "template": {
         "data": {
          "candlestick": [
           {
            "decreasing": {
             "line": {
              "color": "#000033"
             }
            },
            "increasing": {
             "line": {
              "color": "#000032"
             }
            },
            "type": "candlestick"
           }
          ],
          "contour": [
           {
            "colorscale": [
             [
              0,
              "#000011"
             ],
             [
              0.1111111111111111,
              "#000012"
             ],
             [
              0.2222222222222222,
              "#000013"
             ],
             [
              0.3333333333333333,
              "#000014"
             ],
             [
              0.4444444444444444,
              "#000015"
             ],
             [
              0.5555555555555556,
              "#000016"
             ],
             [
              0.6666666666666666,
              "#000017"
             ],
             [
              0.7777777777777778,
              "#000018"
             ],
             [
              0.8888888888888888,
              "#000019"
             ],
             [
              1,
              "#000020"
             ]
            ],
            "type": "contour"
           }
          ],
          "contourcarpet": [
           {
            "colorscale": [
             [
              0,
              "#000011"
             ],
             [
              0.1111111111111111,
              "#000012"
             ],
             [
              0.2222222222222222,
              "#000013"
             ],
             [
              0.3333333333333333,
              "#000014"
             ],
             [
              0.4444444444444444,
              "#000015"
             ],
             [
              0.5555555555555556,
              "#000016"
             ],
             [
              0.6666666666666666,
              "#000017"
             ],
             [
              0.7777777777777778,
              "#000018"
             ],
             [
              0.8888888888888888,
              "#000019"
             ],
             [
              1,
              "#000020"
             ]
            ],
            "type": "contourcarpet"
           }
          ],
          "heatmap": [
           {
            "colorscale": [
             [
              0,
              "#000011"
             ],
             [
              0.1111111111111111,
              "#000012"
             ],
             [
              0.2222222222222222,
              "#000013"
             ],
             [
              0.3333333333333333,
              "#000014"
             ],
             [
              0.4444444444444444,
              "#000015"
             ],
             [
              0.5555555555555556,
              "#000016"
             ],
             [
              0.6666666666666666,
              "#000017"
             ],
             [
              0.7777777777777778,
              "#000018"
             ],
             [
              0.8888888888888888,
              "#000019"
             ],
             [
              1,
              "#000020"
             ]
            ],
            "type": "heatmap"
           }
          ],
          "histogram2d": [
           {
            "colorscale": [
             [
              0,
              "#000011"
             ],
             [
              0.1111111111111111,
              "#000012"
             ],
             [
              0.2222222222222222,
              "#000013"
             ],
             [
              0.3333333333333333,
              "#000014"
             ],
             [
              0.4444444444444444,
              "#000015"
             ],
             [
              0.5555555555555556,
              "#000016"
             ],
             [
              0.6666666666666666,
              "#000017"
             ],
             [
              0.7777777777777778,
              "#000018"
             ],
             [
              0.8888888888888888,
              "#000019"
             ],
             [
              1,
              "#000020"
             ]
            ],
            "type": "histogram2d"
           }
          ],
          "icicle": [
           {
            "textfont": {
             "color": "white"
            },
            "type": "icicle"
           }
          ],
          "sankey": [
           {
            "textfont": {
             "color": "#000036"
            },
            "type": "sankey"
           }
          ],
          "scatter": [
           {
            "marker": {
             "line": {
              "width": 0
             }
            },
            "type": "scatter"
           }
          ],
          "table": [
           {
            "cells": {
             "fill": {
              "color": "#000038"
             },
             "font": {
              "color": "#000037"
             },
             "line": {
              "color": "#000039"
             }
            },
            "header": {
             "fill": {
              "color": "#000040"
             },
             "font": {
              "color": "#000036"
             },
             "line": {
              "color": "#000039"
             }
            },
            "type": "table"
           }
          ],
          "waterfall": [
           {
            "connector": {
             "line": {
              "color": "#000036",
              "width": 2
             }
            },
            "decreasing": {
             "marker": {
              "color": "#000033"
             }
            },
            "increasing": {
             "marker": {
              "color": "#000032"
             }
            },
            "totals": {
             "marker": {
              "color": "#000034"
             }
            },
            "type": "waterfall"
           }
          ]
         },
         "layout": {
          "coloraxis": {
           "colorscale": [
            [
             0,
             "#000011"
            ],
            [
             0.1111111111111111,
             "#000012"
            ],
            [
             0.2222222222222222,
             "#000013"
            ],
            [
             0.3333333333333333,
             "#000014"
            ],
            [
             0.4444444444444444,
             "#000015"
            ],
            [
             0.5555555555555556,
             "#000016"
            ],
            [
             0.6666666666666666,
             "#000017"
            ],
            [
             0.7777777777777778,
             "#000018"
            ],
            [
             0.8888888888888888,
             "#000019"
            ],
            [
             1,
             "#000020"
            ]
           ]
          },
          "colorscale": {
           "diverging": [
            [
             0,
             "#000021"
            ],
            [
             0.1,
             "#000022"
            ],
            [
             0.2,
             "#000023"
            ],
            [
             0.3,
             "#000024"
            ],
            [
             0.4,
             "#000025"
            ],
            [
             0.5,
             "#000026"
            ],
            [
             0.6,
             "#000027"
            ],
            [
             0.7,
             "#000028"
            ],
            [
             0.8,
             "#000029"
            ],
            [
             0.9,
             "#000030"
            ],
            [
             1,
             "#000031"
            ]
           ],
           "sequential": [
            [
             0,
             "#000011"
            ],
            [
             0.1111111111111111,
             "#000012"
            ],
            [
             0.2222222222222222,
             "#000013"
            ],
            [
             0.3333333333333333,
             "#000014"
            ],
            [
             0.4444444444444444,
             "#000015"
            ],
            [
             0.5555555555555556,
             "#000016"
            ],
            [
             0.6666666666666666,
             "#000017"
            ],
            [
             0.7777777777777778,
             "#000018"
            ],
            [
             0.8888888888888888,
             "#000019"
            ],
            [
             1,
             "#000020"
            ]
           ],
           "sequentialminus": [
            [
             0,
             "#000011"
            ],
            [
             0.1111111111111111,
             "#000012"
            ],
            [
             0.2222222222222222,
             "#000013"
            ],
            [
             0.3333333333333333,
             "#000014"
            ],
            [
             0.4444444444444444,
             "#000015"
            ],
            [
             0.5555555555555556,
             "#000016"
            ],
            [
             0.6666666666666666,
             "#000017"
            ],
            [
             0.7777777777777778,
             "#000018"
            ],
            [
             0.8888888888888888,
             "#000019"
            ],
            [
             1,
             "#000020"
            ]
           ]
          },
          "colorway": [
           "#000001",
           "#000002",
           "#000003",
           "#000004",
           "#000005",
           "#000006",
           "#000007",
           "#000008",
           "#000009",
           "#000010"
          ]
         }
        },
        "title": {
         "text": "Average Headache Levels by Living Conditions"
        },
        "xaxis": {
         "anchor": "y",
         "autorange": true,
         "domain": [
          0,
          1
         ],
         "range": [
          -0.5,
          5.5
         ],
         "title": {
          "text": "Living Conditions"
         },
         "type": "linear"
        },
        "yaxis": {
         "anchor": "x",
         "autorange": true,
         "domain": [
          0,
          1
         ],
         "range": [
          0,
          3.8038277511961724
         ],
         "title": {
          "text": "Avg Headache Level"
         },
         "type": "linear"
        }
       }
      }
     },
     "metadata": {},
     "output_type": "display_data"
    }
   ],
   "source": [
    "# Group the data by 'living_conditions' and calculate the average headache level for each group\n",
    "avg = DF.groupby('living_conditions')['headache'].mean().reset_index()\n",
    "# Create a bar chart using Plotly Express\n",
    "fig = px.bar(\n",
    "    avg, x='living_conditions', y='headache',\n",
    "    title='Average Headache Levels by Living Conditions',\n",
    "    labels={'living_conditions':'Living Conditions','headache':'Avg Headache Level'}, # Axis labels for clarity\n",
    "    color='headache', color_continuous_scale='oranges'\n",
    ")\n",
    "# Display the chart\n",
    "fig.show()"
   ]
  },
  {
   "cell_type": "code",
   "execution_count": 21,
   "id": "08169f8d-3f26-419b-a143-2eea6847e03f",
   "metadata": {},
   "outputs": [
    {
     "data": {
      "application/vnd.plotly.v1+json": {
       "config": {
        "plotlyServerURL": "https://plot.ly"
       },
       "data": [
        {
         "hovertemplate": "Self Esteem=%{x}<br>Depression=%{y}<br>peer_pressure=%{marker.color}<extra></extra>",
         "legendgroup": "",
         "marker": {
          "color": {
           "_inputArray": {
            "0": 3,
            "1": 4,
            "10": 4,
            "100": 3,
            "1000": 3,
            "1001": 2,
            "1002": 5,
            "1003": 4,
            "1004": 2,
            "1005": 3,
            "1006": 2,
            "1007": 1,
            "1008": 3,
            "1009": 4,
            "101": 1,
            "1010": 3,
            "1011": 2,
            "1012": 2,
            "1013": 3,
            "1014": 3,
            "1015": 2,
            "1016": 1,
            "1017": 2,
            "1018": 2,
            "1019": 4,
            "102": 2,
            "1020": 1,
            "1021": 1,
            "1022": 5,
            "1023": 3,
            "1024": 1,
            "1025": 4,
            "1026": 4,
            "1027": 2,
            "1028": 4,
            "1029": 4,
            "103": 3,
            "1030": 2,
            "1031": 3,
            "1032": 4,
            "1033": 2,
            "1034": 5,
            "1035": 1,
            "1036": 2,
            "1037": 3,
            "1038": 3,
            "1039": 5,
            "104": 1,
            "1040": 3,
            "1041": 5,
            "1042": 0,
            "1043": 2,
            "1044": 5,
            "1045": 2,
            "1046": 2,
            "1047": 5,
            "1048": 4,
            "1049": 1,
            "105": 1,
            "1050": 2,
            "1051": 2,
            "1052": 1,
            "1053": 4,
            "1054": 5,
            "1055": 4,
            "1056": 2,
            "1057": 2,
            "1058": 3,
            "1059": 5,
            "106": 4,
            "1060": 5,
            "1061": 2,
            "1062": 2,
            "1063": 1,
            "1064": 4,
            "1065": 4,
            "1066": 5,
            "1067": 3,
            "1068": 2,
            "1069": 3,
            "107": 1,
            "1070": 4,
            "1071": 5,
            "1072": 5,
            "1073": 0,
            "1074": 2,
            "1075": 3,
            "1076": 5,
            "1077": 2,
            "1078": 2,
            "1079": 2,
            "108": 5,
            "1080": 3,
            "1081": 4,
            "1082": 2,
            "1083": 5,
            "1084": 0,
            "1085": 4,
            "1086": 2,
            "1087": 1,
            "1088": 4,
            "1089": 0,
            "109": 4,
            "1090": 2,
            "1091": 5,
            "1092": 3,
            "1093": 1,
            "1094": 1,
            "1095": 2,
            "1096": 3,
            "1097": 1,
            "1098": 4,
            "1099": 5,
            "11": 5,
            "110": 2,
            "111": 4,
            "112": 2,
            "113": 2,
            "114": 0,
            "115": 4,
            "116": 3,
            "117": 5,
            "118": 4,
            "119": 3,
            "12": 1,
            "120": 2,
            "121": 4,
            "122": 1,
            "123": 2,
            "124": 2,
            "125": 2,
            "126": 3,
            "127": 2,
            "128": 1,
            "129": 2,
            "13": 1,
            "130": 1,
            "131": 2,
            "132": 5,
            "133": 2,
            "134": 2,
            "135": 5,
            "136": 2,
            "137": 5,
            "138": 1,
            "139": 2,
            "14": 1,
            "140": 0,
            "141": 1,
            "142": 2,
            "143": 2,
            "144": 2,
            "145": 1,
            "146": 3,
            "147": 4,
            "148": 2,
            "149": 4,
            "15": 3,
            "150": 2,
            "151": 3,
            "152": 3,
            "153": 5,
            "154": 4,
            "155": 3,
            "156": 2,
            "157": 3,
            "158": 2,
            "159": 2,
            "16": 2,
            "160": 2,
            "161": 3,
            "162": 5,
            "163": 2,
            "164": 1,
            "165": 4,
            "166": 2,
            "167": 1,
            "168": 3,
            "169": 2,
            "17": 1,
            "170": 2,
            "171": 1,
            "172": 2,
            "173": 1,
            "174": 2,
            "175": 5,
            "176": 4,
            "177": 5,
            "178": 0,
            "179": 4,
            "18": 3,
            "180": 1,
            "181": 4,
            "182": 2,
            "183": 2,
            "184": 2,
            "185": 4,
            "186": 3,
            "187": 1,
            "188": 3,
            "189": 4,
            "19": 4,
            "190": 4,
            "191": 2,
            "192": 1,
            "193": 2,
            "194": 0,
            "195": 5,
            "196": 5,
            "197": 2,
            "198": 2,
            "199": 5,
            "2": 3,
            "20": 1,
            "200": 4,
            "201": 4,
            "202": 5,
            "203": 2,
            "204": 5,
            "205": 5,
            "206": 4,
            "207": 5,
            "208": 4,
            "209": 4,
            "21": 4,
            "210": 2,
            "211": 2,
            "212": 2,
            "213": 2,
            "214": 2,
            "215": 4,
            "216": 2,
            "217": 3,
            "218": 1,
            "219": 2,
            "22": 1,
            "220": 1,
            "221": 3,
            "222": 2,
            "223": 4,
            "224": 1,
            "225": 2,
            "226": 0,
            "227": 3,
            "228": 3,
            "229": 3,
            "23": 5,
            "230": 2,
            "231": 2,
            "232": 1,
            "233": 2,
            "234": 5,
            "235": 5,
            "236": 5,
            "237": 3,
            "238": 2,
            "239": 1,
            "24": 3,
            "240": 3,
            "241": 0,
            "242": 3,
            "243": 2,
            "244": 1,
            "245": 2,
            "246": 2,
            "247": 4,
            "248": 5,
            "249": 2,
            "25": 2,
            "250": 5,
            "251": 3,
            "252": 0,
            "253": 3,
            "254": 1,
            "255": 0,
            "256": 2,
            "257": 2,
            "258": 3,
            "259": 2,
            "26": 5,
            "260": 1,
            "261": 2,
            "262": 2,
            "263": 3,
            "264": 2,
            "265": 2,
            "266": 3,
            "267": 4,
            "268": 1,
            "269": 2,
            "27": 1,
            "270": 2,
            "271": 1,
            "272": 5,
            "273": 4,
            "274": 1,
            "275": 1,
            "276": 4,
            "277": 4,
            "278": 2,
            "279": 2,
            "28": 2,
            "280": 4,
            "281": 2,
            "282": 4,
            "283": 5,
            "284": 3,
            "285": 5,
            "286": 1,
            "287": 2,
            "288": 5,
            "289": 4,
            "29": 4,
            "290": 1,
            "291": 2,
            "292": 2,
            "293": 0,
            "294": 4,
            "295": 3,
            "296": 0,
            "297": 3,
            "298": 3,
            "299": 0,
            "3": 4,
            "30": 2,
            "300": 1,
            "301": 3,
            "302": 1,
            "303": 5,
            "304": 2,
            "305": 0,
            "306": 2,
            "307": 2,
            "308": 4,
            "309": 3,
            "31": 0,
            "310": 2,
            "311": 2,
            "312": 2,
            "313": 4,
            "314": 1,
            "315": 2,
            "316": 4,
            "317": 1,
            "318": 1,
            "319": 2,
            "32": 4,
            "320": 4,
            "321": 2,
            "322": 5,
            "323": 5,
            "324": 2,
            "325": 3,
            "326": 2,
            "327": 1,
            "328": 5,
            "329": 2,
            "33": 3,
            "330": 2,
            "331": 2,
            "332": 2,
            "333": 2,
            "334": 2,
            "335": 2,
            "336": 3,
            "337": 2,
            "338": 2,
            "339": 5,
            "34": 1,
            "340": 5,
            "341": 3,
            "342": 4,
            "343": 5,
            "344": 5,
            "345": 4,
            "346": 5,
            "347": 5,
            "348": 4,
            "349": 5,
            "35": 3,
            "350": 2,
            "351": 2,
            "352": 3,
            "353": 5,
            "354": 5,
            "355": 5,
            "356": 1,
            "357": 3,
            "358": 1,
            "359": 2,
            "36": 2,
            "360": 0,
            "361": 3,
            "362": 3,
            "363": 1,
            "364": 2,
            "365": 2,
            "366": 3,
            "367": 2,
            "368": 1,
            "369": 2,
            "37": 1,
            "370": 2,
            "371": 4,
            "372": 4,
            "373": 2,
            "374": 4,
            "375": 5,
            "376": 3,
            "377": 2,
            "378": 5,
            "379": 1,
            "38": 5,
            "380": 2,
            "381": 2,
            "382": 5,
            "383": 2,
            "384": 4,
            "385": 5,
            "386": 3,
            "387": 2,
            "388": 5,
            "389": 1,
            "39": 1,
            "390": 3,
            "391": 5,
            "392": 3,
            "393": 3,
            "394": 4,
            "395": 1,
            "396": 1,
            "397": 1,
            "398": 4,
            "399": 5,
            "4": 5,
            "40": 2,
            "400": 5,
            "401": 4,
            "402": 2,
            "403": 5,
            "404": 3,
            "405": 2,
            "406": 5,
            "407": 2,
            "408": 0,
            "409": 3,
            "41": 1,
            "410": 3,
            "411": 1,
            "412": 3,
            "413": 3,
            "414": 3,
            "415": 5,
            "416": 0,
            "417": 5,
            "418": 2,
            "419": 1,
            "42": 2,
            "420": 2,
            "421": 2,
            "422": 1,
            "423": 4,
            "424": 2,
            "425": 2,
            "426": 4,
            "427": 2,
            "428": 1,
            "429": 5,
            "43": 5,
            "430": 1,
            "431": 3,
            "432": 1,
            "433": 1,
            "434": 2,
            "435": 3,
            "436": 1,
            "437": 2,
            "438": 1,
            "439": 1,
            "44": 5,
            "440": 2,
            "441": 2,
            "442": 1,
            "443": 5,
            "444": 3,
            "445": 5,
            "446": 4,
            "447": 5,
            "448": 4,
            "449": 3,
            "45": 2,
            "450": 5,
            "451": 2,
            "452": 0,
            "453": 5,
            "454": 0,
            "455": 2,
            "456": 1,
            "457": 1,
            "458": 3,
            "459": 0,
            "46": 4,
            "460": 4,
            "461": 4,
            "462": 2,
            "463": 2,
            "464": 5,
            "465": 1,
            "466": 5,
            "467": 4,
            "468": 5,
            "469": 5,
            "47": 1,
            "470": 5,
            "471": 2,
            "472": 1,
            "473": 1,
            "474": 1,
            "475": 2,
            "476": 1,
            "477": 4,
            "478": 3,
            "479": 2,
            "48": 3,
            "480": 4,
            "481": 2,
            "482": 0,
            "483": 5,
            "484": 4,
            "485": 5,
            "486": 1,
            "487": 3,
            "488": 4,
            "489": 2,
            "49": 2,
            "490": 4,
            "491": 5,
            "492": 3,
            "493": 1,
            "494": 3,
            "495": 3,
            "496": 4,
            "497": 1,
            "498": 2,
            "499": 5,
            "5": 4,
            "50": 2,
            "500": 1,
            "501": 4,
            "502": 2,
            "503": 5,
            "504": 4,
            "505": 1,
            "506": 2,
            "507": 2,
            "508": 5,
            "509": 2,
            "51": 3,
            "510": 1,
            "511": 2,
            "512": 2,
            "513": 4,
            "514": 2,
            "515": 2,
            "516": 5,
            "517": 1,
            "518": 5,
            "519": 2,
            "52": 2,
            "520": 1,
            "521": 0,
            "522": 3,
            "523": 5,
            "524": 3,
            "525": 2,
            "526": 2,
            "527": 5,
            "528": 2,
            "529": 2,
            "53": 4,
            "530": 1,
            "531": 2,
            "532": 3,
            "533": 1,
            "534": 0,
            "535": 5,
            "536": 3,
            "537": 5,
            "538": 5,
            "539": 4,
            "54": 2,
            "540": 5,
            "541": 2,
            "542": 4,
            "543": 1,
            "544": 2,
            "545": 3,
            "546": 3,
            "547": 1,
            "548": 2,
            "549": 2,
            "55": 2,
            "550": 2,
            "551": 3,
            "552": 1,
            "553": 3,
            "554": 2,
            "555": 1,
            "556": 1,
            "557": 4,
            "558": 0,
            "559": 2,
            "56": 2,
            "560": 3,
            "561": 2,
            "562": 4,
            "563": 4,
            "564": 3,
            "565": 3,
            "566": 2,
            "567": 4,
            "568": 1,
            "569": 3,
            "57": 2,
            "570": 2,
            "571": 1,
            "572": 4,
            "573": 2,
            "574": 1,
            "575": 3,
            "576": 1,
            "577": 3,
            "578": 3,
            "579": 2,
            "58": 1,
            "580": 5,
            "581": 2,
            "582": 1,
            "583": 0,
            "584": 2,
            "585": 3,
            "586": 2,
            "587": 4,
            "588": 1,
            "589": 2,
            "59": 1,
            "590": 2,
            "591": 5,
            "592": 2,
            "593": 4,
            "594": 2,
            "595": 3,
            "596": 5,
            "597": 5,
            "598": 2,
            "599": 1,
            "6": 2,
            "60": 2,
            "600": 2,
            "601": 5,
            "602": 4,
            "603": 2,
            "604": 1,
            "605": 1,
            "606": 5,
            "607": 3,
            "608": 2,
            "609": 1,
            "61": 4,
            "610": 3,
            "611": 2,
            "612": 2,
            "613": 1,
            "614": 1,
            "615": 2,
            "616": 5,
            "617": 3,
            "618": 2,
            "619": 3,
            "62": 1,
            "620": 2,
            "621": 2,
            "622": 3,
            "623": 3,
            "624": 2,
            "625": 3,
            "626": 2,
            "627": 2,
            "628": 1,
            "629": 2,
            "63": 2,
            "630": 2,
            "631": 4,
            "632": 5,
            "633": 5,
            "634": 3,
            "635": 4,
            "636": 2,
            "637": 4,
            "638": 2,
            "639": 3,
            "64": 1,
            "640": 1,
            "641": 5,
            "642": 5,
            "643": 1,
            "644": 4,
            "645": 2,
            "646": 2,
            "647": 1,
            "648": 2,
            "649": 5,
            "65": 1,
            "650": 2,
            "651": 2,
            "652": 1,
            "653": 1,
            "654": 1,
            "655": 3,
            "656": 4,
            "657": 2,
            "658": 2,
            "659": 2,
            "66": 5,
            "660": 3,
            "661": 5,
            "662": 4,
            "663": 2,
            "664": 1,
            "665": 2,
            "666": 2,
            "667": 1,
            "668": 0,
            "669": 4,
            "67": 3,
            "670": 3,
            "671": 1,
            "672": 1,
            "673": 3,
            "674": 3,
            "675": 5,
            "676": 3,
            "677": 4,
            "678": 5,
            "679": 3,
            "68": 2,
            "680": 4,
            "681": 2,
            "682": 3,
            "683": 1,
            "684": 2,
            "685": 1,
            "686": 5,
            "687": 4,
            "688": 2,
            "689": 4,
            "69": 1,
            "690": 5,
            "691": 5,
            "692": 0,
            "693": 1,
            "694": 2,
            "695": 2,
            "696": 2,
            "697": 2,
            "698": 4,
            "699": 5,
            "7": 4,
            "70": 1,
            "700": 5,
            "701": 1,
            "702": 1,
            "703": 2,
            "704": 2,
            "705": 1,
            "706": 4,
            "707": 2,
            "708": 4,
            "709": 4,
            "71": 4,
            "710": 5,
            "711": 5,
            "712": 3,
            "713": 4,
            "714": 4,
            "715": 3,
            "716": 5,
            "717": 5,
            "718": 2,
            "719": 2,
            "72": 2,
            "720": 5,
            "721": 5,
            "722": 4,
            "723": 1,
            "724": 3,
            "725": 3,
            "726": 4,
            "727": 5,
            "728": 5,
            "729": 1,
            "73": 2,
            "730": 1,
            "731": 2,
            "732": 4,
            "733": 3,
            "734": 2,
            "735": 1,
            "736": 5,
            "737": 4,
            "738": 4,
            "739": 3,
            "74": 5,
            "740": 2,
            "741": 2,
            "742": 3,
            "743": 0,
            "744": 2,
            "745": 4,
            "746": 3,
            "747": 5,
            "748": 2,
            "749": 2,
            "75": 5,
            "750": 5,
            "751": 5,
            "752": 3,
            "753": 2,
            "754": 4,
            "755": 4,
            "756": 3,
            "757": 5,
            "758": 1,
            "759": 2,
            "76": 5,
            "760": 2,
            "761": 2,
            "762": 5,
            "763": 2,
            "764": 3,
            "765": 3,
            "766": 1,
            "767": 5,
            "768": 2,
            "769": 5,
            "77": 2,
            "770": 1,
            "771": 2,
            "772": 2,
            "773": 4,
            "774": 2,
            "775": 1,
            "776": 1,
            "777": 5,
            "778": 5,
            "779": 4,
            "78": 2,
            "780": 4,
            "781": 2,
            "782": 2,
            "783": 1,
            "784": 4,
            "785": 5,
            "786": 2,
            "787": 2,
            "788": 3,
            "789": 4,
            "79": 4,
            "790": 4,
            "791": 2,
            "792": 5,
            "793": 3,
            "794": 4,
            "795": 2,
            "796": 2,
            "797": 4,
            "798": 3,
            "799": 4,
            "8": 3,
            "80": 2,
            "800": 0,
            "801": 0,
            "802": 1,
            "803": 3,
            "804": 4,
            "805": 4,
            "806": 5,
            "807": 1,
            "808": 4,
            "809": 0,
            "81": 3,
            "810": 3,
            "811": 1,
            "812": 2,
            "813": 1,
            "814": 2,
            "815": 4,
            "816": 3,
            "817": 1,
            "818": 3,
            "819": 5,
            "82": 4,
            "820": 3,
            "821": 5,
            "822": 3,
            "823": 2,
            "824": 2,
            "825": 4,
            "826": 1,
            "827": 2,
            "828": 3,
            "829": 2,
            "83": 2,
            "830": 2,
            "831": 2,
            "832": 1,
            "833": 2,
            "834": 4,
            "835": 3,
            "836": 4,
            "837": 3,
            "838": 1,
            "839": 2,
            "84": 2,
            "840": 3,
            "841": 4,
            "842": 2,
            "843": 1,
            "844": 5,
            "845": 4,
            "846": 2,
            "847": 5,
            "848": 5,
            "849": 2,
            "85": 3,
            "850": 2,
            "851": 2,
            "852": 5,
            "853": 3,
            "854": 2,
            "855": 2,
            "856": 2,
            "857": 2,
            "858": 2,
            "859": 0,
            "86": 2,
            "860": 2,
            "861": 1,
            "862": 4,
            "863": 2,
            "864": 3,
            "865": 2,
            "866": 3,
            "867": 3,
            "868": 2,
            "869": 2,
            "87": 4,
            "870": 2,
            "871": 3,
            "872": 2,
            "873": 1,
            "874": 1,
            "875": 2,
            "876": 3,
            "877": 1,
            "878": 2,
            "879": 2,
            "88": 2,
            "880": 2,
            "881": 2,
            "882": 2,
            "883": 2,
            "884": 5,
            "885": 4,
            "886": 2,
            "887": 1,
            "888": 2,
            "889": 4,
            "89": 5,
            "890": 4,
            "891": 4,
            "892": 5,
            "893": 2,
            "894": 5,
            "895": 5,
            "896": 2,
            "897": 0,
            "898": 3,
            "899": 1,
            "9": 5,
            "90": 3,
            "900": 1,
            "901": 2,
            "902": 2,
            "903": 1,
            "904": 5,
            "905": 2,
            "906": 3,
            "907": 1,
            "908": 4,
            "909": 5,
            "91": 5,
            "910": 2,
            "911": 1,
            "912": 1,
            "913": 3,
            "914": 2,
            "915": 4,
            "916": 1,
            "917": 2,
            "918": 2,
            "919": 1,
            "92": 5,
            "920": 2,
            "921": 2,
            "922": 5,
            "923": 2,
            "924": 4,
            "925": 2,
            "926": 2,
            "927": 2,
            "928": 5,
            "929": 2,
            "93": 0,
            "930": 2,
            "931": 5,
            "932": 4,
            "933": 5,
            "934": 2,
            "935": 1,
            "936": 2,
            "937": 5,
            "938": 3,
            "939": 5,
            "94": 2,
            "940": 3,
            "941": 1,
            "942": 2,
            "943": 5,
            "944": 5,
            "945": 4,
            "946": 4,
            "947": 5,
            "948": 5,
            "949": 4,
            "95": 3,
            "950": 3,
            "951": 4,
            "952": 5,
            "953": 4,
            "954": 1,
            "955": 3,
            "956": 4,
            "957": 5,
            "958": 2,
            "959": 2,
            "96": 4,
            "960": 4,
            "961": 5,
            "962": 2,
            "963": 4,
            "964": 1,
            "965": 3,
            "966": 5,
            "967": 2,
            "968": 2,
            "969": 2,
            "97": 4,
            "970": 3,
            "971": 4,
            "972": 2,
            "973": 5,
            "974": 2,
            "975": 4,
            "976": 1,
            "977": 3,
            "978": 3,
            "979": 4,
            "98": 1,
            "980": 2,
            "981": 2,
            "982": 5,
            "983": 4,
            "984": 5,
            "985": 4,
            "986": 5,
            "987": 1,
            "988": 5,
            "989": 2,
            "99": 3,
            "990": 2,
            "991": 2,
            "992": 2,
            "993": 4,
            "994": 1,
            "995": 2,
            "996": 5,
            "997": 2,
            "998": 1,
            "999": 2,
            "bdata": "AwQDBAUEAgQDBQQFAQEBAwIBAwQBBAEFAwIFAQIEAgAEAwEDAgEFAQIBAgUFAgQBAwICAwIEAgICAgEBAgQBAgEBBQMCAQEEAgIFBQUCAgQCAwQCAgMCBAIFAwUFAAIDBAQBAwMBAgMBAQQBBQQCBAICAAQDBQQDAgQBAgICAwIBAgECBQICBQIFAQIAAQICAgEDBAIEAgMDBQQDAgMCAgIDBQIBBAIBAwICAQIBAgUEBQAEAQQCAgIEAwEDBAQCAQIABQUCAgUEBAUCBQUEBQQEAgICAgIEAgMBAgEDAgQBAgADAwMCAgECBQUFAwIBAwADAgECAgQFAgUDAAMBAAICAwIBAgIDAgIDBAECAgEFBAEBBAQCAgQCBAUDBQECBQQBAgIABAMAAwMAAQMBBQIAAgIEAwICAgQBAgQBAQIEAgUFAgMCAQUCAgICAgICAwICBQUDBAUFBAUFBAUCAgMFBQUBAwECAAMDAQICAwIBAgIEBAIEBQMCBQECAgUCBAUDAgUBAwUDAwQBAQEEBQUEAgUDAgUCAAMDAQMDAwUABQIBAgIBBAICBAIBBQEDAQECAwECAQECAgEFAwUEBQQDBQIABQACAQEDAAQEAgIFAQUEBQUFAgEBAQIBBAMCBAIABQQFAQMEAgQFAwEDAwQBAgUBBAIFBAECAgUCAQICBAICBQEFAgEAAwUDAgIFAgIBAgMBAAUDBQUEBQIEAQIDAwECAgIDAQMCAQEEAAIDAgQEAwMCBAEDAgEEAgEDAQMDAgUCAQACAwIEAQICBQIEAgMFBQIBAgUEAgEBBQMCAQMCAgEBAgUDAgMCAgMDAgMCAgECAgQFBQMEAgQCAwEFBQEEAgIBAgUCAgEBAQMEAgICAwUEAgECAgEABAMBAQMDBQMEBQMEAgMBAgEFBAIEBQUAAQICAgIEBQUBAQICAQQCBAQFBQMEBAMFBQICBQUEAQMDBAUFAQECBAMCAQUEBAMCAgMAAgQDBQICBQUDAgQEAwUBAgICBQIDAwEFAgUBAgIEAgEBBQUEBAICAQQFAgIDBAQCBQMEAgIEAwQAAAEDBAQFAQQAAwECAQIEAwEDBQMFAwICBAECAwICAgECBAMEAwECAwQCAQUEAgUFAgICBQMCAgICAgACAQQCAwIDAwICAgMCAQECAwECAgICAgIFBAIBAgQEBAUCBQUCAAMBAQICAQUCAwEEBQIBAQMCBAECAgECAgUCBAICAgUCAgUEBQIBAgUDBQMBAgUFBAQFBQQDBAUEAQMEBQICBAUCBAEDBQICAgMEAgUCBAEDAwQCAgUEBQQFAQUCAgICBAECBQIBAgMCBQQCAwIBAwQDAgIDAwIBAgIEAQEFAwEEBAIEBAIDBAIFAQIDAwUDBQACBQICBQQBAgIBBAUEAgIDBQUCAgEEBAUDAgMEBQUAAgMFAgICAwQCBQAEAgEEAAIFAwEBAgMBBAU=",
            "dtype": "i1",
            "shape": "1100"
           },
           "bdata": "AwQDBAUEAgQDBQQFAQEBAwIBAwQBBAEFAwIFAQIEAgAEAwEDAgEFAQIBAgUFAgQBAwICAwIEAgICAgEBAgQBAgEBBQMCAQEEAgIFBQUCAgQCAwQCAgMCBAIFAwUFAAIDBAQBAwMBAgMBAQQBBQQCBAICAAQDBQQDAgQBAgICAwIBAgECBQICBQIFAQIAAQICAgEDBAIEAgMDBQQDAgMCAgIDBQIBBAIBAwICAQIBAgUEBQAEAQQCAgIEAwEDBAQCAQIABQUCAgUEBAUCBQUEBQQEAgICAgIEAgMBAgEDAgQBAgADAwMCAgECBQUFAwIBAwADAgECAgQFAgUDAAMBAAICAwIBAgIDAgIDBAECAgEFBAEBBAQCAgQCBAUDBQECBQQBAgIABAMAAwMAAQMBBQIAAgIEAwICAgQBAgQBAQIEAgUFAgMCAQUCAgICAgICAwICBQUDBAUFBAUFBAUCAgMFBQUBAwECAAMDAQICAwIBAgIEBAIEBQMCBQECAgUCBAUDAgUBAwUDAwQBAQEEBQUEAgUDAgUCAAMDAQMDAwUABQIBAgIBBAICBAIBBQEDAQECAwECAQECAgEFAwUEBQQDBQIABQACAQEDAAQEAgIFAQUEBQUFAgEBAQIBBAMCBAIABQQFAQMEAgQFAwEDAwQBAgUBBAIFBAECAgUCAQICBAICBQEFAgEAAwUDAgIFAgIBAgMBAAUDBQUEBQIEAQIDAwECAgIDAQMCAQEEAAIDAgQEAwMCBAEDAgEEAgEDAQMDAgUCAQACAwIEAQICBQIEAgMFBQIBAgUEAgEBBQMCAQMCAgEBAgUDAgMCAgMDAgMCAgECAgQFBQMEAgQCAwEFBQEEAgIBAgUCAgEBAQMEAgICAwUEAgECAgEABAMBAQMDBQMEBQMEAgMBAgEFBAIEBQUAAQICAgIEBQUBAQICAQQCBAQFBQMEBAMFBQICBQUEAQMDBAUFAQECBAMCAQUEBAMCAgMAAgQDBQICBQUDAgQEAwUBAgICBQIDAwEFAgUBAgIEAgEBBQUEBAICAQQFAgIDBAQCBQMEAgIEAwQAAAEDBAQFAQQAAwECAQIEAwEDBQMFAwICBAECAwICAgECBAMEAwECAwQCAQUEAgUFAgICBQMCAgICAgACAQQCAwIDAwICAgMCAQECAwECAgICAgIFBAIBAgQEBAUCBQUCAAMBAQICAQUCAwEEBQIBAQMCBAECAgECAgUCBAICAgUCAgUEBQIBAgUDBQMBAgUFBAQFBQQDBAUEAQMEBQICBAUCBAEDBQICAgMEAgUCBAEDAwQCAgUEBQQFAQUCAgICBAECBQIBAgMCBQQCAwIBAwQDAgIDAwIBAgIEAQEFAwEEBAIEBAIDBAIFAQIDAwUDBQACBQICBQQBAgIBBAUEAgIDBQUCAgEEBAUDAgMEBQUAAgMFAgICAwQCBQAEAgEEAAIFAwEBAgMBBAU=",
           "dtype": "i1"
          },
          "coloraxis": "coloraxis",
          "opacity": 0.7,
          "symbol": "circle"
         },
         "mode": "markers",
         "name": "",
         "showlegend": false,
         "type": "scattergl",
         "x": {
          "_inputArray": {
           "0": 20,
           "1": 8,
           "10": 12,
           "100": 3,
           "1000": 25,
           "1001": 19,
           "1002": 20,
           "1003": 3,
           "1004": 25,
           "1005": 17,
           "1006": 16,
           "1007": 26,
           "1008": 21,
           "1009": 11,
           "101": 3,
           "1010": 25,
           "1011": 7,
           "1012": 25,
           "1013": 8,
           "1014": 30,
           "1015": 23,
           "1016": 29,
           "1017": 27,
           "1018": 26,
           "1019": 0,
           "102": 17,
           "1020": 30,
           "1021": 3,
           "1022": 5,
           "1023": 29,
           "1024": 27,
           "1025": 1,
           "1026": 27,
           "1027": 22,
           "1028": 10,
           "1029": 1,
           "103": 15,
           "1030": 26,
           "1031": 23,
           "1032": 5,
           "1033": 28,
           "1034": 12,
           "1035": 17,
           "1036": 25,
           "1037": 9,
           "1038": 25,
           "1039": 10,
           "104": 29,
           "1040": 23,
           "1041": 15,
           "1042": 13,
           "1043": 24,
           "1044": 1,
           "1045": 20,
           "1046": 19,
           "1047": 8,
           "1048": 19,
           "1049": 27,
           "105": 26,
           "1050": 30,
           "1051": 29,
           "1052": 12,
           "1053": 5,
           "1054": 11,
           "1055": 6,
           "1056": 27,
           "1057": 17,
           "1058": 15,
           "1059": 12,
           "106": 11,
           "1060": 12,
           "1061": 30,
           "1062": 28,
           "1063": 26,
           "1064": 3,
           "1065": 23,
           "1066": 14,
           "1067": 18,
           "1068": 26,
           "1069": 25,
           "107": 28,
           "1070": 5,
           "1071": 12,
           "1072": 13,
           "1073": 16,
           "1074": 18,
           "1075": 16,
           "1076": 13,
           "1077": 25,
           "1078": 28,
           "1079": 10,
           "108": 9,
           "1080": 15,
           "1081": 7,
           "1082": 25,
           "1083": 1,
           "1084": 4,
           "1085": 3,
           "1086": 13,
           "1087": 29,
           "1088": 10,
           "1089": 16,
           "109": 6,
           "1090": 11,
           "1091": 11,
           "1092": 20,
           "1093": 30,
           "1094": 17,
           "1095": 17,
           "1096": 12,
           "1097": 26,
           "1098": 0,
           "1099": 6,
           "11": 15,
           "110": 29,
           "111": 4,
           "112": 27,
           "113": 24,
           "114": 2,
           "115": 12,
           "116": 21,
           "117": 7,
           "118": 8,
           "119": 23,
           "12": 28,
           "120": 28,
           "121": 0,
           "122": 29,
           "123": 20,
           "124": 20,
           "125": 16,
           "126": 15,
           "127": 26,
           "128": 3,
           "129": 19,
           "13": 23,
           "130": 27,
           "131": 16,
           "132": 13,
           "133": 16,
           "134": 21,
           "135": 24,
           "136": 25,
           "137": 13,
           "138": 28,
           "139": 25,
           "14": 28,
           "140": 5,
           "141": 27,
           "142": 17,
           "143": 29,
           "144": 3,
           "145": 27,
           "146": 17,
           "147": 3,
           "148": 21,
           "149": 14,
           "15": 21,
           "150": 29,
           "151": 19,
           "152": 22,
           "153": 15,
           "154": 1,
           "155": 25,
           "156": 30,
           "157": 15,
           "158": 30,
           "159": 30,
           "16": 28,
           "160": 22,
           "161": 15,
           "162": 12,
           "163": 15,
           "164": 30,
           "165": 4,
           "166": 15,
           "167": 30,
           "168": 20,
           "169": 15,
           "17": 25,
           "170": 25,
           "171": 9,
           "172": 15,
           "173": 29,
           "174": 26,
           "175": 0,
           "176": 15,
           "177": 5,
           "178": 25,
           "179": 25,
           "18": 23,
           "180": 29,
           "181": 6,
           "182": 22,
           "183": 28,
           "184": 4,
           "185": 13,
           "186": 20,
           "187": 29,
           "188": 16,
           "189": 7,
           "19": 1,
           "190": 11,
           "191": 21,
           "192": 23,
           "193": 20,
           "194": 17,
           "195": 4,
           "196": 12,
           "197": 28,
           "198": 21,
           "199": 23,
           "2": 18,
           "20": 27,
           "200": 13,
           "201": 9,
           "202": 9,
           "203": 24,
           "204": 7,
           "205": 5,
           "206": 7,
           "207": 10,
           "208": 13,
           "209": 13,
           "21": 1,
           "210": 15,
           "211": 11,
           "212": 26,
           "213": 24,
           "214": 29,
           "215": 6,
           "216": 19,
           "217": 24,
           "218": 26,
           "219": 6,
           "22": 27,
           "220": 24,
           "221": 23,
           "222": 24,
           "223": 3,
           "224": 30,
           "225": 24,
           "226": 8,
           "227": 19,
           "228": 17,
           "229": 22,
           "23": 5,
           "230": 26,
           "231": 30,
           "232": 30,
           "233": 20,
           "234": 9,
           "235": 13,
           "236": 2,
           "237": 25,
           "238": 21,
           "239": 26,
           "24": 21,
           "240": 22,
           "241": 22,
           "242": 16,
           "243": 21,
           "244": 26,
           "245": 27,
           "246": 30,
           "247": 7,
           "248": 10,
           "249": 27,
           "25": 26,
           "250": 6,
           "251": 18,
           "252": 25,
           "253": 20,
           "254": 30,
           "255": 20,
           "256": 28,
           "257": 30,
           "258": 20,
           "259": 20,
           "26": 6,
           "260": 26,
           "261": 19,
           "262": 30,
           "263": 24,
           "264": 17,
           "265": 18,
           "266": 25,
           "267": 11,
           "268": 29,
           "269": 28,
           "27": 28,
           "270": 25,
           "271": 30,
           "272": 2,
           "273": 4,
           "274": 29,
           "275": 21,
           "276": 15,
           "277": 8,
           "278": 11,
           "279": 16,
           "28": 23,
           "280": 13,
           "281": 27,
           "282": 7,
           "283": 9,
           "284": 1,
           "285": 27,
           "286": 8,
           "287": 30,
           "288": 8,
           "289": 9,
           "29": 6,
           "290": 30,
           "291": 29,
           "292": 26,
           "293": 18,
           "294": 5,
           "295": 22,
           "296": 9,
           "297": 24,
           "298": 17,
           "299": 21,
           "3": 12,
           "30": 27,
           "300": 28,
           "301": 23,
           "302": 23,
           "303": 7,
           "304": 26,
           "305": 21,
           "306": 28,
           "307": 23,
           "308": 0,
           "309": 21,
           "31": 8,
           "310": 30,
           "311": 17,
           "312": 16,
           "313": 22,
           "314": 28,
           "315": 26,
           "316": 7,
           "317": 28,
           "318": 26,
           "319": 18,
           "32": 9,
           "320": 2,
           "321": 28,
           "322": 11,
           "323": 6,
           "324": 16,
           "325": 20,
           "326": 30,
           "327": 28,
           "328": 15,
           "329": 19,
           "33": 23,
           "330": 16,
           "331": 29,
           "332": 25,
           "333": 28,
           "334": 17,
           "335": 26,
           "336": 15,
           "337": 0,
           "338": 30,
           "339": 7,
           "34": 25,
           "340": 3,
           "341": 19,
           "342": 2,
           "343": 4,
           "344": 15,
           "345": 8,
           "346": 8,
           "347": 0,
           "348": 7,
           "349": 15,
           "35": 22,
           "350": 23,
           "351": 16,
           "352": 15,
           "353": 1,
           "354": 14,
           "355": 14,
           "356": 26,
           "357": 17,
           "358": 29,
           "359": 29,
           "36": 21,
           "360": 29,
           "361": 19,
           "362": 15,
           "363": 28,
           "364": 15,
           "365": 25,
           "366": 29,
           "367": 29,
           "368": 30,
           "369": 30,
           "37": 27,
           "370": 27,
           "371": 4,
           "372": 9,
           "373": 19,
           "374": 3,
           "375": 0,
           "376": 20,
           "377": 28,
           "378": 13,
           "379": 23,
           "38": 6,
           "380": 20,
           "381": 25,
           "382": 1,
           "383": 18,
           "384": 27,
           "385": 7,
           "386": 21,
           "387": 23,
           "388": 11,
           "389": 25,
           "39": 25,
           "390": 23,
           "391": 0,
           "392": 16,
           "393": 26,
           "394": 1,
           "395": 25,
           "396": 11,
           "397": 26,
           "398": 8,
           "399": 8,
           "4": 28,
           "40": 29,
           "400": 11,
           "401": 1,
           "402": 30,
           "403": 9,
           "404": 7,
           "405": 7,
           "406": 11,
           "407": 25,
           "408": 3,
           "409": 18,
           "41": 30,
           "410": 20,
           "411": 11,
           "412": 19,
           "413": 15,
           "414": 25,
           "415": 11,
           "416": 0,
           "417": 0,
           "418": 30,
           "419": 26,
           "42": 27,
           "420": 28,
           "421": 27,
           "422": 7,
           "423": 1,
           "424": 21,
           "425": 26,
           "426": 14,
           "427": 20,
           "428": 28,
           "429": 11,
           "43": 9,
           "430": 4,
           "431": 22,
           "432": 29,
           "433": 27,
           "434": 29,
           "435": 16,
           "436": 28,
           "437": 3,
           "438": 21,
           "439": 26,
           "44": 4,
           "440": 25,
           "441": 4,
           "442": 28,
           "443": 13,
           "444": 15,
           "445": 11,
           "446": 15,
           "447": 9,
           "448": 13,
           "449": 28,
           "45": 30,
           "450": 14,
           "451": 30,
           "452": 4,
           "453": 9,
           "454": 19,
           "455": 10,
           "456": 29,
           "457": 2,
           "458": 17,
           "459": 2,
           "46": 1,
           "460": 0,
           "461": 12,
           "462": 23,
           "463": 18,
           "464": 13,
           "465": 26,
           "466": 6,
           "467": 9,
           "468": 23,
           "469": 7,
           "47": 27,
           "470": 11,
           "471": 23,
           "472": 29,
           "473": 25,
           "474": 19,
           "475": 18,
           "476": 9,
           "477": 12,
           "478": 16,
           "479": 29,
           "48": 19,
           "480": 4,
           "481": 16,
           "482": 7,
           "483": 6,
           "484": 8,
           "485": 10,
           "486": 26,
           "487": 1,
           "488": 18,
           "489": 17,
           "49": 26,
           "490": 11,
           "491": 5,
           "492": 17,
           "493": 14,
           "494": 2,
           "495": 19,
           "496": 14,
           "497": 27,
           "498": 19,
           "499": 13,
           "5": 13,
           "50": 27,
           "500": 27,
           "501": 11,
           "502": 29,
           "503": 2,
           "504": 12,
           "505": 27,
           "506": 18,
           "507": 17,
           "508": 6,
           "509": 6,
           "51": 16,
           "510": 25,
           "511": 16,
           "512": 26,
           "513": 15,
           "514": 22,
           "515": 23,
           "516": 30,
           "517": 28,
           "518": 6,
           "519": 16,
           "52": 29,
           "520": 23,
           "521": 17,
           "522": 23,
           "523": 12,
           "524": 18,
           "525": 15,
           "526": 29,
           "527": 15,
           "528": 18,
           "529": 28,
           "53": 2,
           "530": 28,
           "531": 22,
           "532": 17,
           "533": 25,
           "534": 20,
           "535": 11,
           "536": 21,
           "537": 14,
           "538": 11,
           "539": 2,
           "54": 23,
           "540": 14,
           "541": 30,
           "542": 4,
           "543": 27,
           "544": 27,
           "545": 23,
           "546": 21,
           "547": 30,
           "548": 20,
           "549": 15,
           "55": 23,
           "550": 29,
           "551": 17,
           "552": 26,
           "553": 24,
           "554": 30,
           "555": 28,
           "556": 26,
           "557": 11,
           "558": 13,
           "559": 30,
           "56": 18,
           "560": 18,
           "561": 16,
           "562": 10,
           "563": 14,
           "564": 19,
           "565": 24,
           "566": 25,
           "567": 3,
           "568": 30,
           "569": 25,
           "57": 28,
           "570": 22,
           "571": 8,
           "572": 0,
           "573": 25,
           "574": 26,
           "575": 20,
           "576": 29,
           "577": 11,
           "578": 23,
           "579": 28,
           "58": 29,
           "580": 14,
           "581": 25,
           "582": 25,
           "583": 24,
           "584": 25,
           "585": 24,
           "586": 29,
           "587": 1,
           "588": 26,
           "589": 1,
           "59": 27,
           "590": 15,
           "591": 2,
           "592": 15,
           "593": 15,
           "594": 18,
           "595": 22,
           "596": 6,
           "597": 11,
           "598": 18,
           "599": 25,
           "6": 26,
           "60": 28,
           "600": 25,
           "601": 5,
           "602": 7,
           "603": 17,
           "604": 27,
           "605": 29,
           "606": 27,
           "607": 15,
           "608": 22,
           "609": 27,
           "61": 29,
           "610": 16,
           "611": 25,
           "612": 22,
           "613": 29,
           "614": 30,
           "615": 25,
           "616": 15,
           "617": 19,
           "618": 23,
           "619": 19,
           "62": 27,
           "620": 17,
           "621": 29,
           "622": 24,
           "623": 17,
           "624": 30,
           "625": 15,
           "626": 22,
           "627": 22,
           "628": 26,
           "629": 25,
           "63": 23,
           "630": 28,
           "631": 13,
           "632": 30,
           "633": 6,
           "634": 5,
           "635": 2,
           "636": 24,
           "637": 29,
           "638": 26,
           "639": 21,
           "64": 0,
           "640": 30,
           "641": 7,
           "642": 10,
           "643": 30,
           "644": 10,
           "645": 16,
           "646": 27,
           "647": 26,
           "648": 16,
           "649": 29,
           "65": 25,
           "650": 25,
           "651": 30,
           "652": 25,
           "653": 28,
           "654": 27,
           "655": 17,
           "656": 8,
           "657": 25,
           "658": 16,
           "659": 23,
           "66": 14,
           "660": 20,
           "661": 11,
           "662": 13,
           "663": 25,
           "664": 26,
           "665": 15,
           "666": 18,
           "667": 25,
           "668": 17,
           "669": 11,
           "67": 21,
           "670": 18,
           "671": 26,
           "672": 26,
           "673": 24,
           "674": 17,
           "675": 6,
           "676": 21,
           "677": 11,
           "678": 20,
           "679": 23,
           "68": 23,
           "680": 0,
           "681": 26,
           "682": 15,
           "683": 25,
           "684": 15,
           "685": 27,
           "686": 9,
           "687": 8,
           "688": 26,
           "689": 11,
           "69": 26,
           "690": 27,
           "691": 1,
           "692": 21,
           "693": 27,
           "694": 25,
           "695": 25,
           "696": 21,
           "697": 30,
           "698": 8,
           "699": 13,
           "7": 3,
           "70": 30,
           "700": 1,
           "701": 29,
           "702": 27,
           "703": 21,
           "704": 30,
           "705": 27,
           "706": 7,
           "707": 27,
           "708": 7,
           "709": 11,
           "71": 15,
           "710": 2,
           "711": 1,
           "712": 25,
           "713": 15,
           "714": 0,
           "715": 2,
           "716": 0,
           "717": 0,
           "718": 24,
           "719": 19,
           "72": 26,
           "720": 9,
           "721": 3,
           "722": 14,
           "723": 29,
           "724": 17,
           "725": 15,
           "726": 6,
           "727": 8,
           "728": 8,
           "729": 28,
           "73": 30,
           "730": 26,
           "731": 30,
           "732": 13,
           "733": 15,
           "734": 20,
           "735": 27,
           "736": 9,
           "737": 0,
           "738": 6,
           "739": 19,
           "74": 7,
           "740": 22,
           "741": 29,
           "742": 28,
           "743": 20,
           "744": 30,
           "745": 21,
           "746": 16,
           "747": 12,
           "748": 17,
           "749": 27,
           "75": 5,
           "750": 15,
           "751": 5,
           "752": 24,
           "753": 27,
           "754": 3,
           "755": 14,
           "756": 25,
           "757": 6,
           "758": 25,
           "759": 20,
           "76": 5,
           "760": 29,
           "761": 17,
           "762": 0,
           "763": 18,
           "764": 25,
           "765": 17,
           "766": 25,
           "767": 4,
           "768": 27,
           "769": 6,
           "77": 29,
           "770": 28,
           "771": 25,
           "772": 25,
           "773": 1,
           "774": 28,
           "775": 30,
           "776": 25,
           "777": 10,
           "778": 8,
           "779": 10,
           "78": 17,
           "780": 3,
           "781": 25,
           "782": 17,
           "783": 30,
           "784": 15,
           "785": 3,
           "786": 24,
           "787": 26,
           "788": 24,
           "789": 1,
           "79": 13,
           "790": 13,
           "791": 14,
           "792": 2,
           "793": 21,
           "794": 8,
           "795": 17,
           "796": 30,
           "797": 6,
           "798": 16,
           "799": 1,
           "8": 22,
           "80": 26,
           "800": 12,
           "801": 6,
           "802": 30,
           "803": 21,
           "804": 10,
           "805": 13,
           "806": 1,
           "807": 28,
           "808": 10,
           "809": 12,
           "81": 21,
           "810": 24,
           "811": 24,
           "812": 16,
           "813": 25,
           "814": 23,
           "815": 6,
           "816": 28,
           "817": 28,
           "818": 16,
           "819": 8,
           "82": 15,
           "820": 16,
           "821": 28,
           "822": 19,
           "823": 25,
           "824": 21,
           "825": 20,
           "826": 5,
           "827": 18,
           "828": 25,
           "829": 27,
           "83": 26,
           "830": 28,
           "831": 24,
           "832": 12,
           "833": 26,
           "834": 10,
           "835": 22,
           "836": 4,
           "837": 21,
           "838": 30,
           "839": 21,
           "84": 15,
           "840": 22,
           "841": 3,
           "842": 16,
           "843": 25,
           "844": 10,
           "845": 2,
           "846": 30,
           "847": 4,
           "848": 7,
           "849": 26,
           "85": 24,
           "850": 16,
           "851": 20,
           "852": 0,
           "853": 19,
           "854": 27,
           "855": 16,
           "856": 21,
           "857": 13,
           "858": 25,
           "859": 28,
           "86": 22,
           "860": 15,
           "861": 22,
           "862": 7,
           "863": 27,
           "864": 16,
           "865": 30,
           "866": 9,
           "867": 23,
           "868": 26,
           "869": 22,
           "87": 3,
           "870": 20,
           "871": 19,
           "872": 17,
           "873": 26,
           "874": 25,
           "875": 17,
           "876": 17,
           "877": 27,
           "878": 17,
           "879": 26,
           "88": 18,
           "880": 24,
           "881": 23,
           "882": 29,
           "883": 28,
           "884": 30,
           "885": 13,
           "886": 30,
           "887": 4,
           "888": 25,
           "889": 14,
           "89": 12,
           "890": 15,
           "891": 6,
           "892": 9,
           "893": 23,
           "894": 4,
           "895": 5,
           "896": 16,
           "897": 6,
           "898": 11,
           "899": 30,
           "9": 8,
           "90": 19,
           "900": 26,
           "901": 25,
           "902": 10,
           "903": 25,
           "904": 11,
           "905": 29,
           "906": 21,
           "907": 27,
           "908": 7,
           "909": 8,
           "91": 11,
           "910": 25,
           "911": 28,
           "912": 27,
           "913": 25,
           "914": 21,
           "915": 12,
           "916": 28,
           "917": 9,
           "918": 16,
           "919": 22,
           "92": 1,
           "920": 25,
           "921": 23,
           "922": 2,
           "923": 27,
           "924": 13,
           "925": 19,
           "926": 21,
           "927": 20,
           "928": 3,
           "929": 20,
           "93": 23,
           "930": 25,
           "931": 13,
           "932": 9,
           "933": 12,
           "934": 25,
           "935": 27,
           "936": 25,
           "937": 0,
           "938": 23,
           "939": 11,
           "94": 0,
           "940": 20,
           "941": 27,
           "942": 23,
           "943": 3,
           "944": 15,
           "945": 13,
           "946": 0,
           "947": 1,
           "948": 6,
           "949": 10,
           "95": 7,
           "950": 24,
           "951": 11,
           "952": 13,
           "953": 6,
           "954": 27,
           "955": 25,
           "956": 12,
           "957": 6,
           "958": 27,
           "959": 29,
           "96": 14,
           "960": 5,
           "961": 14,
           "962": 30,
           "963": 9,
           "964": 28,
           "965": 24,
           "966": 14,
           "967": 20,
           "968": 29,
           "969": 20,
           "97": 7,
           "970": 25,
           "971": 2,
           "972": 25,
           "973": 1,
           "974": 26,
           "975": 11,
           "976": 25,
           "977": 21,
           "978": 24,
           "979": 2,
           "98": 27,
           "980": 26,
           "981": 20,
           "982": 10,
           "983": 2,
           "984": 29,
           "985": 10,
           "986": 3,
           "987": 28,
           "988": 8,
           "989": 30,
           "99": 23,
           "990": 23,
           "991": 17,
           "992": 5,
           "993": 14,
           "994": 25,
           "995": 23,
           "996": 1,
           "997": 27,
           "998": 29,
           "999": 25,
           "bdata": "FAgSDBwNGgMWCAwPHBccFRwZFwEbARsFFRoGHBcGGwgJFxkWFRsGGR0eGwkEHgEbExobEB0CFxcSHB0bHB0bFwAZDhUXGh4PGh4HBQUdEQ0aFQ8aDxgWAxIMEwsBFwAHDgcbFwMDEQ8dGgscCQYdBBsYAgwVBwgXHAAdFBQQDxoDExsQDRAVGBkNHBkFGxEdAxsRAxUOHRMWDwEZHg8eHhYPDA8eBA8eFA8ZCQ8dGgAPBRkZHQYWHAQNFB0QBwsVFxQRBAwcFRcNCQkYBwUHCg0NDwsaGB0GExgaBhgXGAMeGAgTERYaHh4UCQ0CGRUaFhYQFRobHgcKGwYSGRQeFBweFBQaEx4YERIZCx0cGR4CBB0VDwgLEA0bBwkBGwgeCAkeHRoSBRYJGBEVHBcXBxoVHBcAFR4REBYcGgccGhICHAsGEBQeHA8TEB0ZHBEaDwAeBwMTAgQPCAgABw8XEA8BDg4aER0dHRMPHA8ZHR0eHhsECRMDABQcDRcUGQESGwcVFwsZFwAQGgEZCxoICAsBHgkHBwsZAxIUCxMPGQsAAB4aHBsHARUaDhQcCwQWHRsdEBwDFRoZBBwNDwsPCQ0cDh4ECRMKHQIRAgAMFxINGgYJFwcLFx0ZExIJDBAdBBAHBggKGgESEQsFEQ4CEw4bEw0bCx0CDBsSEQYGGRAaDxYXHhwGEBcRFwwSDx0PEhwcFhEZFAsVDgsCDh4EGxsXFR4UDx0RGhgeHBoLDR4SEAoOExgZAx4ZFggAGRoUHQsXHA4ZGRgZGB0BGgEPAg8PEhYGCxIZGQUHERsdGw8WGxAZFh0eGQ8TFxMRHRgRHg8WFhoZHA0eBgUCGB0aFR4HCh4KEBsaEB0ZHhkcGxEIGRAXFAsNGRoPEhkRCxIaGhgRBhULFBcAGg8ZDxsJCBoLGwEVGxkZFR4IDQEdGxUeGwcbBwsCARkPAAIAABgTCQMOHREPBggIHBoeDQ8UGwkABhMWHRwUHhUQDBEbDwUYGwMOGQYZFB0RABIZERkEGwYcGRkBHB4ZCggKAxkRHg8DGBoYAQ0OAhUIER4GEAEMBh4VCg0BHAoMGBgQGRcGHBwQCBAcExkVFAUSGRscGAwaChYEFR4VFgMQGQoCHgQHGhAUABMbEBUNGRwPFgcbEB4JFxoWFBMRGhkRERsRGhgXHRweDR4EGQ4PBgkXBAUQBgseGhkKGQsdFRsHCBkcGxkVDBwJEBYZFwIbDRMVFAMUGQ0JDBkbGQAXCxQbFwMPDQABBgoYCw0GGxkMBhsdBQ4eCRwYDhQdFBkCGQEaCxkVGAIaFAoCHQoDHAgeFxEFDhkXARsdGRkTFAMZERAaFQsZBxkIHhcdGxoAHgMFHRsBGxYKARoXBRwMERkJGQoXDw0YARQTCBMbHh0MBQsGGxEPDAweHBoDFw4SGhkFDA0QEhANGRwKDwcZAQQDDR0KEAsLFB4REQwaAAY=",
           "dtype": "i1",
           "shape": "1100"
          },
          "bdata": "FAgSDBwNGgMWCAwPHBccFRwZFwEbARsFFRoGHBcGGwgJFxkWFRsGGR0eGwkEHgEbExobEB0CFxcSHB0bHB0bFwAZDhUXGh4PGh4HBQUdEQ0aFQ8aDxgWAxIMEwsBFwAHDgcbFwMDEQ8dGgscCQYdBBsYAgwVBwgXHAAdFBQQDxoDExsQDRAVGBkNHBkFGxEdAxsRAxUOHRMWDwEZHg8eHhYPDA8eBA8eFA8ZCQ8dGgAPBRkZHQYWHAQNFB0QBwsVFxQRBAwcFRcNCQkYBwUHCg0NDwsaGB0GExgaBhgXGAMeGAgTERYaHh4UCQ0CGRUaFhYQFRobHgcKGwYSGRQeFBweFBQaEx4YERIZCx0cGR4CBB0VDwgLEA0bBwkBGwgeCAkeHRoSBRYJGBEVHBcXBxoVHBcAFR4REBYcGgccGhICHAsGEBQeHA8TEB0ZHBEaDwAeBwMTAgQPCAgABw8XEA8BDg4aER0dHRMPHA8ZHR0eHhsECRMDABQcDRcUGQESGwcVFwsZFwAQGgEZCxoICAsBHgkHBwsZAxIUCxMPGQsAAB4aHBsHARUaDhQcCwQWHRsdEBwDFRoZBBwNDwsPCQ0cDh4ECRMKHQIRAgAMFxINGgYJFwcLFx0ZExIJDBAdBBAHBggKGgESEQsFEQ4CEw4bEw0bCx0CDBsSEQYGGRAaDxYXHhwGEBcRFwwSDx0PEhwcFhEZFAsVDgsCDh4EGxsXFR4UDx0RGhgeHBoLDR4SEAoOExgZAx4ZFggAGRoUHQsXHA4ZGRgZGB0BGgEPAg8PEhYGCxIZGQUHERsdGw8WGxAZFh0eGQ8TFxMRHRgRHg8WFhoZHA0eBgUCGB0aFR4HCh4KEBsaEB0ZHhkcGxEIGRAXFAsNGRoPEhkRCxIaGhgRBhULFBcAGg8ZDxsJCBoLGwEVGxkZFR4IDQEdGxUeGwcbBwsCARkPAAIAABgTCQMOHREPBggIHBoeDQ8UGwkABhMWHRwUHhUQDBEbDwUYGwMOGQYZFB0RABIZERkEGwYcGRkBHB4ZCggKAxkRHg8DGBoYAQ0OAhUIER4GEAEMBh4VCg0BHAoMGBgQGRcGHBwQCBAcExkVFAUSGRscGAwaChYEFR4VFgMQGQoCHgQHGhAUABMbEBUNGRwPFgcbEB4JFxoWFBMRGhkRERsRGhgXHRweDR4EGQ4PBgkXBAUQBgseGhkKGQsdFRsHCBkcGxkVDBwJEBYZFwIbDRMVFAMUGQ0JDBkbGQAXCxQbFwMPDQABBgoYCw0GGxkMBhsdBQ4eCRwYDhQdFBkCGQEaCxkVGAIaFAoCHQoDHAgeFxEFDhkXARsdGRkTFAMZERAaFQsZBxkIHhcdGxoAHgMFHRsBGxYKARoXBRwMERkJGQoXDw0YARQTCBMbHh0MBQsGGxEPDAweHBoDFw4SGhkFDA0QEhANGRwKDwcZAQQDDR0KEAsLFB4REQwaAAY=",
          "dtype": "i1"
         },
         "xaxis": "x",
         "y": {
          "_inputArray": {
           "0": 11,
           "1": 15,
           "10": 25,
           "100": 22,
           "1000": 12,
           "1001": 14,
           "1002": 7,
           "1003": 23,
           "1004": 0,
           "1005": 12,
           "1006": 14,
           "1007": 5,
           "1008": 9,
           "1009": 24,
           "101": 22,
           "1010": 12,
           "1011": 21,
           "1012": 5,
           "1013": 22,
           "1014": 0,
           "1015": 13,
           "1016": 3,
           "1017": 1,
           "1018": 0,
           "1019": 24,
           "102": 13,
           "1020": 1,
           "1021": 0,
           "1022": 27,
           "1023": 13,
           "1024": 2,
           "1025": 22,
           "1026": 3,
           "1027": 12,
           "1028": 16,
           "1029": 20,
           "103": 12,
           "1030": 7,
           "1031": 11,
           "1032": 17,
           "1033": 3,
           "1034": 17,
           "1035": 18,
           "1036": 0,
           "1037": 6,
           "1038": 14,
           "1039": 16,
           "104": 7,
           "1040": 19,
           "1041": 26,
           "1042": 20,
           "1043": 11,
           "1044": 23,
           "1045": 12,
           "1046": 12,
           "1047": 3,
           "1048": 22,
           "1049": 6,
           "105": 2,
           "1050": 3,
           "1051": 1,
           "1052": 24,
           "1053": 24,
           "1054": 17,
           "1055": 25,
           "1056": 2,
           "1057": 13,
           "1058": 12,
           "1059": 22,
           "106": 27,
           "1060": 16,
           "1061": 5,
           "1062": 7,
           "1063": 3,
           "1064": 27,
           "1065": 26,
           "1066": 24,
           "1067": 13,
           "1068": 2,
           "1069": 10,
           "107": 1,
           "1070": 24,
           "1071": 24,
           "1072": 17,
           "1073": 20,
           "1074": 12,
           "1075": 13,
           "1076": 23,
           "1077": 6,
           "1078": 0,
           "1079": 14,
           "108": 25,
           "1080": 18,
           "1081": 21,
           "1082": 9,
           "1083": 17,
           "1084": 12,
           "1085": 24,
           "1086": 18,
           "1087": 4,
           "1088": 18,
           "1089": 9,
           "109": 20,
           "1090": 24,
           "1091": 25,
           "1092": 9,
           "1093": 4,
           "1094": 0,
           "1095": 14,
           "1096": 8,
           "1097": 3,
           "1098": 19,
           "1099": 15,
           "11": 22,
           "110": 7,
           "111": 19,
           "112": 8,
           "113": 13,
           "114": 22,
           "115": 27,
           "116": 12,
           "117": 17,
           "118": 24,
           "119": 11,
           "12": 8,
           "120": 0,
           "121": 18,
           "122": 8,
           "123": 11,
           "124": 14,
           "125": 6,
           "126": 14,
           "127": 2,
           "128": 27,
           "129": 13,
           "13": 24,
           "130": 6,
           "131": 13,
           "132": 8,
           "133": 11,
           "134": 10,
           "135": 3,
           "136": 0,
           "137": 20,
           "138": 0,
           "139": 11,
           "14": 3,
           "140": 1,
           "141": 24,
           "142": 13,
           "143": 1,
           "144": 12,
           "145": 5,
           "146": 14,
           "147": 20,
           "148": 14,
           "149": 20,
           "15": 14,
           "150": 1,
           "151": 14,
           "152": 13,
           "153": 18,
           "154": 16,
           "155": 10,
           "156": 1,
           "157": 11,
           "158": 0,
           "159": 6,
           "16": 1,
           "160": 14,
           "161": 6,
           "162": 27,
           "163": 10,
           "164": 7,
           "165": 26,
           "166": 10,
           "167": 3,
           "168": 13,
           "169": 13,
           "17": 3,
           "170": 6,
           "171": 3,
           "172": 14,
           "173": 3,
           "174": 0,
           "175": 26,
           "176": 23,
           "177": 17,
           "178": 22,
           "179": 17,
           "18": 12,
           "180": 4,
           "181": 23,
           "182": 10,
           "183": 8,
           "184": 15,
           "185": 18,
           "186": 10,
           "187": 5,
           "188": 13,
           "189": 21,
           "19": 25,
           "190": 7,
           "191": 10,
           "192": 20,
           "193": 10,
           "194": 1,
           "195": 26,
           "196": 26,
           "197": 5,
           "198": 10,
           "199": 26,
           "2": 14,
           "20": 0,
           "200": 27,
           "201": 27,
           "202": 17,
           "203": 10,
           "204": 9,
           "205": 20,
           "206": 15,
           "207": 20,
           "208": 27,
           "209": 17,
           "21": 21,
           "210": 10,
           "211": 16,
           "212": 2,
           "213": 10,
           "214": 5,
           "215": 19,
           "216": 13,
           "217": 10,
           "218": 1,
           "219": 8,
           "22": 5,
           "220": 10,
           "221": 13,
           "222": 11,
           "223": 21,
           "224": 0,
           "225": 14,
           "226": 12,
           "227": 9,
           "228": 12,
           "229": 13,
           "23": 26,
           "230": 1,
           "231": 8,
           "232": 0,
           "233": 12,
           "234": 25,
           "235": 20,
           "236": 21,
           "237": 11,
           "238": 12,
           "239": 0,
           "24": 14,
           "240": 12,
           "241": 20,
           "242": 10,
           "243": 14,
           "244": 3,
           "245": 4,
           "246": 4,
           "247": 20,
           "248": 25,
           "249": 0,
           "25": 8,
           "250": 19,
           "251": 12,
           "252": 12,
           "253": 13,
           "254": 7,
           "255": 10,
           "256": 7,
           "257": 3,
           "258": 10,
           "259": 3,
           "26": 27,
           "260": 8,
           "261": 12,
           "262": 3,
           "263": 10,
           "264": 13,
           "265": 9,
           "266": 10,
           "267": 22,
           "268": 0,
           "269": 4,
           "27": 20,
           "270": 9,
           "271": 5,
           "272": 27,
           "273": 24,
           "274": 0,
           "275": 23,
           "276": 22,
           "277": 22,
           "278": 20,
           "279": 12,
           "28": 14,
           "280": 18,
           "281": 7,
           "282": 27,
           "283": 25,
           "284": 21,
           "285": 0,
           "286": 1,
           "287": 1,
           "288": 19,
           "289": 18,
           "29": 24,
           "290": 2,
           "291": 4,
           "292": 1,
           "293": 25,
           "294": 24,
           "295": 18,
           "296": 4,
           "297": 12,
           "298": 14,
           "299": 27,
           "3": 15,
           "30": 3,
           "300": 2,
           "301": 11,
           "302": 4,
           "303": 18,
           "304": 5,
           "305": 11,
           "306": 8,
           "307": 9,
           "308": 24,
           "309": 13,
           "31": 10,
           "310": 3,
           "311": 13,
           "312": 7,
           "313": 10,
           "314": 3,
           "315": 1,
           "316": 15,
           "317": 8,
           "318": 8,
           "319": 9,
           "32": 27,
           "320": 12,
           "321": 1,
           "322": 26,
           "323": 15,
           "324": 26,
           "325": 13,
           "326": 6,
           "327": 0,
           "328": 26,
           "329": 9,
           "33": 9,
           "330": 9,
           "331": 8,
           "332": 3,
           "333": 7,
           "334": 14,
           "335": 4,
           "336": 12,
           "337": 20,
           "338": 4,
           "339": 14,
           "34": 3,
           "340": 18,
           "341": 10,
           "342": 15,
           "343": 26,
           "344": 19,
           "345": 17,
           "346": 22,
           "347": 23,
           "348": 25,
           "349": 19,
           "35": 14,
           "350": 12,
           "351": 14,
           "352": 10,
           "353": 18,
           "354": 20,
           "355": 23,
           "356": 6,
           "357": 10,
           "358": 2,
           "359": 3,
           "36": 14,
           "360": 17,
           "361": 12,
           "362": 11,
           "363": 0,
           "364": 9,
           "365": 4,
           "366": 18,
           "367": 4,
           "368": 1,
           "369": 8,
           "37": 8,
           "370": 8,
           "371": 15,
           "372": 26,
           "373": 13,
           "374": 20,
           "375": 27,
           "376": 10,
           "377": 4,
           "378": 17,
           "379": 4,
           "38": 20,
           "380": 9,
           "381": 7,
           "382": 26,
           "383": 9,
           "384": 14,
           "385": 19,
           "386": 13,
           "387": 13,
           "388": 18,
           "389": 5,
           "39": 6,
           "390": 14,
           "391": 25,
           "392": 13,
           "393": 21,
           "394": 16,
           "395": 6,
           "396": 12,
           "397": 8,
           "398": 21,
           "399": 17,
           "4": 7,
           "40": 6,
           "400": 20,
           "401": 26,
           "402": 7,
           "403": 26,
           "404": 17,
           "405": 5,
           "406": 26,
           "407": 6,
           "408": 0,
           "409": 14,
           "41": 0,
           "410": 12,
           "411": 15,
           "412": 12,
           "413": 9,
           "414": 9,
           "415": 22,
           "416": 4,
           "417": 19,
           "418": 1,
           "419": 6,
           "42": 2,
           "420": 14,
           "421": 5,
           "422": 20,
           "423": 16,
           "424": 9,
           "425": 8,
           "426": 20,
           "427": 10,
           "428": 8,
           "429": 18,
           "43": 16,
           "430": 27,
           "431": 12,
           "432": 3,
           "433": 8,
           "434": 5,
           "435": 12,
           "436": 2,
           "437": 19,
           "438": 5,
           "439": 6,
           "44": 22,
           "440": 2,
           "441": 7,
           "442": 2,
           "443": 18,
           "444": 12,
           "445": 18,
           "446": 23,
           "447": 23,
           "448": 16,
           "449": 8,
           "45": 1,
           "450": 19,
           "451": 5,
           "452": 1,
           "453": 27,
           "454": 5,
           "455": 21,
           "456": 7,
           "457": 6,
           "458": 10,
           "459": 5,
           "46": 27,
           "460": 21,
           "461": 19,
           "462": 13,
           "463": 12,
           "464": 15,
           "465": 8,
           "466": 23,
           "467": 24,
           "468": 4,
           "469": 22,
           "47": 7,
           "470": 17,
           "471": 10,
           "472": 7,
           "473": 1,
           "474": 14,
           "475": 13,
           "476": 20,
           "477": 22,
           "478": 14,
           "479": 2,
           "48": 10,
           "480": 22,
           "481": 5,
           "482": 6,
           "483": 21,
           "484": 17,
           "485": 25,
           "486": 6,
           "487": 27,
           "488": 9,
           "489": 11,
           "49": 4,
           "490": 18,
           "491": 24,
           "492": 11,
           "493": 0,
           "494": 27,
           "495": 11,
           "496": 21,
           "497": 5,
           "498": 10,
           "499": 22,
           "5": 21,
           "50": 5,
           "500": 1,
           "501": 27,
           "502": 5,
           "503": 10,
           "504": 23,
           "505": 7,
           "506": 13,
           "507": 10,
           "508": 22,
           "509": 10,
           "51": 14,
           "510": 3,
           "511": 11,
           "512": 3,
           "513": 22,
           "514": 10,
           "515": 13,
           "516": 19,
           "517": 4,
           "518": 25,
           "519": 9,
           "52": 0,
           "520": 3,
           "521": 25,
           "522": 9,
           "523": 24,
           "524": 9,
           "525": 12,
           "526": 5,
           "527": 21,
           "528": 9,
           "529": 0,
           "53": 24,
           "530": 8,
           "531": 14,
           "532": 13,
           "533": 8,
           "534": 6,
           "535": 21,
           "536": 14,
           "537": 19,
           "538": 26,
           "539": 22,
           "54": 13,
           "540": 24,
           "541": 7,
           "542": 15,
           "543": 5,
           "544": 8,
           "545": 10,
           "546": 12,
           "547": 3,
           "548": 9,
           "549": 14,
           "55": 11,
           "550": 6,
           "551": 13,
           "552": 0,
           "553": 10,
           "554": 9,
           "555": 8,
           "556": 8,
           "557": 24,
           "558": 12,
           "559": 0,
           "56": 11,
           "560": 13,
           "561": 12,
           "562": 26,
           "563": 26,
           "564": 10,
           "565": 12,
           "566": 4,
           "567": 16,
           "568": 2,
           "569": 13,
           "57": 5,
           "570": 11,
           "571": 8,
           "572": 27,
           "573": 3,
           "574": 18,
           "575": 14,
           "576": 4,
           "577": 9,
           "578": 11,
           "579": 7,
           "58": 2,
           "580": 15,
           "581": 1,
           "582": 4,
           "583": 19,
           "584": 0,
           "585": 9,
           "586": 3,
           "587": 19,
           "588": 3,
           "589": 18,
           "59": 5,
           "590": 12,
           "591": 18,
           "592": 7,
           "593": 27,
           "594": 13,
           "595": 13,
           "596": 18,
           "597": 20,
           "598": 10,
           "599": 2,
           "6": 6,
           "60": 0,
           "600": 6,
           "601": 19,
           "602": 23,
           "603": 11,
           "604": 4,
           "605": 1,
           "606": 1,
           "607": 17,
           "608": 13,
           "609": 8,
           "61": 2,
           "610": 10,
           "611": 11,
           "612": 9,
           "613": 4,
           "614": 3,
           "615": 10,
           "616": 26,
           "617": 10,
           "618": 14,
           "619": 14,
           "62": 1,
           "620": 14,
           "621": 3,
           "622": 12,
           "623": 12,
           "624": 8,
           "625": 13,
           "626": 10,
           "627": 11,
           "628": 4,
           "629": 14,
           "63": 10,
           "630": 3,
           "631": 25,
           "632": 5,
           "633": 26,
           "634": 10,
           "635": 22,
           "636": 14,
           "637": 0,
           "638": 3,
           "639": 9,
           "64": 13,
           "640": 2,
           "641": 25,
           "642": 22,
           "643": 3,
           "644": 23,
           "645": 13,
           "646": 0,
           "647": 8,
           "648": 11,
           "649": 26,
           "65": 3,
           "650": 8,
           "651": 6,
           "652": 5,
           "653": 5,
           "654": 6,
           "655": 10,
           "656": 26,
           "657": 1,
           "658": 13,
           "659": 12,
           "66": 15,
           "660": 9,
           "661": 22,
           "662": 23,
           "663": 2,
           "664": 7,
           "665": 10,
           "666": 12,
           "667": 8,
           "668": 5,
           "669": 8,
           "67": 9,
           "670": 10,
           "671": 2,
           "672": 2,
           "673": 11,
           "674": 13,
           "675": 27,
           "676": 12,
           "677": 16,
           "678": 19,
           "679": 12,
           "68": 10,
           "680": 27,
           "681": 0,
           "682": 10,
           "683": 0,
           "684": 11,
           "685": 5,
           "686": 17,
           "687": 27,
           "688": 1,
           "689": 21,
           "69": 18,
           "690": 0,
           "691": 4,
           "692": 16,
           "693": 5,
           "694": 5,
           "695": 8,
           "696": 14,
           "697": 0,
           "698": 19,
           "699": 22,
           "7": 22,
           "70": 0,
           "700": 17,
           "701": 7,
           "702": 7,
           "703": 13,
           "704": 8,
           "705": 8,
           "706": 18,
           "707": 4,
           "708": 17,
           "709": 27,
           "71": 23,
           "710": 1,
           "711": 24,
           "712": 9,
           "713": 18,
           "714": 17,
           "715": 10,
           "716": 15,
           "717": 17,
           "718": 13,
           "719": 9,
           "72": 4,
           "720": 23,
           "721": 22,
           "722": 21,
           "723": 4,
           "724": 9,
           "725": 13,
           "726": 21,
           "727": 15,
           "728": 25,
           "729": 5,
           "73": 7,
           "730": 8,
           "731": 3,
           "732": 23,
           "733": 14,
           "734": 10,
           "735": 1,
           "736": 20,
           "737": 25,
           "738": 15,
           "739": 11,
           "74": 20,
           "740": 11,
           "741": 3,
           "742": 24,
           "743": 22,
           "744": 2,
           "745": 9,
           "746": 10,
           "747": 25,
           "748": 10,
           "749": 8,
           "75": 26,
           "750": 14,
           "751": 19,
           "752": 2,
           "753": 2,
           "754": 25,
           "755": 24,
           "756": 9,
           "757": 25,
           "758": 0,
           "759": 13,
           "76": 20,
           "760": 7,
           "761": 14,
           "762": 18,
           "763": 9,
           "764": 10,
           "765": 14,
           "766": 2,
           "767": 24,
           "768": 22,
           "769": 21,
           "77": 5,
           "770": 6,
           "771": 11,
           "772": 6,
           "773": 20,
           "774": 4,
           "775": 10,
           "776": 8,
           "777": 18,
           "778": 23,
           "779": 3,
           "78": 12,
           "780": 20,
           "781": 2,
           "782": 11,
           "783": 5,
           "784": 3,
           "785": 27,
           "786": 13,
           "787": 2,
           "788": 12,
           "789": 18,
           "79": 23,
           "790": 26,
           "791": 23,
           "792": 20,
           "793": 12,
           "794": 25,
           "795": 10,
           "796": 7,
           "797": 24,
           "798": 12,
           "799": 27,
           "8": 12,
           "80": 5,
           "800": 13,
           "801": 26,
           "802": 7,
           "803": 12,
           "804": 17,
           "805": 18,
           "806": 25,
           "807": 0,
           "808": 18,
           "809": 0,
           "81": 14,
           "810": 14,
           "811": 15,
           "812": 14,
           "813": 2,
           "814": 14,
           "815": 10,
           "816": 18,
           "817": 2,
           "818": 13,
           "819": 21,
           "82": 17,
           "820": 11,
           "821": 20,
           "822": 12,
           "823": 12,
           "824": 14,
           "825": 16,
           "826": 24,
           "827": 13,
           "828": 27,
           "829": 1,
           "83": 8,
           "830": 6,
           "831": 10,
           "832": 20,
           "833": 8,
           "834": 17,
           "835": 12,
           "836": 26,
           "837": 11,
           "838": 7,
           "839": 11,
           "84": 12,
           "840": 14,
           "841": 26,
           "842": 14,
           "843": 7,
           "844": 17,
           "845": 23,
           "846": 4,
           "847": 22,
           "848": 1,
           "849": 3,
           "85": 12,
           "850": 13,
           "851": 13,
           "852": 22,
           "853": 24,
           "854": 6,
           "855": 7,
           "856": 11,
           "857": 18,
           "858": 6,
           "859": 7,
           "86": 10,
           "860": 11,
           "861": 24,
           "862": 19,
           "863": 8,
           "864": 13,
           "865": 19,
           "866": 8,
           "867": 10,
           "868": 3,
           "869": 9,
           "87": 21,
           "870": 14,
           "871": 11,
           "872": 12,
           "873": 7,
           "874": 5,
           "875": 13,
           "876": 11,
           "877": 7,
           "878": 9,
           "879": 4,
           "88": 13,
           "880": 14,
           "881": 13,
           "882": 7,
           "883": 6,
           "884": 7,
           "885": 25,
           "886": 8,
           "887": 16,
           "888": 13,
           "889": 19,
           "89": 18,
           "890": 25,
           "891": 22,
           "892": 17,
           "893": 13,
           "894": 27,
           "895": 19,
           "896": 10,
           "897": 9,
           "898": 8,
           "899": 2,
           "9": 27,
           "90": 13,
           "900": 2,
           "901": 6,
           "902": 21,
           "903": 6,
           "904": 21,
           "905": 1,
           "906": 10,
           "907": 3,
           "908": 25,
           "909": 19,
           "91": 18,
           "910": 8,
           "911": 5,
           "912": 7,
           "913": 9,
           "914": 12,
           "915": 23,
           "916": 5,
           "917": 22,
           "918": 14,
           "919": 1,
           "92": 18,
           "920": 11,
           "921": 10,
           "922": 17,
           "923": 3,
           "924": 18,
           "925": 9,
           "926": 12,
           "927": 11,
           "928": 27,
           "929": 9,
           "93": 19,
           "930": 7,
           "931": 26,
           "932": 16,
           "933": 16,
           "934": 9,
           "935": 5,
           "936": 2,
           "937": 22,
           "938": 13,
           "939": 26,
           "94": 22,
           "940": 12,
           "941": 7,
           "942": 11,
           "943": 24,
           "944": 27,
           "945": 21,
           "946": 5,
           "947": 15,
           "948": 17,
           "949": 21,
           "95": 11,
           "950": 10,
           "951": 26,
           "952": 21,
           "953": 18,
           "954": 6,
           "955": 12,
           "956": 15,
           "957": 18,
           "958": 3,
           "959": 0,
           "96": 19,
           "960": 23,
           "961": 24,
           "962": 4,
           "963": 18,
           "964": 4,
           "965": 14,
           "966": 18,
           "967": 14,
           "968": 6,
           "969": 11,
           "97": 23,
           "970": 11,
           "971": 24,
           "972": 5,
           "973": 19,
           "974": 0,
           "975": 26,
           "976": 7,
           "977": 11,
           "978": 12,
           "979": 24,
           "98": 1,
           "980": 3,
           "981": 13,
           "982": 27,
           "983": 23,
           "984": 6,
           "985": 15,
           "986": 23,
           "987": 2,
           "988": 21,
           "989": 27,
           "99": 13,
           "990": 10,
           "991": 9,
           "992": 0,
           "993": 20,
           "994": 2,
           "995": 11,
           "996": 25,
           "997": 2,
           "998": 8,
           "999": 4,
           "bdata": "Cw8ODwcVBhYMGxkWCBgDDgEDDBkAFQUaDggbFA4YAwobCQMODggUBgYAAhAWARsHCgQFDgAYDQsLBQIFAAIBCg0DDwkKEgAXBAcUGhQFDBcFDhEIDAwKFQ0SDRISExYLExcBDRYWDQwHAhsBGRQHEwgNFhsMERgLABIICw4GDgIbDQYNCAsKAwAUAAsBGA0BDAUOFA4UAQ4NEhAKAQsABg4GGwoHGgoDDQ0GAw4DABoXERYRBBcKCA8SCgUNFQcKFAoBGhoFChobGxEKCRQPFBsRChACCgUTDQoBCAoNCxUADgwJDA0BCAAMGRQVCwwADBQKDgMEBBQZABMMDA0HCgcDCgMIDAMKDQkKFgAECQUbGAAXFhYUDBIHGxkVAAEBExICBAEZGBIEDA4bAgsEEgULCAkYDQMNBwoDAQ8ICAkMARoPGg0GABoJCQgDBw4EDBQEDhIKDxoTERYXGRMMDgoSFBcGCgIDEQwLAAkEEgQBCAgPGg0UGwoEEQQJBxoJDhMNDRIFDhkNFRAGDAgVERQaBxoRBRoGAA4MDwwJCRYEEwEGDgUUEAkIFAoIEhsMAwgFDAITBQYCBwISDBIXFxAIEwUBGwUVBwYKBRUTDQwPCBcYBBYRCgcBDg0UFg4CFgUGFREZBhsJCxIYCwAbCxUFChYBGwUKFwcNChYKAwsDFgoNEwQZCQMZCRgJDAUVCQAIDg0IBhUOExoWGAcPBQgKDAMJDgYNAAoJCAgYDAANDBoaCgwEEAINCwgbAxIOBAkLBw8BBBMACQMTAxIMEgcbDQ0SFAoCBhMXCwQBARENCAoLCQQDChoKDg4OAwwMCA0KCwQOAxkFGgoWDgADCQIZFgMXDQAICxoIBgUFBgoaAQ0MCRYXAgcKDAgFCAoCAgsNGwwQEwwbAAoACwURGwEVAAQQBQUIDgATFhEHBw0ICBIEERsBGAkSEQoPEQ0JFxYVBAkNFQ8ZBQgDFw4KARQZDwsLAxgWAgkKGQoIDhMCAhkYCRkADQcOEgkKDgIYFhUGCwYUBAoIEhcDFAILBQMbDQIMEhoXFAwZCgcYDBsNGgcMERIZABIADg8OAg4KEgINFQsUDAwOEBgNGwEGChQIEQwaCwcLDhoOBxEXBBYBAw0NFhgGBwsSBgcLGBMIDRMICgMJDgsMBwUNCwcJBA4NBwYHGQgQDRMZFhENGxMKCQgCAgYVBhUBCgMZEwgFBwkMFwUWDgELChEDEgkMCxsJBxoQEAkFAhYNGgwHCxgbFQUPERUKGhUSBgwPEgMAFxgEEgQOEg4GCwsYBRMAGgcLDBgDDRsXBg8XAhUbCgkAFAILGQIIBAwOBxcADA4FCRgMFQUWAA0DAQAYAQAbDQIWAwwQFAcLEQMREgAGDhATGhQLFwwMAxYGAwEYGBEZAg0MFhAFBwMbGhgNAgoYGBEUDA0XBgAOEhUJEQwYEgQSCRgZCQQADggDEw8=",
           "dtype": "i1",
           "shape": "1100"
          },
          "bdata": "Cw8ODwcVBhYMGxkWCBgDDgEDDBkAFQUaDggbFA4YAwobCQMODggUBgYAAhAWARsHCgQFDgAYDQsLBQIFAAIBCg0DDwkKEgAXBAcUGhQFDBcFDhEIDAwKFQ0SDRISExYLExcBDRYWDQwHAhsBGRQHEwgNFhsMERgLABIICw4GDgIbDQYNCAsKAwAUAAsBGA0BDAUOFA4UAQ4NEhAKAQsABg4GGwoHGgoDDQ0GAw4DABoXERYRBBcKCA8SCgUNFQcKFAoBGhoFChobGxEKCRQPFBsRChACCgUTDQoBCAoNCxUADgwJDA0BCAAMGRQVCwwADBQKDgMEBBQZABMMDA0HCgcDCgMIDAMKDQkKFgAECQUbGAAXFhYUDBIHGxkVAAEBExICBAEZGBIEDA4bAgsEEgULCAkYDQMNBwoDAQ8ICAkMARoPGg0GABoJCQgDBw4EDBQEDhIKDxoTERYXGRMMDgoSFBcGCgIDEQwLAAkEEgQBCAgPGg0UGwoEEQQJBxoJDhMNDRIFDhkNFRAGDAgVERQaBxoRBRoGAA4MDwwJCRYEEwEGDgUUEAkIFAoIEhsMAwgFDAITBQYCBwISDBIXFxAIEwUBGwUVBwYKBRUTDQwPCBcYBBYRCgcBDg0UFg4CFgUGFREZBhsJCxIYCwAbCxUFChYBGwUKFwcNChYKAwsDFgoNEwQZCQMZCRgJDAUVCQAIDg0IBhUOExoWGAcPBQgKDAMJDgYNAAoJCAgYDAANDBoaCgwEEAINCwgbAxIOBAkLBw8BBBMACQMTAxIMEgcbDQ0SFAoCBhMXCwQBARENCAoLCQQDChoKDg4OAwwMCA0KCwQOAxkFGgoWDgADCQIZFgMXDQAICxoIBgUFBgoaAQ0MCRYXAgcKDAgFCAoCAgsNGwwQEwwbAAoACwURGwEVAAQQBQUIDgATFhEHBw0ICBIEERsBGAkSEQoPEQ0JFxYVBAkNFQ8ZBQgDFw4KARQZDwsLAxgWAgkKGQoIDhMCAhkYCRkADQcOEgkKDgIYFhUGCwYUBAoIEhcDFAILBQMbDQIMEhoXFAwZCgcYDBsNGgcMERIZABIADg8OAg4KEgINFQsUDAwOEBgNGwEGChQIEQwaCwcLDhoOBxEXBBYBAw0NFhgGBwsSBgcLGBMIDRMICgMJDgsMBwUNCwcJBA4NBwYHGQgQDRMZFhENGxMKCQgCAgYVBhUBCgMZEwgFBwkMFwUWDgELChEDEgkMCxsJBxoQEAkFAhYNGgwHCxgbFQUPERUKGhUSBgwPEgMAFxgEEgQOEg4GCwsYBRMAGgcLDBgDDRsXBg8XAhUbCgkAFAILGQIIBAwOBxcADA4FCRgMFQUWAA0DAQAYAQAbDQIWAwwQFAcLEQMREgAGDhATGhQLFwwMAxYGAwEYGBEZAg0MFhAFBwMbGhgNAgoYGBEUDA0XBgAOEhUJEQwYEgQSCRgZCQQADggDEw8=",
          "dtype": "i1"
         },
         "yaxis": "y"
        }
       ],
       "layout": {
        "autosize": true,
        "coloraxis": {
         "colorbar": {
          "title": {
           "text": "peer_pressure"
          }
         },
         "colorscale": [
          [
           0,
           "#000011"
          ],
          [
           0.1111111111111111,
           "#000012"
          ],
          [
           0.2222222222222222,
           "#000013"
          ],
          [
           0.3333333333333333,
           "#000014"
          ],
          [
           0.4444444444444444,
           "#000015"
          ],
          [
           0.5555555555555556,
           "#000016"
          ],
          [
           0.6666666666666666,
           "#000017"
          ],
          [
           0.7777777777777778,
           "#000018"
          ],
          [
           0.8888888888888888,
           "#000019"
          ],
          [
           1,
           "#000020"
          ]
         ]
        },
        "legend": {
         "tracegroupgap": 0
        },
        "template": {
         "data": {
          "candlestick": [
           {
            "decreasing": {
             "line": {
              "color": "#000033"
             }
            },
            "increasing": {
             "line": {
              "color": "#000032"
             }
            },
            "type": "candlestick"
           }
          ],
          "contour": [
           {
            "colorscale": [
             [
              0,
              "#000011"
             ],
             [
              0.1111111111111111,
              "#000012"
             ],
             [
              0.2222222222222222,
              "#000013"
             ],
             [
              0.3333333333333333,
              "#000014"
             ],
             [
              0.4444444444444444,
              "#000015"
             ],
             [
              0.5555555555555556,
              "#000016"
             ],
             [
              0.6666666666666666,
              "#000017"
             ],
             [
              0.7777777777777778,
              "#000018"
             ],
             [
              0.8888888888888888,
              "#000019"
             ],
             [
              1,
              "#000020"
             ]
            ],
            "type": "contour"
           }
          ],
          "contourcarpet": [
           {
            "colorscale": [
             [
              0,
              "#000011"
             ],
             [
              0.1111111111111111,
              "#000012"
             ],
             [
              0.2222222222222222,
              "#000013"
             ],
             [
              0.3333333333333333,
              "#000014"
             ],
             [
              0.4444444444444444,
              "#000015"
             ],
             [
              0.5555555555555556,
              "#000016"
             ],
             [
              0.6666666666666666,
              "#000017"
             ],
             [
              0.7777777777777778,
              "#000018"
             ],
             [
              0.8888888888888888,
              "#000019"
             ],
             [
              1,
              "#000020"
             ]
            ],
            "type": "contourcarpet"
           }
          ],
          "heatmap": [
           {
            "colorscale": [
             [
              0,
              "#000011"
             ],
             [
              0.1111111111111111,
              "#000012"
             ],
             [
              0.2222222222222222,
              "#000013"
             ],
             [
              0.3333333333333333,
              "#000014"
             ],
             [
              0.4444444444444444,
              "#000015"
             ],
             [
              0.5555555555555556,
              "#000016"
             ],
             [
              0.6666666666666666,
              "#000017"
             ],
             [
              0.7777777777777778,
              "#000018"
             ],
             [
              0.8888888888888888,
              "#000019"
             ],
             [
              1,
              "#000020"
             ]
            ],
            "type": "heatmap"
           }
          ],
          "histogram2d": [
           {
            "colorscale": [
             [
              0,
              "#000011"
             ],
             [
              0.1111111111111111,
              "#000012"
             ],
             [
              0.2222222222222222,
              "#000013"
             ],
             [
              0.3333333333333333,
              "#000014"
             ],
             [
              0.4444444444444444,
              "#000015"
             ],
             [
              0.5555555555555556,
              "#000016"
             ],
             [
              0.6666666666666666,
              "#000017"
             ],
             [
              0.7777777777777778,
              "#000018"
             ],
             [
              0.8888888888888888,
              "#000019"
             ],
             [
              1,
              "#000020"
             ]
            ],
            "type": "histogram2d"
           }
          ],
          "icicle": [
           {
            "textfont": {
             "color": "white"
            },
            "type": "icicle"
           }
          ],
          "sankey": [
           {
            "textfont": {
             "color": "#000036"
            },
            "type": "sankey"
           }
          ],
          "scatter": [
           {
            "marker": {
             "line": {
              "width": 0
             }
            },
            "type": "scatter"
           }
          ],
          "table": [
           {
            "cells": {
             "fill": {
              "color": "#000038"
             },
             "font": {
              "color": "#000037"
             },
             "line": {
              "color": "#000039"
             }
            },
            "header": {
             "fill": {
              "color": "#000040"
             },
             "font": {
              "color": "#000036"
             },
             "line": {
              "color": "#000039"
             }
            },
            "type": "table"
           }
          ],
          "waterfall": [
           {
            "connector": {
             "line": {
              "color": "#000036",
              "width": 2
             }
            },
            "decreasing": {
             "marker": {
              "color": "#000033"
             }
            },
            "increasing": {
             "marker": {
              "color": "#000032"
             }
            },
            "totals": {
             "marker": {
              "color": "#000034"
             }
            },
            "type": "waterfall"
           }
          ]
         },
         "layout": {
          "coloraxis": {
           "colorscale": [
            [
             0,
             "#000011"
            ],
            [
             0.1111111111111111,
             "#000012"
            ],
            [
             0.2222222222222222,
             "#000013"
            ],
            [
             0.3333333333333333,
             "#000014"
            ],
            [
             0.4444444444444444,
             "#000015"
            ],
            [
             0.5555555555555556,
             "#000016"
            ],
            [
             0.6666666666666666,
             "#000017"
            ],
            [
             0.7777777777777778,
             "#000018"
            ],
            [
             0.8888888888888888,
             "#000019"
            ],
            [
             1,
             "#000020"
            ]
           ]
          },
          "colorscale": {
           "diverging": [
            [
             0,
             "#000021"
            ],
            [
             0.1,
             "#000022"
            ],
            [
             0.2,
             "#000023"
            ],
            [
             0.3,
             "#000024"
            ],
            [
             0.4,
             "#000025"
            ],
            [
             0.5,
             "#000026"
            ],
            [
             0.6,
             "#000027"
            ],
            [
             0.7,
             "#000028"
            ],
            [
             0.8,
             "#000029"
            ],
            [
             0.9,
             "#000030"
            ],
            [
             1,
             "#000031"
            ]
           ],
           "sequential": [
            [
             0,
             "#000011"
            ],
            [
             0.1111111111111111,
             "#000012"
            ],
            [
             0.2222222222222222,
             "#000013"
            ],
            [
             0.3333333333333333,
             "#000014"
            ],
            [
             0.4444444444444444,
             "#000015"
            ],
            [
             0.5555555555555556,
             "#000016"
            ],
            [
             0.6666666666666666,
             "#000017"
            ],
            [
             0.7777777777777778,
             "#000018"
            ],
            [
             0.8888888888888888,
             "#000019"
            ],
            [
             1,
             "#000020"
            ]
           ],
           "sequentialminus": [
            [
             0,
             "#000011"
            ],
            [
             0.1111111111111111,
             "#000012"
            ],
            [
             0.2222222222222222,
             "#000013"
            ],
            [
             0.3333333333333333,
             "#000014"
            ],
            [
             0.4444444444444444,
             "#000015"
            ],
            [
             0.5555555555555556,
             "#000016"
            ],
            [
             0.6666666666666666,
             "#000017"
            ],
            [
             0.7777777777777778,
             "#000018"
            ],
            [
             0.8888888888888888,
             "#000019"
            ],
            [
             1,
             "#000020"
            ]
           ]
          },
          "colorway": [
           "#000001",
           "#000002",
           "#000003",
           "#000004",
           "#000005",
           "#000006",
           "#000007",
           "#000008",
           "#000009",
           "#000010"
          ]
         }
        },
        "title": {
         "text": "Depression vs Self Esteem"
        },
        "xaxis": {
         "anchor": "y",
         "autorange": true,
         "domain": [
          0,
          1
         ],
         "range": [
          -1.962384669978708,
          31.962384669978707
         ],
         "title": {
          "text": "Self Esteem"
         },
         "type": "linear"
        },
        "yaxis": {
         "anchor": "x",
         "autorange": true,
         "domain": [
          0,
          1
         ],
         "range": [
          -2.2281553398058254,
          29.228155339805824
         ],
         "title": {
          "text": "Depression"
         },
         "type": "linear"
        }
       }
      }
     },
     "metadata": {},
     "output_type": "display_data"
    }
   ],
   "source": [
    "import pandas as pd\n",
    "import plotly.express as px\n",
    "\n",
    "# Load your dataset\n",
    "df = pd.read_csv('StressLevelDataset.csv')\n",
    "\n",
    "# Manually set the x and y axes\n",
    "x_var = 'self_esteem'\n",
    "y_var = 'depression'  \n",
    "\n",
    "# Plot scatter chart \n",
    "fig = px.scatter(\n",
    "    df,\n",
    "    x=x_var,\n",
    "    y=y_var,\n",
    "    color='peer_pressure', \n",
    "    title=f'{y_var.replace(\"_\", \" \").title()} vs {x_var.replace(\"_\", \" \").title()}',\n",
    "    labels={\n",
    "        x_var: x_var.replace('_', ' ').title(),\n",
    "        y_var: y_var.replace('_', ' ').title()\n",
    "    },\n",
    "    opacity=0.7,\n",
    "    color_discrete_sequence=px.colors.sequential.Teal\n",
    ")\n",
    "\n",
    "# Show the plot\n",
    "fig.show()"
   ]
  },
  {
   "cell_type": "code",
   "execution_count": 22,
   "id": "164319f2-0731-441b-a28f-3e42854088d0",
   "metadata": {},
   "outputs": [
    {
     "data": {
      "image/png": "[encoded data removed]",
      "text/plain": [
       "<Figure size 3000x500 with 6 Axes>"
      ]
     },
     "metadata": {},
     "output_type": "display_data"
    }
   ],
   "source": [
    "import pandas as pd\n",
    "import matplotlib.pyplot as plt\n",
    "DF = pd.read_csv('StressLevelDataset.csv')\n",
    "# Create High/Low depression labels\n",
    "DF['depression_level'] = DF['depression'].apply(lambda x: 'High' if x >= 7 else 'Low')\n",
    "\n",
    "# Unique peer pressure levels\n",
    "peer_levels = DF['peer_pressure'].unique()\n",
    "\n",
    "# Set up color scheme\n",
    "colors = {'High': '#FF6347', 'Low': '#ADD8E6'}\n",
    "\n",
    "# Plot one pie chart per peer pressure level\n",
    "fig, axes = plt.subplots(1, len(peer_levels), figsize=(5 * len(peer_levels), 5))\n",
    "\n",
    "for i, level in enumerate(sorted(peer_levels)):\n",
    "    # Filter by peer pressure level\n",
    "    group = DF[DF['peer_pressure'] == level]['depression_level'].value_counts()\n",
    "    \n",
    "    # Pie chart\n",
    "    axes[i].pie(\n",
    "        group,\n",
    "        labels=group.index,\n",
    "        autopct='%1.1f%%',\n",
    "        colors=[colors[label] for label in group.index],\n",
    "        startangle=90,\n",
    "        explode=[0.05 if label == 'High' else 0 for label in group.index]\n",
    "    )\n",
    "    axes[i].set_title(f'Peer Pressure: {level}')\n",
    "\n",
    "plt.suptitle('Depression Levels by Peer Pressure') # Overall title for all subplots\n",
    "\n",
    "# Display all charts\n",
    "plt.show()   "
   ]
  },
  {
   "cell_type": "markdown",
   "id": "2374dd23-0c5c-471d-8054-5f9bf5efc43b",
   "metadata": {
    "jp-MarkdownHeadingCollapsed": true
   },
   "source": [
    "# 📊 Discussion: Graph Selection and Justification\n",
    "\n",
    "In this mini project, four types of visualizations were selected to analyze the relationships between academic, lifestyle and social factors on student mental health. These graphs provide meaningful insights into how various features such as anxiety, depression, self-esteem and peer pressure interact within the dataset. Below is the discussion and reasoning behind the selection of each graph.\n",
    "\n",
    "### 1. Violin Plot: Anxiety Level by Academic Performance\n",
    "\n",
    "**Why this graph?**  \n",
    "This plot displays both the **distribution** and **density** of anxiety levels across different categories of academic performance. By including a boxplot and individual data points, it gives a deeper understanding of where anxiety levels tend to cluster among students. This graph directly supports **Objective 1**, which aims to explore the relationship between academic-related stressors and mental health.\n",
    "\n",
    "---\n",
    "\n",
    "### 2. Bar Chart: Average Anxiety Level by Study Load\n",
    "\n",
    "**Why this graph?**  \n",
    "The bar chart allows for a clear visual comparison of **average anxiety levels** across varying **study load** categories. It helps identify trends in how workload may influence students' stress and anxiety levels, which is also part of **Objective 1**. Bar charts are simple yet effective tools for highlighting category-based differences.\n",
    "\n",
    "---\n",
    "\n",
    "### 3. Grouped Bar Chart: Average Headache Levels by Living Conditions\n",
    "\n",
    "**Why this graph?**  \n",
    "This grouped bar chart provides insight into the impact of **living conditions** on the physical symptom of headaches among students. By comparing average headache levels across different environments, this graph highlights how lifestyle and environmental factors contribute to students’ psychological well-being. It directly supports **Objective 2**, which focuses on lifestyle and environmental influences on mental health.\n",
    "\n",
    "---\n",
    "\n",
    "### 4. Scatter Plot: Depression vs. Self-Esteem with Peer Pressure Coloring\n",
    "\n",
    "**Why this graph?**  \n",
    "The scatter plot was chosen to examine the **relationship between self-esteem and depression**. By incorporating **peer pressure** as the color parameter, this graph adds a third layer of insight. It allows us to see if certain combinations (e.g., low self-esteem and high peer pressure) result in more severe depression. This supports **Objective 3**, which focuses on the impact of personal and social support on mental health.\n",
    "\n",
    "---\n",
    "\n",
    "### 5. Pie Charts: Depression Level (High/Low) by Peer Pressure Category\n",
    "\n",
    "**Why this graph?**  \n",
    "Pie charts help show the **distribution of depression levels** (High vs. Low) across different **peer pressure levels**. By separating the visualizations for each peer pressure level, we can directly compare how the proportion of students with high depression changes as peer pressure increases. This further reinforces the analysis from the scatter plot and aligns with **Objective 3**.\n",
    "\n",
    "---\n",
    "\n",
    "## Summary\n",
    "\n",
    "| Graph Type          | Purpose                                                     | Objective Linked       |\n",
    "|---------------------|-------------------------------------------------------------|------------------------|\n",
    "| Violin Plot         | Visualizing anxiety distribution by academic performance     | Objective 1            |\n",
    "| Bar Chart           | Comparing average anxiety by study load                      | Objective 1            |\n",
    "| Grouped Bar Chart   | Comparing average headache by living conditions              | Objective 2            |\n",
    "| Scatter Plot        | Exploring depression vs. self-esteem + peer pressure         | Objective 3            |\n",
    "| Pie Charts          | Showing depression severity within peer pressure levels      | Objective 3            |\n",
    "\n",
    "By using a variety of visualizations, the dashboard ensures a well-rounded and interactive approach to analyzing student mental health, supporting both academic insights and practical applications.\n"
   ]
  },
  {
   "cell_type": "markdown",
   "id": "6927e760-edd7-49a1-98c1-c7365c6a0700",
   "metadata": {},
   "source": [
    "# 🚫 Discussion: Unselected Graphs and Justification\n",
    "\n",
    "While several visualizations were created during the analysis process, not all were included in the final dashboard. Below are two graphs that were excluded, along with the reasons for their omission.\n",
    "\n",
    "---\n",
    "\n",
    "### 1. Line Chart: Average Headache Level by Living Conditions"
   ]
  },
  {
   "cell_type": "code",
   "execution_count": 25,
   "id": "8686f24f-91bd-42f7-8b3c-e7238178e6d5",
   "metadata": {},
   "outputs": [
    {
     "data": {
      "application/vnd.plotly.v1+json": {
       "config": {
        "plotlyServerURL": "https://plot.ly"
       },
       "data": [
        {
         "hovertemplate": "Living Conditions=%{x}<br>Average Headache Level=%{y}<extra></extra>",
         "legendgroup": "",
         "line": {
          "color": "#000001",
          "dash": "solid",
          "shape": "linear"
         },
         "marker": {
          "symbol": "circle"
         },
         "mode": "lines+markers",
         "name": "",
         "orientation": "v",
         "showlegend": false,
         "type": "scatter",
         "x": {
          "_inputArray": {
           "0": 0,
           "1": 1,
           "2": 2,
           "3": 3,
           "4": 4,
           "5": 5,
           "bdata": "AAECAwQF",
           "dtype": "i1",
           "shape": "6"
          },
          "bdata": "AAECAwQF",
          "dtype": "i1"
         },
         "xaxis": "x",
         "y": {
          "_inputArray": {
           "0": 3.3793103448275863,
           "1": 3.6136363636363638,
           "2": 3.2023121387283235,
           "3": 1.8073394495412844,
           "4": 1.2222222222222223,
           "5": 2.878787878787879,
           "bdata": "Po2w3NMIC0DpoosuuugMQC9gm9NVnglArs5Ixdzq/D/kOI7jOI7zPwgffPDBBwdA",
           "dtype": "f8",
           "shape": "6"
          },
          "bdata": "Po2w3NMIC0DpoosuuugMQC9gm9NVnglArs5Ixdzq/D/kOI7jOI7zPwgffPDBBwdA",
          "dtype": "f8"
         },
         "yaxis": "y"
        }
       ],
       "layout": {
        "autosize": true,
        "legend": {
         "tracegroupgap": 0
        },
        "template": {
         "data": {
          "candlestick": [
           {
            "decreasing": {
             "line": {
              "color": "#000033"
             }
            },
            "increasing": {
             "line": {
              "color": "#000032"
             }
            },
            "type": "candlestick"
           }
          ],
          "contour": [
           {
            "colorscale": [
             [
              0,
              "#000011"
             ],
             [
              0.1111111111111111,
              "#000012"
             ],
             [
              0.2222222222222222,
              "#000013"
             ],
             [
              0.3333333333333333,
              "#000014"
             ],
             [
              0.4444444444444444,
              "#000015"
             ],
             [
              0.5555555555555556,
              "#000016"
             ],
             [
              0.6666666666666666,
              "#000017"
             ],
             [
              0.7777777777777778,
              "#000018"
             ],
             [
              0.8888888888888888,
              "#000019"
             ],
             [
              1,
              "#000020"
             ]
            ],
            "type": "contour"
           }
          ],
          "contourcarpet": [
           {
            "colorscale": [
             [
              0,
              "#000011"
             ],
             [
              0.1111111111111111,
              "#000012"
             ],
             [
              0.2222222222222222,
              "#000013"
             ],
             [
              0.3333333333333333,
              "#000014"
             ],
             [
              0.4444444444444444,
              "#000015"
             ],
             [
              0.5555555555555556,
              "#000016"
             ],
             [
              0.6666666666666666,
              "#000017"
             ],
             [
              0.7777777777777778,
              "#000018"
             ],
             [
              0.8888888888888888,
              "#000019"
             ],
             [
              1,
              "#000020"
             ]
            ],
            "type": "contourcarpet"
           }
          ],
          "heatmap": [
           {
            "colorscale": [
             [
              0,
              "#000011"
             ],
             [
              0.1111111111111111,
              "#000012"
             ],
             [
              0.2222222222222222,
              "#000013"
             ],
             [
              0.3333333333333333,
              "#000014"
             ],
             [
              0.4444444444444444,
              "#000015"
             ],
             [
              0.5555555555555556,
              "#000016"
             ],
             [
              0.6666666666666666,
              "#000017"
             ],
             [
              0.7777777777777778,
              "#000018"
             ],
             [
              0.8888888888888888,
              "#000019"
             ],
             [
              1,
              "#000020"
             ]
            ],
            "type": "heatmap"
           }
          ],
          "histogram2d": [
           {
            "colorscale": [
             [
              0,
              "#000011"
             ],
             [
              0.1111111111111111,
              "#000012"
             ],
             [
              0.2222222222222222,
              "#000013"
             ],
             [
              0.3333333333333333,
              "#000014"
             ],
             [
              0.4444444444444444,
              "#000015"
             ],
             [
              0.5555555555555556,
              "#000016"
             ],
             [
              0.6666666666666666,
              "#000017"
             ],
             [
              0.7777777777777778,
              "#000018"
             ],
             [
              0.8888888888888888,
              "#000019"
             ],
             [
              1,
              "#000020"
             ]
            ],
            "type": "histogram2d"
           }
          ],
          "icicle": [
           {
            "textfont": {
             "color": "white"
            },
            "type": "icicle"
           }
          ],
          "sankey": [
           {
            "textfont": {
             "color": "#000036"
            },
            "type": "sankey"
           }
          ],
          "scatter": [
           {
            "marker": {
             "line": {
              "width": 0
             }
            },
            "type": "scatter"
           }
          ],
          "table": [
           {
            "cells": {
             "fill": {
              "color": "#000038"
             },
             "font": {
              "color": "#000037"
             },
             "line": {
              "color": "#000039"
             }
            },
            "header": {
             "fill": {
              "color": "#000040"
             },
             "font": {
              "color": "#000036"
             },
             "line": {
              "color": "#000039"
             }
            },
            "type": "table"
           }
          ],
          "waterfall": [
           {
            "connector": {
             "line": {
              "color": "#000036",
              "width": 2
             }
            },
            "decreasing": {
             "marker": {
              "color": "#000033"
             }
            },
            "increasing": {
             "marker": {
              "color": "#000032"
             }
            },
            "totals": {
             "marker": {
              "color": "#000034"
             }
            },
            "type": "waterfall"
           }
          ]
         },
         "layout": {
          "coloraxis": {
           "colorscale": [
            [
             0,
             "#000011"
            ],
            [
             0.1111111111111111,
             "#000012"
            ],
            [
             0.2222222222222222,
             "#000013"
            ],
            [
             0.3333333333333333,
             "#000014"
            ],
            [
             0.4444444444444444,
             "#000015"
            ],
            [
             0.5555555555555556,
             "#000016"
            ],
            [
             0.6666666666666666,
             "#000017"
            ],
            [
             0.7777777777777778,
             "#000018"
            ],
            [
             0.8888888888888888,
             "#000019"
            ],
            [
             1,
             "#000020"
            ]
           ]
          },
          "colorscale": {
           "diverging": [
            [
             0,
             "#000021"
            ],
            [
             0.1,
             "#000022"
            ],
            [
             0.2,
             "#000023"
            ],
            [
             0.3,
             "#000024"
            ],
            [
             0.4,
             "#000025"
            ],
            [
             0.5,
             "#000026"
            ],
            [
             0.6,
             "#000027"
            ],
            [
             0.7,
             "#000028"
            ],
            [
             0.8,
             "#000029"
            ],
            [
             0.9,
             "#000030"
            ],
            [
             1,
             "#000031"
            ]
           ],
           "sequential": [
            [
             0,
             "#000011"
            ],
            [
             0.1111111111111111,
             "#000012"
            ],
            [
             0.2222222222222222,
             "#000013"
            ],
            [
             0.3333333333333333,
             "#000014"
            ],
            [
             0.4444444444444444,
             "#000015"
            ],
            [
             0.5555555555555556,
             "#000016"
            ],
            [
             0.6666666666666666,
             "#000017"
            ],
            [
             0.7777777777777778,
             "#000018"
            ],
            [
             0.8888888888888888,
             "#000019"
            ],
            [
             1,
             "#000020"
            ]
           ],
           "sequentialminus": [
            [
             0,
             "#000011"
            ],
            [
             0.1111111111111111,
             "#000012"
            ],
            [
             0.2222222222222222,
             "#000013"
            ],
            [
             0.3333333333333333,
             "#000014"
            ],
            [
             0.4444444444444444,
             "#000015"
            ],
            [
             0.5555555555555556,
             "#000016"
            ],
            [
             0.6666666666666666,
             "#000017"
            ],
            [
             0.7777777777777778,
             "#000018"
            ],
            [
             0.8888888888888888,
             "#000019"
            ],
            [
             1,
             "#000020"
            ]
           ]
          },
          "colorway": [
           "#000001",
           "#000002",
           "#000003",
           "#000004",
           "#000005",
           "#000006",
           "#000007",
           "#000008",
           "#000009",
           "#000010"
          ]
         }
        },
        "title": {
         "text": "Average Headache Level by Living Conditions"
        },
        "xaxis": {
         "anchor": "y",
         "autorange": true,
         "domain": [
          0,
          1
         ],
         "range": [
          -0.3213166144200627,
          5.321316614420063
         ],
         "title": {
          "text": "Living Conditions"
         },
         "type": "linear"
        },
        "yaxis": {
         "anchor": "x",
         "autorange": true,
         "domain": [
          0,
          1
         ],
         "range": [
          1.024872511522997,
          3.810986074335589
         ],
         "title": {
          "text": "Average Headache Level"
         },
         "type": "linear"
        }
       }
      }
     },
     "metadata": {},
     "output_type": "display_data"
    }
   ],
   "source": [
    "import pandas as pd\n",
    "import plotly.express as px\n",
    "\n",
    "# Load your dataset\n",
    "DF = pd.read_csv('StressLevelDataset.csv')\n",
    "\n",
    "# Group by living condition and calculate average headache\n",
    "line_data = DF.groupby('living_conditions')['headache'].mean().reset_index()\n",
    "\n",
    "# Create line chart\n",
    "fig = px.line(\n",
    "    line_data,\n",
    "    x='living_conditions',\n",
    "    y='headache',\n",
    "    markers=True,\n",
    "    title='Average Headache Level by Living Conditions',\n",
    "    labels={'living_conditions': 'Living Conditions', 'headache': 'Average Headache Level'},\n",
    "    line_shape='linear'\n",
    ")\n",
    "\n",
    "fig.show()\n"
   ]
  },
  {
   "cell_type": "markdown",
   "id": "67e17010-c1a6-416a-bc72-fa5d2659a121",
   "metadata": {},
   "source": [
    "**Why this graph was not selected?**\n",
    "\n",
    "This line chart does not effectively fulfill Objective 2, which aims to investigate how environmental conditions affect psychological well-being. Although it presents a general trend of headache levels across different living conditions, it lacks the comparative clarity and categorical separation that would help emphasize specific variations. The grouped bar chart was preferred instead, as it better highlights differences in headache levels across living condition categories."
   ]
  },
  {
   "cell_type": "markdown",
   "id": "c8d2ffcb-85c7-4fbf-8c6d-6d0300c50edd",
   "metadata": {},
   "source": [
    "### 2. ❌ Pie Chart: Overall Depression Level Distribution"
   ]
  },
  {
   "cell_type": "code",
   "execution_count": 28,
   "id": "64dbd9c7-e579-4707-a026-1b92dfa731ec",
   "metadata": {},
   "outputs": [
    {
     "data": {
      "image/png": "[encoded data removed]",
      "text/plain": [
       "<Figure size 600x600 with 1 Axes>"
      ]
     },
     "metadata": {},
     "output_type": "display_data"
    }
   ],
   "source": [
    "import pandas as pd\n",
    "import matplotlib.pyplot as plt\n",
    "\n",
    "# Create high/low depression category\n",
    "DF['depression_level'] = DF['depression'].apply(lambda x: 'High' if x >= 7 else 'Low')\n",
    "\n",
    "# Count distribution\n",
    "counts = DF['depression_level'].value_counts()\n",
    "\n",
    "# Pie chart\n",
    "colors = ['#FF6347', '#ADD8E6']  # High: Tomato red, Low: Light blue\n",
    "explode = [0.05, 0]  # Slightly separate the 'High' slice\n",
    "\n",
    "plt.figure(figsize=(6,6))\n",
    "plt.pie(counts, labels=counts.index, autopct='%1.1f%%', startangle=90, colors=colors, explode=explode)\n",
    "plt.title('Overall Depression Level Distribution')\n",
    "plt.show()\n"
   ]
  },
  {
   "cell_type": "markdown",
   "id": "4cdd9c66-83ba-4587-8af1-7644f243ee3d",
   "metadata": {},
   "source": [
    "**Why this graph was not selected?**\n",
    "\n",
    "This graph does not address the deeper aspects of Objective 3, which focuses on personal and social support factors (such as peer pressure and self-esteem). It merely shows the overall proportion of students with high or low depression, without any breakdown by relevant social or psychological variables. Instead, the chosen scatter plot and categorized pie charts offer more actionable insights by examining depression levels within different peer pressure categories.\n",
    "\n",
    "---\n",
    "\n",
    "These unselected graphs were still valuable during the exploratory data analysis phase, helping to guide the development of more insightful and objective-aligned visualizations."
   ]
  },
  {
   "cell_type": "markdown",
   "id": "15bee8d8-4b6f-4c0d-931a-36b7554e00ec",
   "metadata": {},
   "source": [
    "### Conclusion\n",
    "\n",
    "Through this project, all four research objectives were effectively addressed. The analysis revealed that academic factors like study load and academic performance significantly contribute to students’ stress and anxiety levels, fulfilling the first objective. The second objective was achieved by showing how lifestyle and environmental elements such as sleep quality and living conditions are closely linked to psychological well-being, particularly symptoms like depression and headaches. The third objective focused on social and personal factors, and findings confirmed that self-esteem and peer pressure play a crucial role in shaping students’ mental health. Lastly, the development of an interactive Streamlit dashboard successfully met the fourth objective by providing a user-friendly platform for visualizing data trends and enabling deeper exploration of mental health indicators. Overall, this project offers valuable insights and a practical tool for understanding and improving student mental health."
   ]
  }
 ],
 "metadata": {
  "kernelspec": {
   "display_name": "Python [conda env:streamlitenv]",
   "language": "python",
   "name": "conda-env-streamlitenv-py"
  },
  "language_info": {
   "codemirror_mode": {
    "name": "ipython",
    "version": 3
   },
   "file_extension": ".py",
   "mimetype": "text/x-python",
   "name": "python",
   "nbconvert_exporter": "python",
   "pygments_lexer": "ipython3",
   "version": "3.12.9"
  }
 },
 "nbformat": 4,
 "nbformat_minor": 5
}
